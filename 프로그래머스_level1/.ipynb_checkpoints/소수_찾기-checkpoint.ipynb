{
 "cells": [
  {
   "cell_type": "code",
   "execution_count": null,
   "metadata": {},
   "outputs": [],
   "source": [
    "#1부터 입력받은 숫자 n사이에 있는 소수의 개수를 반환하는 함수.\n",
    "#소수는 1과 자기 자신으로만 나누어지는 수를 의미. n이 1과 자기 자신이 아닌 다른 수로 나눠지면 소수가 아니다.\n",
    "def solution(n):\n",
    "    sum=0\n",
    "    for i in range(2,n+1):\n",
    "        cnt=0\n",
    "        for k in range(2,i):\n",
    "            if i % k ==0:\n",
    "                cnt +=1\n",
    "        '''if n>1 and cnt==0:\n",
    "            answer.append(i)\n",
    "    return len(answer)'''\n",
    "        if cnt==0:\n",
    "            sum+=1\n",
    "\n",
    "    return sum"
   ]
  }
 ],
 "metadata": {
  "kernelspec": {
   "display_name": "Python 3",
   "language": "python",
   "name": "python3"
  },
  "language_info": {
   "codemirror_mode": {
    "name": "ipython",
    "version": 3
   },
   "file_extension": ".py",
   "mimetype": "text/x-python",
   "name": "python",
   "nbconvert_exporter": "python",
   "pygments_lexer": "ipython3",
   "version": "3.7.4"
  }
 },
 "nbformat": 4,
 "nbformat_minor": 4
}
