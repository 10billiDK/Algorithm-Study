{
 "cells": [
  {
   "cell_type": "code",
   "execution_count": 1,
   "metadata": {},
   "outputs": [
    {
     "data": {
      "text/plain": [
       "'def solution(s):\\n    return s.lower().count(\"p\") == s.lower().count(\"y\")'"
      ]
     },
     "execution_count": 1,
     "metadata": {},
     "output_type": "execute_result"
    }
   ],
   "source": [
    "#주어진 문자열 s에 p의 개수와 y의 개수를 비교해서 같으면 true, 다르면 false\n",
    "#p,y 모두 하나도 없는 경우는 항상 true를 리턴한다. \n",
    "#소문자, 대문자 비교 노노.\n",
    "def solution(s):\n",
    "    cntp=0\n",
    "    cnty=0\n",
    "    for i in list(s.lower()):\n",
    "        if i == 'p':\n",
    "            cntp +=1\n",
    "        elif i == 'y':\n",
    "            cnty +=1\n",
    "    if cntp == cnty:\n",
    "        return True\n",
    "    else:\n",
    "        return False\n",
    "'''def solution(s):\n",
    "    return s.lower().count(\"p\") == s.lower().count(\"y\")'''"
   ]
  },
  {
   "cell_type": "code",
   "execution_count": null,
   "metadata": {},
   "outputs": [],
   "source": []
  }
 ],
 "metadata": {
  "kernelspec": {
   "display_name": "Python 3",
   "language": "python",
   "name": "python3"
  },
  "language_info": {
   "codemirror_mode": {
    "name": "ipython",
    "version": 3
   },
   "file_extension": ".py",
   "mimetype": "text/x-python",
   "name": "python",
   "nbconvert_exporter": "python",
   "pygments_lexer": "ipython3",
   "version": "3.7.4"
  }
 },
 "nbformat": 4,
 "nbformat_minor": 4
}
