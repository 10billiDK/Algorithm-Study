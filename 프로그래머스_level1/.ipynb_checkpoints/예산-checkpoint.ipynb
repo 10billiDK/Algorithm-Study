{
 "cells": [
  {
   "cell_type": "code",
   "execution_count": 1,
   "metadata": {},
   "outputs": [],
   "source": [
    "# 정해진 예산 내에서 최대한 많은 부서의 물품을 구매.\n",
    "# 물품을 구매해 줄 때는 각 부서가 신청한 금액만큼을 모두 지원해줘야 함.\n",
    "# 부서별로 신청한 금액이 들어있는 배열 d와 예산 budget이 매개변수로 주어짐.\n",
    "# 최대 몇 개의 부서에 물품을 지원할 수 있는지 return\n",
    "# 내 첫번째 풀이 --> 작은 수들을 순서대로 더해줘서 그게 budget을 넘으면 스탑. 넘지 않으면 계속 더해줌.\n",
    "'''def solution(d, budget):\n",
    "    answer = 0\n",
    "    count=0\n",
    "    for i in sorted(d): # 순서대로 쌓기 위해 정렬해줌.\n",
    "        answer+= i\n",
    "        if answer < budget:\n",
    "            count+=1\n",
    "        elif answer == budget:\n",
    "            return count+1 # answer와 budget이 같아지는 특수한 경우에는 그 직전 코드로 인해 3이 도출 되므로 +1을 해줌 --> 아마 이것 때문에 테스트 케이스 23개 중에 4개가 빗나가나 싶다.\n",
    "        else:\n",
    "            return count'''\n",
    "def solution(d, budget):\n",
    "    answer =0\n",
    "    d.sort() \n",
    "    for i in range(len(d)):\n",
    "        if d[i] <= budget: #각각의 원소를 budget과 비교.\n",
    "            answer +=1\n",
    "            budget -= d[i] #원소가 budget보다 작으면 budget에서 원소를 하나씩 빼준다. --> \n",
    "        else:\n",
    "            break\n",
    "    return answer"
   ]
  },
  {
   "cell_type": "code",
   "execution_count": null,
   "metadata": {},
   "outputs": [],
   "source": []
  }
 ],
 "metadata": {
  "kernelspec": {
   "display_name": "Python 3",
   "language": "python",
   "name": "python3"
  },
  "language_info": {
   "codemirror_mode": {
    "name": "ipython",
    "version": 3
   },
   "file_extension": ".py",
   "mimetype": "text/x-python",
   "name": "python",
   "nbconvert_exporter": "python",
   "pygments_lexer": "ipython3",
   "version": "3.7.4"
  }
 },
 "nbformat": 4,
 "nbformat_minor": 4
}
