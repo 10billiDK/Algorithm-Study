{
 "cells": [
  {
   "cell_type": "code",
   "execution_count": 1,
   "metadata": {},
   "outputs": [],
   "source": [
    "#제한사항 잘 읽기!!!!\n",
    "#문자열 전체의 짝/홀수 인덱스가 아니라, 단어(공백을 기준)별로 짝/홀수 인덱스를 판단해야 합니다.\n",
    "#s[i]= s[i].upper()-->'str' object does not support item assignment 이런 오류가 뜸. #문자를 이어 붙이기 중의 한 방식. \n",
    "def solution(s):\n",
    "    s_ = s.split() #제한 사항 참조, 추가로 list() 안 씌워줘도 리스트화가 됨.\n",
    "    answer=[]\n",
    "    for k in s_:\n",
    "        answer_word=\"\"\n",
    "        for i in range(len(k)):\n",
    "            answer_word += k[i].upper() if i%2==0 else k[i].lower()\n",
    "        answer.append(answer_word)        \n",
    "    return \" \".join(answer) #리스트 안에 있는 숫자나 문자를 이어서 붙이는거. 지금은 띄어쓰기를 포함해서 이어 붙이기."
   ]
  },
  {
   "cell_type": "code",
   "execution_count": null,
   "metadata": {},
   "outputs": [],
   "source": [
    "#통과못함ㅜ"
   ]
  }
 ],
 "metadata": {
  "kernelspec": {
   "display_name": "Python 3",
   "language": "python",
   "name": "python3"
  },
  "language_info": {
   "codemirror_mode": {
    "name": "ipython",
    "version": 3
   },
   "file_extension": ".py",
   "mimetype": "text/x-python",
   "name": "python",
   "nbconvert_exporter": "python",
   "pygments_lexer": "ipython3",
   "version": "3.7.4"
  }
 },
 "nbformat": 4,
 "nbformat_minor": 4
}
