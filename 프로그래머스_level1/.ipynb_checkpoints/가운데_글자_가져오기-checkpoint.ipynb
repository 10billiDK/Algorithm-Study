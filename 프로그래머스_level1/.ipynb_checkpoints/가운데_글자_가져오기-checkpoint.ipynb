{
 "cells": [
  {
   "cell_type": "code",
   "execution_count": 1,
   "metadata": {},
   "outputs": [],
   "source": [
    "# 맨첨에 / 이걸로 풀어서 string indices must be integers 오류 계속 뜸. /로 나누면 수는 float이 됨. 그러므로 //으로 나눠서 int를 만들어줘야함.\n",
    "def solution(s):    \n",
    "    if len(s)%2==0:\n",
    "        return s[(len(s)//2-1):(len(s)//2+1)]\n",
    "    else:\n",
    "        return s[len(s)//2]"
   ]
  },
  {
   "cell_type": "code",
   "execution_count": null,
   "metadata": {},
   "outputs": [],
   "source": []
  }
 ],
 "metadata": {
  "kernelspec": {
   "display_name": "Python 3",
   "language": "python",
   "name": "python3"
  },
  "language_info": {
   "codemirror_mode": {
    "name": "ipython",
    "version": 3
   },
   "file_extension": ".py",
   "mimetype": "text/x-python",
   "name": "python",
   "nbconvert_exporter": "python",
   "pygments_lexer": "ipython3",
   "version": "3.7.4"
  }
 },
 "nbformat": 4,
 "nbformat_minor": 4
}
