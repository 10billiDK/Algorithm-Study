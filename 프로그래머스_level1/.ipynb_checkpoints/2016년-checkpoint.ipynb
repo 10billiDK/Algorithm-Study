{
 "cells": [
  {
   "cell_type": "code",
   "execution_count": 1,
   "metadata": {},
   "outputs": [],
   "source": [
    "# 윤년의 특징: 2월 29일까지\n",
    "# 2016년 1월 1일은 금요일. \n",
    "# 첫번째 풀이: 해당 날짜까지 다 더해서 7로 나눈 뒤에 그 나머지랑 요일 데이터랑 비교.  \n",
    "# datetime 활용해서 푸는 법\n",
    "\n",
    "'''def solution(a, b):\n",
    "    answer = ''\n",
    "    day=['SUN','MON','TUE','WED','THU','FRI','SAT']\n",
    "    mon=[31,29,31,30,31,30,31,31,30,31,30,31]\n",
    "    answer = day[((sum(mon[:a-1])+b)%7)-3]\n",
    "    return answer'''\n",
    "import datetime\n",
    "def solution(a,b):\n",
    "    day=['MON','TUE','WED','THU','FRI','SAT','SUN']\n",
    "    return day[datetime.datetime(2016,a,b).weekday()]"
   ]
  },
  {
   "cell_type": "code",
   "execution_count": null,
   "metadata": {},
   "outputs": [],
   "source": []
  }
 ],
 "metadata": {
  "kernelspec": {
   "display_name": "Python 3",
   "language": "python",
   "name": "python3"
  },
  "language_info": {
   "codemirror_mode": {
    "name": "ipython",
    "version": 3
   },
   "file_extension": ".py",
   "mimetype": "text/x-python",
   "name": "python",
   "nbconvert_exporter": "python",
   "pygments_lexer": "ipython3",
   "version": "3.7.4"
  }
 },
 "nbformat": 4,
 "nbformat_minor": 4
}
