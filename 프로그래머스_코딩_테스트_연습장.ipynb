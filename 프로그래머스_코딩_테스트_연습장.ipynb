{
 "cells": [
  {
   "cell_type": "markdown",
   "metadata": {},
   "source": [
    "# 프로그래머스 코딩 테스트 연습"
   ]
  },
  {
   "cell_type": "markdown",
   "metadata": {},
   "source": [
    "## 정렬 1번 (K번째 수)"
   ]
  },
  {
   "cell_type": "code",
   "execution_count": 69,
   "metadata": {},
   "outputs": [],
   "source": [
    "def solution(array, commands):\n",
    "    \n",
    "    def com(arr,i,j,k):\n",
    "        arr=arr[i-1:j]\n",
    "        arr.sort()\n",
    "        \n",
    "        return arr[k-1]\n",
    "    \n",
    "    answer = []\n",
    "    \n",
    "    for a,b,c in commands:\n",
    "        answer.append(com(array,a,b,c))\n",
    "\n",
    "    return answer"
   ]
  },
  {
   "cell_type": "code",
   "execution_count": 70,
   "metadata": {},
   "outputs": [
    {
     "data": {
      "text/plain": [
       "[5, 6, 3]"
      ]
     },
     "execution_count": 70,
     "metadata": {},
     "output_type": "execute_result"
    }
   ],
   "source": [
    "array = [1,5,2,6,3,7,4]\n",
    "commands=[[2,5,3],[4,4,1],[1,7,3]]\n",
    "solution(array,commands)"
   ]
  },
  {
   "cell_type": "code",
   "execution_count": 72,
   "metadata": {},
   "outputs": [
    {
     "data": {
      "text/plain": [
       "'내가 시도한 풀이:\\n-\\t인덱스 슬라이싱\\n-\\t정렬\\n-\\t인덱싱을 통한 추출\\n\\n\\n함수에 사용하는 변수와 메인 함수의 for문에서 사용하는 변수명이 겹쳐도 괜찮았다.\\n\\n입출력에 활용되는 변수명은 함수 내에 쓰이는 핵심 변수이다.\\n\\n배열 활용시 핵심 기본 함수. Append\\n'"
      ]
     },
     "execution_count": 72,
     "metadata": {},
     "output_type": "execute_result"
    }
   ],
   "source": [
    "'''내가 시도한 풀이:\n",
    "-\t인덱스 슬라이싱\n",
    "-\t정렬\n",
    "-\t인덱싱을 통한 추출\n",
    "\n",
    "\n",
    "함수에 사용하는 변수와 메인 함수의 for문에서 사용하는 변수명이 겹쳐도 괜찮았다.\n",
    "\n",
    "입출력에 활용되는 변수명은 함수 내에 쓰이는 핵심 변수이다.\n",
    "\n",
    "배열 활용시 핵심 기본 함수. Append\n",
    "'''"
   ]
  },
  {
   "cell_type": "code",
   "execution_count": 13,
   "metadata": {},
   "outputs": [
    {
     "data": {
      "text/plain": [
       "[2, 5, 3]"
      ]
     },
     "execution_count": 13,
     "metadata": {},
     "output_type": "execute_result"
    }
   ],
   "source": [
    "commands =[[2, 5, 3], [4, 4, 1], [1, 7, 3]]\n",
    "len(commands)\n",
    "commands[0]"
   ]
  },
  {
   "cell_type": "markdown",
   "metadata": {},
   "source": [
    "## 정렬 2번 (가장 큰 수)"
   ]
  },
  {
   "cell_type": "code",
   "execution_count": 73,
   "metadata": {},
   "outputs": [],
   "source": [
    "def solution(numbers):\n",
    "    answer = ''\n",
    "    so=[]\n",
    "    for o in numbers:\n",
    "        o= str(o)\n",
    "        sz=12//len(o)\n",
    "        so.append([o*sz,o]) # o가 이미 str화 되었기 때문에 sz값을 곱하면 10101010.. 이런식으로 나옴.\n",
    "    \n",
    "    so.sort(reverse=True)\n",
    "    for _,s in so:\n",
    "        answer += s\n",
    "    if answer and int(answer) ==0:\n",
    "        answer ='0'\n",
    "    return answer"
   ]
  },
  {
   "cell_type": "code",
   "execution_count": 74,
   "metadata": {},
   "outputs": [
    {
     "data": {
      "text/plain": [
       "'6210'"
      ]
     },
     "execution_count": 74,
     "metadata": {},
     "output_type": "execute_result"
    }
   ],
   "source": [
    "numbers =[6,10,2]\n",
    "solution(numbers)"
   ]
  },
  {
   "cell_type": "code",
   "execution_count": 76,
   "metadata": {},
   "outputs": [
    {
     "data": {
      "text/plain": [
       "'for k in array:\\n    string += k\\nprint(string)\\n\\n\\n** 배열 안에 있는 수들을 그대로 더하려면 문자열화가 필요. 그러므로 배열에서 원소(수)들을 빼낼 때, string화가 반드시 이행해져야 함.\\n\\n** 기본적인 10진법 비교가 아닌 수의 앞 자릿수(십의 자리든 일의 자리든 앞의 수를 기반으로 크기를 비교) 를 비교해야 하므로, 같은 자릿수를 맞춰주는 것이 핵심이다. 지금 문제에서 요구하는 수의 범위가 1~1000이므로, 1,2,3,4의 최소공배수인 12에 맞추어 12자리로 나열한다.\\n\\n**2차원 배열로 12자리 수와 본래의 수로 정리를 한다. 이후, 본래의 수를 내림차순 정렬해서 꺼낸뒤 붙인다.\\n\\n'"
      ]
     },
     "execution_count": 76,
     "metadata": {},
     "output_type": "execute_result"
    }
   ],
   "source": [
    "'''\n",
    "내가 시도한 풀이: \n",
    "랜덤 셔플을 활용해서 만들 수 있는 경우의 수를 쭉 나열한다. 그 중 가장 큰 수를 고르게끔 할 계획이다.\n",
    "\n",
    "한계점: 랜덤 셔플 중복 문제 해결 못함. 깔끔하게 for문이 구현 안됨. \n",
    "\n",
    "실패 코드\n",
    "import random\n",
    "\n",
    "numbers=[6,10,2]\n",
    "array=[]\n",
    "string=''\n",
    "\n",
    "for i in range(len(numbers)*(len(numbers)-1)):\n",
    "    random.shuffle(numbers)\n",
    "    print(numbers)\n",
    "\n",
    "''''''for j in range(len(numbers)):\n",
    "    array += str(numbers[j])\n",
    "    print(array)'''''\n",
    "        \n",
    "'''for k in array:\n",
    "    string += k\n",
    "print(string)\n",
    "\n",
    "\n",
    "** 배열 안에 있는 수들을 그대로 더하려면 문자열화가 필요. 그러므로 배열에서 원소(수)들을 빼낼 때, string화가 반드시 이행해져야 함.\n",
    "\n",
    "** 기본적인 10진법 비교가 아닌 수의 앞 자릿수(십의 자리든 일의 자리든 앞의 수를 기반으로 크기를 비교) 를 비교해야 하므로, 같은 자릿수를 맞춰주는 것이 핵심이다. 지금 문제에서 요구하는 수의 범위가 1~1000이므로, 1,2,3,4의 최소공배수인 12에 맞추어 12자리로 나열한다.\n",
    "\n",
    "**2차원 배열로 12자리 수와 본래의 수로 정리를 한다. 이후, 본래의 수를 내림차순 정렬해서 꺼낸뒤 붙인다.\n",
    "\n",
    "'''"
   ]
  },
  {
   "cell_type": "code",
   "execution_count": 36,
   "metadata": {},
   "outputs": [
    {
     "data": {
      "text/plain": [
       "'9534330'"
      ]
     },
     "execution_count": 36,
     "metadata": {},
     "output_type": "execute_result"
    }
   ],
   "source": [
    "import itertools\n",
    "\n",
    "def solution(numbers):\n",
    "    answer =''\n",
    "    numbers = list(map(str,numbers))\n",
    "    p = list(itertools.permutations(numbers,len(numbers)))\n",
    "   \n",
    "    '''m = max(p)\n",
    "    for i in m:\n",
    "        answer +=i 이렇게 하면 컴퓨터가 자릿수를 오해해서 받음'''\n",
    "    \n",
    "    \n",
    "    list_permute = [''.join(map(str,i)) for i in p]\n",
    "    answer = max(list_permute)\n",
    "    return answer\n",
    "\n",
    "numbers =[3,30,34,5,9]\n",
    "solution(numbers)"
   ]
  },
  {
   "cell_type": "code",
   "execution_count": 43,
   "metadata": {},
   "outputs": [
    {
     "data": {
      "text/plain": [
       "'9534330'"
      ]
     },
     "execution_count": 43,
     "metadata": {},
     "output_type": "execute_result"
    }
   ],
   "source": [
    "from itertools import permutations \n",
    "def solution(num): \n",
    "    permute = list(permutations(num,len(num))) \n",
    "    list_permute = [''.join(map(str,i)) for i in permute] \n",
    "    answer = max(list_permute) \n",
    "    return answer\n",
    "num =[3,30,34,5,9]\n",
    "solution(num)"
   ]
  },
  {
   "cell_type": "markdown",
   "metadata": {},
   "source": [
    "## 정렬 3번 ( H-INDEX)"
   ]
  },
  {
   "cell_type": "code",
   "execution_count": 37,
   "metadata": {},
   "outputs": [],
   "source": [
    "def solution(citations):\n",
    "    answer = 0\n",
    "    for h in range(max(citations) +1):\n",
    "        x=[1 for _ in citations if _>=h]\n",
    "        print(x)\n",
    "        if answer <= h <= len(x):\n",
    "            answer =h\n",
    "    \n",
    "    return answer"
   ]
  },
  {
   "cell_type": "code",
   "execution_count": 38,
   "metadata": {},
   "outputs": [
    {
     "name": "stdout",
     "output_type": "stream",
     "text": [
      "[1, 1, 1, 1, 1]\n",
      "[1, 1, 1, 1]\n",
      "[1, 1, 1]\n",
      "[1, 1, 1]\n",
      "[1, 1]\n",
      "[1, 1]\n",
      "[1]\n"
     ]
    },
    {
     "data": {
      "text/plain": [
       "3"
      ]
     },
     "execution_count": 38,
     "metadata": {},
     "output_type": "execute_result"
    }
   ],
   "source": [
    "ciations=[3,0,6,1,5]\n",
    "solution(ciations)"
   ]
  },
  {
   "cell_type": "code",
   "execution_count": 41,
   "metadata": {},
   "outputs": [],
   "source": [
    "#비교해야하는 대상이 citations 리스트 안의 원소와, 몇번 인용됬는지 횟수.\n",
    "# 리스트안에 있는 원소끼리 비교하려면 이중 for문을 써야함 막상 이중 for문은 번거로우니 list comprehension으로 만든 리스트가 필요.\n",
    "def solution(citations):\n",
    "    answer=0\n",
    "    \n",
    "    for h in range(max(citations)+1):\n",
    "        x =[1 for i in citations if i>=h]\n",
    "        if answer <=h <= len(x):\n",
    "            answer = h\n",
    "    \n",
    "    return answer"
   ]
  },
  {
   "cell_type": "code",
   "execution_count": 79,
   "metadata": {},
   "outputs": [
    {
     "data": {
      "text/plain": [
       "'\\n내가 시도한 풀이:\\n생각했던 개념 자체는 문제 풀이 해답과 방향은 일치함.\\n하지만 리스트 컴프리핸션을 어떻게 사용할지 몰랐음. 코드에 대한 숙지 더욱이 필요.\\n'"
      ]
     },
     "execution_count": 79,
     "metadata": {},
     "output_type": "execute_result"
    }
   ],
   "source": [
    "'''\n",
    "내가 시도한 풀이:\n",
    "생각했던 개념 자체는 문제 풀이 해답과 방향은 일치함.\n",
    "하지만 리스트 컴프리핸션을 어떻게 사용할지 몰랐음. 코드에 대한 숙지 더욱이 필요.\n",
    "'''"
   ]
  },
  {
   "cell_type": "code",
   "execution_count": 115,
   "metadata": {},
   "outputs": [
    {
     "data": {
      "text/plain": [
       "6"
      ]
     },
     "execution_count": 115,
     "metadata": {},
     "output_type": "execute_result"
    }
   ],
   "source": [
    "citations=[3,0,1,5,6]\n",
    "max(citations)"
   ]
  },
  {
   "cell_type": "code",
   "execution_count": 117,
   "metadata": {},
   "outputs": [
    {
     "name": "stdout",
     "output_type": "stream",
     "text": [
      "[1, 1, 1, 1]\n"
     ]
    }
   ],
   "source": [
    "x=[1 for i in range(1,5)]\n",
    "print(x)\n"
   ]
  },
  {
   "cell_type": "code",
   "execution_count": 123,
   "metadata": {},
   "outputs": [
    {
     "data": {
      "text/plain": [
       "[0, 1, 3, 5, 6]"
      ]
     },
     "execution_count": 123,
     "metadata": {},
     "output_type": "execute_result"
    }
   ],
   "source": [
    "import numpy as np\n",
    "citations.sort()\n",
    "citations"
   ]
  },
  {
   "cell_type": "code",
   "execution_count": 124,
   "metadata": {},
   "outputs": [
    {
     "data": {
      "text/plain": [
       "array([0, 1, 3, 5, 6])"
      ]
     },
     "execution_count": 124,
     "metadata": {},
     "output_type": "execute_result"
    }
   ],
   "source": [
    "np.sort(citations)"
   ]
  },
  {
   "cell_type": "markdown",
   "metadata": {},
   "source": [
    "## 완전탐색 1번 (모의고사)"
   ]
  },
  {
   "cell_type": "code",
   "execution_count": 60,
   "metadata": {
    "scrolled": true
   },
   "outputs": [
    {
     "data": {
      "text/plain": [
       "[1]"
      ]
     },
     "execution_count": 60,
     "metadata": {},
     "output_type": "execute_result"
    }
   ],
   "source": [
    "def solution(answers):\n",
    "\n",
    "    answer_ = [[1,2,3,4,6], [2,1,2,3,2], [3,3,1,1,2]]\n",
    "    answer__ = []\n",
    "    answer = []\n",
    "    count = []\n",
    "    #print(len(answer_)) --> 3\n",
    "    \n",
    "    for k in range(len(answer_)):\n",
    "        answer2=[]\n",
    "        for i in range(len(answers)):\n",
    "            if(answers[i] == answer_[k][i]):\n",
    "                answer2.append(answer_[k][i])\n",
    "        answer__.append(answer2)           \n",
    "    \n",
    "    for idx, r in enumerate(answer__):\n",
    "        count.append(len(r))\n",
    "    \n",
    "    k= max(count)\n",
    "    '''if count[0] ==k:\n",
    "        answer.append(1)\n",
    "    if count[1] ==k:\n",
    "        answer.append(2)\n",
    "    if count[2] ==k:\n",
    "        answer.append(3)'''\n",
    "        \n",
    "    for ix, c in enumerate(count):\n",
    "        if (c == k): # k를 max(count)로 바꾸는게 한줄이라도 줄임\n",
    "            answer.append(ix+1)\n",
    "            \n",
    "    return answer\n",
    "\n",
    "answers = [1,2,3,4,5]\n",
    "solution(answers)"
   ]
  },
  {
   "cell_type": "code",
   "execution_count": 10,
   "metadata": {},
   "outputs": [
    {
     "name": "stdout",
     "output_type": "stream",
     "text": [
      "[5, 0, 0]\n"
     ]
    },
    {
     "data": {
      "text/plain": [
       "[1]"
      ]
     },
     "execution_count": 10,
     "metadata": {},
     "output_type": "execute_result"
    }
   ],
   "source": [
    "# 이중 리스트 만들기.\n",
    "# \n",
    "def solution(answers):\n",
    "    students = [[1,2,3,4,5], [2,1,2,3,2], [3,3,1,1,2]]\n",
    "    cnt = [0] * len(students)\n",
    "    \n",
    "    for idx1, answer in enumerate(answers):\n",
    "        for idx2, student in enumerate(students):\n",
    "            if answer == student[idx1%len(student)]:\n",
    "                cnt[idx2]+=1\n",
    "    print(cnt)            \n",
    "    return [i+1 for i,count in enumerate(cnt) if count == max(cnt)]\n",
    "answers=[1,2,3,4,5]\n",
    "solution(answers)"
   ]
  },
  {
   "cell_type": "code",
   "execution_count": 28,
   "metadata": {},
   "outputs": [
    {
     "data": {
      "text/plain": [
       "[1]"
      ]
     },
     "execution_count": 28,
     "metadata": {},
     "output_type": "execute_result"
    }
   ],
   "source": [
    "def solution(answers):\n",
    "    a1 = [1,2,3,4,5]\n",
    "    a2 = [2,1,2,3,2,4,2,5]\n",
    "    a3 = [3,3,1,1,2,2,4,4,5,5]\n",
    "    c1,c2,c3 = 0,0,0\n",
    "    \n",
    "    for i in range(len(answers)):\n",
    "        s1 = i%5\n",
    "        s2 = i%8\n",
    "        s3 = i%10\n",
    "    \n",
    "        if a1[s1] == answers[i]:\n",
    "            c1+=1\n",
    "        if a2[s2] == answers[i]:\n",
    "            c2+=1\n",
    "        if a3[s3] == answers[i]:\n",
    "            c3+=1\n",
    "    \n",
    "    k = max(c1,c2,c3)\n",
    "    answer=[]\n",
    "    \n",
    "    if k==c1:\n",
    "        answer.append(1)\n",
    "    if k==c2:\n",
    "        answer.append(2)\n",
    "    if k==c3:\n",
    "        answer.append(3)\n",
    "\n",
    "    return answer\n",
    "\n",
    "answers=[1,2,3,4,5]\n",
    "solution(answers)"
   ]
  },
  {
   "cell_type": "code",
   "execution_count": 47,
   "metadata": {},
   "outputs": [
    {
     "name": "stdout",
     "output_type": "stream",
     "text": [
      "[2, 2, 2]\n"
     ]
    },
    {
     "data": {
      "text/plain": [
       "[1, 2, 3]"
      ]
     },
     "execution_count": 47,
     "metadata": {},
     "output_type": "execute_result"
    }
   ],
   "source": [
    "def solution(answers):\n",
    "    pattern1 =[1,2,3,4,5]\n",
    "    pattern2 = [2,1,2,3,2,4,2,5]\n",
    "    pattern3 = [3,3,1,1,2,2,4,4,5,5]\n",
    "    score = [0,0,0]\n",
    "    answer=[]\n",
    "    \n",
    "#enumerate - 반복문 사용 시 몇 번째 반복문인지 확인이 필요할 수 있습니다. 이때 사용합니다.\n",
    "#인덱스 번호와 컬렉션의 원소를 tuple형태로 반환합니다.    \n",
    "\n",
    "    for idx, answer_ in enumerate(answers):\n",
    "        if answer_ == pattern1[idx%len(pattern1)]:\n",
    "            score[0]+=1\n",
    "        if answer_ == pattern2[idx%len(pattern2)]:\n",
    "            score[1]+=1\n",
    "        if answer_ == pattern3[idx%len(pattern3)]:\n",
    "            score[2]+=1\n",
    "    print(score)\n",
    "    k = max(score)\n",
    "    for ix, sc in enumerate(score):\n",
    "        if sc == k:\n",
    "            answer.append(ix+1) \n",
    "# append에는 변수가 숫자인것이 들어갈 수 없음.\n",
    "#(반복문에 들어가는 변수랑 바깥의 변수랑 이름을 똑같이 했을 때, 이런 오류가 발생한다. 그러므로 변수명을 달리 해주면 이런 오류가 발생 안한다.)\n",
    "            \n",
    "    return answer\n",
    "answers=[1,3,2,4,2]\n",
    "solution(answers)"
   ]
  },
  {
   "cell_type": "code",
   "execution_count": 56,
   "metadata": {},
   "outputs": [
    {
     "name": "stdout",
     "output_type": "stream",
     "text": [
      "[2, 2, 2]\n"
     ]
    },
    {
     "data": {
      "text/plain": [
       "[1, 2, 3]"
      ]
     },
     "execution_count": 56,
     "metadata": {},
     "output_type": "execute_result"
    }
   ],
   "source": [
    "# 세명의 학생이 문제를 찍음. 찍었을 때 가장 많이 맞은 학생은?\n",
    "# answer = [1,2,3,4,5]\n",
    "# 1번 학생 = [1,2,3,4,5] 이 순으로 찍음\n",
    "# 2번 학생 = [2,1,2,3,2,4,2,5]\n",
    "# 3번 학생 = [3,3,1,1,2,2,4,4,5]\n",
    "# 어떻게 풀까? 정답이랑 학생이 고른 답을 비교하는 식으로. 비교해서 가장 많이 똑같은 답이 나온 학생이 채택\n",
    "# 하지만 for문을 바로 쓰기에는 length가 안맞음. 학생들 각각의 리스트의 길이를 len(answer)로 나누어서 나온 나머지 번째 수와 비교 \n",
    "# 학생 수는 이중리스트로 묶자.--> 안될듯. 나눠서 생각해보자\n",
    "def solution(answers):\n",
    "    answer=[]\n",
    "    student1= [1,2,3,4,5]\n",
    "    student2= [2,1,2,3,2,4,2,5]\n",
    "    student3= [3,3,1,1,2,2,4,4,5,5]\n",
    "    cnt=[0,0,0]\n",
    "    for idx,answer_ in enumerate(answers):\n",
    "        if answer_ == student1[idx%len(student1)]:\n",
    "            cnt[0] +=1\n",
    "        if answer_ == student2[idx%len(student2)]: # elif를 쓰면 안됨. 지금은 서로 연관 있는 세가지 조건을 나열하는게 아니라 독립적으로 조건을 나눠줘야 하기 때문에.\n",
    "            cnt[1] +=1\n",
    "        if answer_ == student3[idx%len(student3)]:\n",
    "            cnt[2] +=1\n",
    "    print(cnt)\n",
    "    # cnt.index(max(cnt))+1 #여기서 끝내면 인덱스가 하나만 나옴. 갯수가 같은 수로 나왔을 때 다 같이 안보여짐. 그러므로 리스트를 만들어줘야함\n",
    "    k= max(cnt)\n",
    "    for idx, cnt_ in enumerate (cnt):\n",
    "        if cnt_==k:\n",
    "            answer.append(idx+1)\n",
    "    return answer\n",
    "answers=[1,3,2,4,2]\n",
    "solution(answers)"
   ]
  },
  {
   "cell_type": "code",
   "execution_count": 44,
   "metadata": {},
   "outputs": [
    {
     "name": "stdout",
     "output_type": "stream",
     "text": [
      "[1, 4]\n",
      "[2, 3, 4]\n"
     ]
    }
   ],
   "source": [
    "list_ = [[1, 4], [2, 2], [3, 2]]\n",
    "count = []\n",
    "print(list_[0])\n",
    "\n",
    "for idx, r in enumerate(list_):\n",
    "    count.append(idx + len(r))\n",
    "\n",
    "print(count)"
   ]
  },
  {
   "cell_type": "markdown",
   "metadata": {},
   "source": [
    "## 완전탐색(2번) 소수 찾기"
   ]
  },
  {
   "cell_type": "code",
   "execution_count": 44,
   "metadata": {},
   "outputs": [
    {
     "data": {
      "text/plain": [
       "False"
      ]
     },
     "execution_count": 44,
     "metadata": {},
     "output_type": "execute_result"
    }
   ],
   "source": [
    "#소수인지 아닌지 판별하는 코드\n",
    "\n",
    "def prime(numbers):\n",
    "    count =0\n",
    "    for i in range(2,numbers):\n",
    "        if(numbers % i==0):\n",
    "            count +=1\n",
    "    \n",
    "    if(count==0):\n",
    "        return True\n",
    "    else:\n",
    "        return False\n",
    "    \n",
    "numbers = 4\n",
    "prime(numbers)"
   ]
  },
  {
   "cell_type": "code",
   "execution_count": 46,
   "metadata": {},
   "outputs": [],
   "source": [
    "#인자로 받은 리스트에서 소수 개수를 측정하는 함수\n",
    "def count_prime(numbers):\n",
    "    prime_list=[]\n",
    "    for n in numbers:\n",
    "        count=0\n",
    "        for i in range(2, n): #2부터 n-1까지 나누었을 때 나머지가 0인 것은 소수가 아님\n",
    "            if(n % i ==0):\n",
    "                count +=1\n",
    "        if n>1 and count ==0: #나누어떨어지는게 없고 0,1이 아니면 소수 리스트에 추가\n",
    "            prime_list.append(n)\n",
    "    return len(prime_list)  #소수 리스트 개수를 리턴."
   ]
  },
  {
   "cell_type": "code",
   "execution_count": 45,
   "metadata": {},
   "outputs": [],
   "source": [
    "# n까지의 숫자 중 소수 골라내는 코드\n",
    "def prime_number(n):\n",
    "    a = [False, False] +[True]*(n-1)\n",
    "    primes =[]\n",
    "\n",
    "    for i in range(2, n+1):\n",
    "        if a[i]:\n",
    "            primes.append(i)\n",
    "            for j in range(2*i, n+1, i):\n",
    "                a[j] = False\n",
    "    return primes"
   ]
  },
  {
   "cell_type": "code",
   "execution_count": 59,
   "metadata": {},
   "outputs": [
    {
     "name": "stdout",
     "output_type": "stream",
     "text": [
      "<itertools.permutations object at 0x106416b30>\n",
      "0\n",
      "1\n",
      "1\n",
      "<itertools.permutations object at 0x106416e90>\n",
      "01\n",
      "01\n",
      "10\n",
      "11\n",
      "10\n",
      "11\n",
      "<itertools.permutations object at 0x10641c1d0>\n",
      "011\n",
      "011\n",
      "101\n",
      "110\n",
      "101\n",
      "110\n",
      "[0, 1, 101, 10, 11, 110]\n"
     ]
    },
    {
     "data": {
      "text/plain": [
       "2"
      ]
     },
     "execution_count": 59,
     "metadata": {},
     "output_type": "execute_result"
    }
   ],
   "source": [
    "from itertools import permutations\n",
    "\n",
    "#인자로 받은 리스트에서 소수 개수를 측정하는 함수\n",
    "def count_prime(num_case):\n",
    "    prime_list=[]\n",
    "    for n in num_case:\n",
    "        count=0\n",
    "        for i in range(2, n): #2부터 n-1까지 나누었을 때 나머지가 0인 것은 소수가 아님\n",
    "            if(n % i ==0):\n",
    "                count +=1\n",
    "                break #하나라도 나누어 떨어지는 것이 있으면 break.\n",
    "        if n>1 and count ==0: #나누어떨어지는게 없고 0,1이 아니면 소수 리스트에 추가\n",
    "            prime_list.append(n)\n",
    "    return len(prime_list)  #소수 리스트 개수를 리턴.\n",
    "\n",
    "def solution(numbers):\n",
    "    num_case = []\n",
    "    for i in range(1, len(numbers)+1):\n",
    "        tmp = permutations(numbers,i)\n",
    "        print(tmp)\n",
    "        for n in tmp:\n",
    "            tmp_str = \"\".join(n)\n",
    "            print(tmp_str)\n",
    "            num_case.append(int(tmp_str))\n",
    "    num_case = list(set(num_case))\n",
    "    print(num_case)\n",
    "    return count_prime(num_case)\n",
    "\n",
    "numbers=\"011\"\n",
    "solution(numbers)"
   ]
  },
  {
   "cell_type": "markdown",
   "metadata": {},
   "source": [
    "## 완전탐색 3번 카펫"
   ]
  },
  {
   "cell_type": "code",
   "execution_count": 1,
   "metadata": {},
   "outputs": [
    {
     "data": {
      "text/plain": [
       "[4, 3]"
      ]
     },
     "execution_count": 1,
     "metadata": {},
     "output_type": "execute_result"
    }
   ],
   "source": [
    "def solution(brown, yellow):\n",
    "    # a는 가로 길이, b는 세로 길이 (전체 카펫의 크기= a*b) 안의 사각형 갯수: (a-2)(b-2), 즉,       brown = 2(a+b-2), yellow =(a-2)(b-2)\n",
    "    # 문제 풀이시, 중요 포인트는 ..? 항상 신경 써야 하는 것은 매개변수로부터 시작.\n",
    "    answer = []\n",
    "    a=3 #어차피 3부터 시작할 수 밖에 없음. 노란 상자가 최소한 한 개 이상이어야 하므로.\n",
    "    while True:\n",
    "        b = (yellow/(a-2))+2\n",
    "        if b == int(b):\n",
    "            b = int(b)\n",
    "            if 2*(a+b-2) == brown: #앞에서 yellow로 시작했으니 여기서는 brown으로 한 번 더 계산하므로 교집합을 찾는다.\n",
    "                if a<b:\n",
    "                    a,b=b,a\n",
    "                return [a,b]\n",
    "        a+=1\n",
    "       \n",
    "    return answer\n",
    "\n",
    "brown = 10\n",
    "yellow =2\n",
    "solution(brown,yellow)"
   ]
  },
  {
   "cell_type": "markdown",
   "metadata": {},
   "source": [
    "## 해시 1번 완주하지 못한 선수"
   ]
  },
  {
   "cell_type": "code",
   "execution_count": 2,
   "metadata": {},
   "outputs": [
    {
     "data": {
      "text/plain": [
       "'leo'"
      ]
     },
     "execution_count": 2,
     "metadata": {},
     "output_type": "execute_result"
    }
   ],
   "source": [
    "def solution(participant, completion):\n",
    "    '''answer = ''\n",
    "    new = participant\n",
    "    for i in range(len(participant)):\n",
    "        for j in range(len(completion)):\n",
    "            if (participant[i] = completion[j]):\n",
    "                del new[i]\n",
    "    new = answer  --> list out of index 오류가 뜸, 왜 그러지?'''\n",
    "    \n",
    "    participant = sorted(participant) #sorted를 해준 것은 비교를 수월하게 선형탐색으로 하기 위해\n",
    "    completion = sorted(completion) #sorted를 해준 것은 비교를 수월하게 선형탐색으로 하기 위해\n",
    "    answer = participant[len(participant)-1] #어차피 지금 하나만 추출하는거니깐 마지막을 뽑기 위한 설정. 하나가 아니면 이렇게 하면 안됨.\n",
    "    \n",
    "    for i in range(len(completion)):\n",
    "        if participant[i] != completion[i]:\n",
    "            answer = participant[i]\n",
    "            break;\n",
    "    return answer\n",
    "\n",
    "participant = [\"leo\",\"kiki\",\"eden\"]\n",
    "completion = [\"eden\",\"kiki\"]\n",
    "\n",
    "solution(participant, completion)"
   ]
  },
  {
   "cell_type": "code",
   "execution_count": 3,
   "metadata": {},
   "outputs": [
    {
     "data": {
      "text/plain": [
       "'leo'"
      ]
     },
     "execution_count": 3,
     "metadata": {},
     "output_type": "execute_result"
    }
   ],
   "source": [
    "# 다른 풀이 (collections 라이브러리 활용)\n",
    "\n",
    "import collections\n",
    "\n",
    "def solution(participant, completion):\n",
    "    answer = collections.Counter(participant) - collections.Counter(completion)\n",
    "    return list(answer.keys())[0]\n",
    "\n",
    "participant = [\"leo\",\"kiki\",\"eden\"]\n",
    "completion = [\"eden\",\"kiki\"]\n",
    "\n",
    "solution(participant, completion)\n",
    "#선수 이름별 사람 수를 세어 계산."
   ]
  },
  {
   "cell_type": "code",
   "execution_count": 4,
   "metadata": {},
   "outputs": [
    {
     "name": "stdout",
     "output_type": "stream",
     "text": [
      "10759072767050280363\n",
      "7797275476557179726\n"
     ]
    },
    {
     "data": {
      "text/plain": [
       "'leo'"
      ]
     },
     "execution_count": 4,
     "metadata": {},
     "output_type": "execute_result"
    }
   ],
   "source": [
    "def solution(participant, completion):\n",
    "    answer =''\n",
    "    temp = 0\n",
    "    dic = {}\n",
    "    for part in participant:\n",
    "        dic[hash(part)] = part\n",
    "        temp += int(hash(part))\n",
    "    print(temp)\n",
    "    for com in completion:\n",
    "        temp -= hash(com)\n",
    "    print(temp)\n",
    "    answer = dic[temp]\n",
    "    \n",
    "    return answer\n",
    "\n",
    "participant = [\"leo\",\"kiki\",\"eden\"]\n",
    "completion = [\"eden\",\"kiki\"]\n",
    "\n",
    "solution(participant, completion)\n",
    "#hash를 통해, 각 선수 이름별 유일한 숫자로 매칭하여, participant합과 completion합의 차이를 이용"
   ]
  },
  {
   "cell_type": "markdown",
   "metadata": {},
   "source": [
    "## 해시 2번 전화번호 목록"
   ]
  },
  {
   "cell_type": "code",
   "execution_count": 1,
   "metadata": {},
   "outputs": [
    {
     "name": "stdout",
     "output_type": "stream",
     "text": [
      "['119', '1195525521', '97674223']\n"
     ]
    },
    {
     "data": {
      "text/plain": [
       "False"
      ]
     },
     "execution_count": 1,
     "metadata": {},
     "output_type": "execute_result"
    }
   ],
   "source": [
    "def solution(phone_book):\n",
    "    phone_book = sorted(phone_book)\n",
    "    print(phone_book)\n",
    "    answer = True\n",
    "    for i in range(len(phone_book)-1):\n",
    "        \n",
    "        if phone_book[0] in phone_book[i+1]:\n",
    "            answer = False\n",
    "            break\n",
    "    return answer\n",
    "\n",
    "phone_book = [\"119\",\"97674223\", \"1195525521\"]\n",
    "solution(phone_book)"
   ]
  },
  {
   "cell_type": "code",
   "execution_count": 2,
   "metadata": {},
   "outputs": [],
   "source": [
    "## 다른 풀이 \n",
    "def solution(phone_book):\n",
    "    phone_book = sorted(phone_book)\n",
    "    \n",
    "    for p1,p2 in zip(phone_book, phone_book[1:]): # zip() 은 동일한 개수로 이루어진 자료형을 묶어 주는 역할을 하는 함수\n",
    "        if p2.startswith(p1):\n",
    "            return False\n",
    "    return True\n"
   ]
  },
  {
   "cell_type": "markdown",
   "metadata": {},
   "source": [
    "## 해시 3번 위장"
   ]
  },
  {
   "cell_type": "code",
   "execution_count": 1,
   "metadata": {},
   "outputs": [
    {
     "data": {
      "text/plain": [
       "5"
      ]
     },
     "execution_count": 1,
     "metadata": {},
     "output_type": "execute_result"
    }
   ],
   "source": [
    "def solution(clothes):\n",
    "    answer = {}\n",
    "    for i in clothes:\n",
    "        \n",
    "        if i[1] in answer: \n",
    "            answer[i[1]] += 1\n",
    "            \n",
    "        else: \n",
    "            answer[i[1]] = 1\n",
    "    \n",
    "    cnt = 1\n",
    "    for i in answer.va lues():\n",
    "        cnt *= (i+1)\n",
    "    return cnt - 1\n",
    "\n",
    "clothes = [[\"yellow_hat\", \"headgear\"], [\"blue_sunglasses\", \"eyewear\"], [\"green_turban\", \"headgear\"]]\n",
    "solution(clothes)"
   ]
  },
  {
   "cell_type": "code",
   "execution_count": 2,
   "metadata": {},
   "outputs": [
    {
     "data": {
      "text/plain": [
       "{'headgear': 2, 'eyewear': 1}"
      ]
     },
     "execution_count": 2,
     "metadata": {},
     "output_type": "execute_result"
    }
   ],
   "source": [
    "clothes = [[\"yellow_hat\", \"headgear\"], [\"blue_sunglasses\", \"eyewear\"], [\"green_turban\", \"headgear\"]]\n",
    "answer = {}\n",
    "    \n",
    "for i in clothes:\n",
    "        \n",
    "    if i[1] in answer: \n",
    "        answer[i[1]] += 1\n",
    "            \n",
    "    else: \n",
    "        answer[i[1]] = 1\n",
    "answer"
   ]
  },
  {
   "cell_type": "code",
   "execution_count": 3,
   "metadata": {},
   "outputs": [
    {
     "data": {
      "text/plain": [
       "'headgear'"
      ]
     },
     "execution_count": 3,
     "metadata": {},
     "output_type": "execute_result"
    }
   ],
   "source": [
    "[\"yellow_hat\", \"headgear\"][1] # 이중 리스트에서 리스트 하나 뽑아서 [1] 이렇게 하면 인덱스1에 해당하는 원소가 나온다."
   ]
  },
  {
   "cell_type": "code",
   "execution_count": 4,
   "metadata": {},
   "outputs": [
    {
     "data": {
      "text/plain": [
       "dict_values([2, 1])"
      ]
     },
     "execution_count": 4,
     "metadata": {},
     "output_type": "execute_result"
    }
   ],
   "source": [
    "answer.values()"
   ]
  },
  {
   "cell_type": "code",
   "execution_count": 5,
   "metadata": {},
   "outputs": [
    {
     "data": {
      "text/plain": [
       "dict_keys(['headgear', 'eyewear'])"
      ]
     },
     "execution_count": 5,
     "metadata": {},
     "output_type": "execute_result"
    }
   ],
   "source": [
    "answer.keys()"
   ]
  },
  {
   "cell_type": "code",
   "execution_count": 6,
   "metadata": {},
   "outputs": [
    {
     "data": {
      "text/plain": [
       "dict_items([('headgear', 2), ('eyewear', 1)])"
      ]
     },
     "execution_count": 6,
     "metadata": {},
     "output_type": "execute_result"
    }
   ],
   "source": [
    "answer.items()"
   ]
  },
  {
   "cell_type": "code",
   "execution_count": 7,
   "metadata": {},
   "outputs": [
    {
     "name": "stdout",
     "output_type": "stream",
     "text": [
      "Counter({'headgear': 2, 'eyewear': 1})\n"
     ]
    },
    {
     "data": {
      "text/plain": [
       "5"
      ]
     },
     "execution_count": 7,
     "metadata": {},
     "output_type": "execute_result"
    }
   ],
   "source": [
    "## 다른 풀이\n",
    "def solution(clothes):\n",
    "    from collections import Counter\n",
    "    from functools import reduce\n",
    "    cnt = Counter([kind for name, kind in clothes])\n",
    "    print(cnt)\n",
    "    answer = reduce(lambda x, y: x*(y+1), cnt.values(), 1) - 1\n",
    "    return answer\n",
    "clothes = [[\"yellow_hat\", \"headgear\"], [\"blue_sunglasses\", \"eyewear\"], [\"green_turban\", \"headgear\"]]\n",
    "solution(clothes)"
   ]
  },
  {
   "cell_type": "markdown",
   "metadata": {},
   "source": [
    "## 체육복"
   ]
  },
  {
   "cell_type": "code",
   "execution_count": 1,
   "metadata": {},
   "outputs": [
    {
     "ename": "IndexError",
     "evalue": "list index out of range",
     "output_type": "error",
     "traceback": [
      "\u001b[0;31m---------------------------------------------------------------------------\u001b[0m",
      "\u001b[0;31mIndexError\u001b[0m                                Traceback (most recent call last)",
      "\u001b[0;32m<ipython-input-1-248abc1a37bf>\u001b[0m in \u001b[0;36m<module>\u001b[0;34m\u001b[0m\n\u001b[1;32m     18\u001b[0m \u001b[0mreserve\u001b[0m\u001b[0;34m=\u001b[0m\u001b[0;34m[\u001b[0m\u001b[0;36m1\u001b[0m\u001b[0;34m,\u001b[0m\u001b[0;36m3\u001b[0m\u001b[0;34m,\u001b[0m\u001b[0;36m5\u001b[0m\u001b[0;34m]\u001b[0m\u001b[0;34m\u001b[0m\u001b[0;34m\u001b[0m\u001b[0m\n\u001b[1;32m     19\u001b[0m \u001b[0;34m\u001b[0m\u001b[0m\n\u001b[0;32m---> 20\u001b[0;31m \u001b[0msolution\u001b[0m\u001b[0;34m(\u001b[0m\u001b[0mn\u001b[0m\u001b[0;34m,\u001b[0m\u001b[0mlost\u001b[0m\u001b[0;34m,\u001b[0m\u001b[0mreserve\u001b[0m\u001b[0;34m)\u001b[0m\u001b[0;34m\u001b[0m\u001b[0;34m\u001b[0m\u001b[0m\n\u001b[0m",
      "\u001b[0;32m<ipython-input-1-248abc1a37bf>\u001b[0m in \u001b[0;36msolution\u001b[0;34m(n, lost, reserve)\u001b[0m\n\u001b[1;32m      3\u001b[0m \u001b[0;34m\u001b[0m\u001b[0m\n\u001b[1;32m      4\u001b[0m     \u001b[0;32mfor\u001b[0m \u001b[0mi\u001b[0m \u001b[0;32min\u001b[0m \u001b[0mrange\u001b[0m\u001b[0;34m(\u001b[0m\u001b[0mlen\u001b[0m\u001b[0;34m(\u001b[0m\u001b[0mlost\u001b[0m\u001b[0;34m)\u001b[0m\u001b[0;34m)\u001b[0m\u001b[0;34m:\u001b[0m\u001b[0;34m\u001b[0m\u001b[0;34m\u001b[0m\u001b[0m\n\u001b[0;32m----> 5\u001b[0;31m         \u001b[0;32mif\u001b[0m\u001b[0;34m(\u001b[0m\u001b[0mreserve\u001b[0m\u001b[0;34m[\u001b[0m\u001b[0mi\u001b[0m\u001b[0;34m]\u001b[0m\u001b[0;34m+\u001b[0m\u001b[0;36m1\u001b[0m \u001b[0;34m==\u001b[0m \u001b[0mlost\u001b[0m\u001b[0;34m[\u001b[0m\u001b[0mi\u001b[0m\u001b[0;34m]\u001b[0m\u001b[0;34m)\u001b[0m\u001b[0;34m:\u001b[0m\u001b[0;34m\u001b[0m\u001b[0;34m\u001b[0m\u001b[0m\n\u001b[0m\u001b[1;32m      6\u001b[0m             \u001b[0mreserve\u001b[0m\u001b[0;34m.\u001b[0m\u001b[0mremove\u001b[0m\u001b[0;34m(\u001b[0m\u001b[0mreserve\u001b[0m\u001b[0;34m[\u001b[0m\u001b[0mi\u001b[0m\u001b[0;34m]\u001b[0m\u001b[0;34m)\u001b[0m\u001b[0;34m\u001b[0m\u001b[0;34m\u001b[0m\u001b[0m\n\u001b[1;32m      7\u001b[0m             \u001b[0mlost\u001b[0m\u001b[0;34m.\u001b[0m\u001b[0mremove\u001b[0m\u001b[0;34m(\u001b[0m\u001b[0mlost\u001b[0m\u001b[0;34m[\u001b[0m\u001b[0mi\u001b[0m\u001b[0;34m]\u001b[0m\u001b[0;34m)\u001b[0m\u001b[0;34m\u001b[0m\u001b[0;34m\u001b[0m\u001b[0m\n",
      "\u001b[0;31mIndexError\u001b[0m: list index out of range"
     ]
    }
   ],
   "source": [
    "def solution(n, lost, reserve):\n",
    "    answer = 0\n",
    "    \n",
    "    for i in range(len(lost)): #list index out of range가 뜸. lost리스트랑 reserve리스트 길이가 다르기 때문에. 그냥 일반 for문으로 ㄱ.\n",
    "        if(reserve[i]+1 == lost[i]):\n",
    "            reserve.remove(reserve[i]) # remove는 해당하는 수를 뽑느거. pop은 해당 인덱스를 뽑는거.\n",
    "            lost.remove(lost[i])\n",
    "            \n",
    "        elif(lost[i]-1 == reserve[i]):\n",
    "            lost.remove(lost[i])\n",
    "            reserve.remove(reserve[i])\n",
    "    \n",
    "    answer = n- len(lost)            \n",
    "    return answer\n",
    "\n",
    "n=5\n",
    "lost=[2,4]\n",
    "reserve=[1,3,5]\n",
    "\n",
    "solution(n,lost,reserve)"
   ]
  },
  {
   "cell_type": "code",
   "execution_count": 11,
   "metadata": {},
   "outputs": [],
   "source": [
    "# 체육복을 도난당한 친구들에게 체육복을 최대한 많이 빌려주기. 어떻게 빌려주기?\n",
    "# 결국은 n-lost임. 다만 이제 reserve에서 lost를 얼마나 많이 메꿔주냐.\n",
    "# lost에 있는 수를 +-1했을 때 그 수가 reserve에 있으면 reserve,lost에 있는 숫자를 빼준다.\n",
    "# 다만, lost리스트에서 -먼저 해볼것. +를 하면 적절히 분배가 안됨. \n",
    "## 중복 제외 --> 이걸 안해주면 테스트 오류뜸. 제한사항이므로 지켜줘야함\n",
    "def solution(n,lost,reserve):\n",
    "    reserve_set = set(reserve)- set(lost)\n",
    "    lost_set = set(lost)-set(reserve)\n",
    "    for i in reserve_set: # lost세트가 아닌 reserve세트로 해야하는 이유: 리저브세트가 커버 영역이 당연히 더 넓음. 왼쪽부터 맞춰주기.\n",
    "        if  i-1 in lost_set:\n",
    "            lost_set.remove(i-1)\n",
    "        elif i+1 in lost_set:\n",
    "            lost_set.remove(i+1)\n",
    "    \n",
    "    answer = n-len(lost_set)\n",
    "    return answer"
   ]
  },
  {
   "cell_type": "markdown",
   "metadata": {},
   "source": [
    "## 큰 수 만들기"
   ]
  },
  {
   "cell_type": "code",
   "execution_count": 21,
   "metadata": {},
   "outputs": [
    {
     "name": "stdout",
     "output_type": "stream",
     "text": [
      "[('1', '9'), ('1', '2'), ('1', '4'), ('9', '2'), ('9', '4'), ('2', '4')]\n"
     ]
    },
    {
     "data": {
      "text/plain": [
       "'94'"
      ]
     },
     "execution_count": 21,
     "metadata": {},
     "output_type": "execute_result"
    }
   ],
   "source": [
    "##잘못된 풀이\n",
    "import itertools\n",
    "def solution(number,k):\n",
    "    answer=''\n",
    "    c = list(itertools.combinations(number,k))\n",
    "    print(c)\n",
    "    c=max(c)\n",
    "    for i in c:\n",
    "        answer +=i\n",
    "    return answer\n",
    "\n",
    "number =\"1924\"\n",
    "k=2\n",
    "\n",
    "solution(number,k)"
   ]
  },
  {
   "cell_type": "code",
   "execution_count": null,
   "metadata": {},
   "outputs": [],
   "source": [
    "# 어떤 숫자에서 k개의 수를 제거했을 때 얻을 수 있는 가장 큰 숫자를 구하기\n",
    "from itertools import combinations\n",
    "def solution(number,k):\n",
    "    answer=''\n",
    "    number =list(number)\n",
    "    a = [''.join(map(str,i)) for i in combinations(number,len(number)-k)]\n",
    "    # b = [list(i) for i in a] --> combination된 조합들이 괄호로 묶여 있어서 리스트로 바꿔줌 (근데 굳이 안바꿔줘도 될듯)\n",
    "    # c = [''.join(map(str,i)) for i in a] --> ''.join(map(str,i)) 이걸 할라고 만들어 놨는데 이것도 a 컴프리헨션에다가 바로 해도 됨.\n",
    "    answer = max(a)\n",
    "    return answer"
   ]
  },
  {
   "cell_type": "markdown",
   "metadata": {},
   "source": [
    "## 월간 코드 챌린지 시즌1 - 두개 뽑아서 더하기"
   ]
  },
  {
   "cell_type": "code",
   "execution_count": 27,
   "metadata": {},
   "outputs": [
    {
     "data": {
      "text/plain": [
       "[2, 3, 4, 5, 6, 7]"
      ]
     },
     "execution_count": 27,
     "metadata": {},
     "output_type": "execute_result"
    }
   ],
   "source": [
    "#1번풀이 --> 테스트4,5 실패 / 정확도:77.8점 / 결과: 실패\n",
    "# numbers에서 서로 다른 인덱스에 있는 두 개의 수를 뽑아 더해서 만들 수 있는 모든 수를 배열에 오름차순으로 담아 return 하도록 solution 함수를 완성\n",
    "# numbers의 길이는 2이상 100이하입니다. 모든 수는 0이상 100이하입니다.\n",
    "import itertools\n",
    "def solution(numbers):\n",
    "    answer = []\n",
    "    a= list(itertools.combinations(numbers,2)) #list만들어주기\n",
    "    b= [list(i) for i in a] #콤비네이션을 통해 나온 값이 tuple이기에 그 값들을 리스트로 바꿔줄 필요가 잇다. 튜플끼리는 계산 불가하기 때문. \n",
    "    for i in b:\n",
    "        answer.append(sum(i)) #answer가 리스트이므로 append 활용. set이면 add활용.\n",
    "        answer = list(set(answer)) #리스트 중복값 삭제\n",
    "    return answer\n",
    "\n",
    "numbers=[2,1,3,4,1]\n",
    "solution(numbers)\n",
    "\n"
   ]
  },
  {
   "cell_type": "code",
   "execution_count": 30,
   "metadata": {},
   "outputs": [
    {
     "data": {
      "text/plain": [
       "[2, 3, 4, 5, 6, 7]"
      ]
     },
     "execution_count": 30,
     "metadata": {},
     "output_type": "execute_result"
    }
   ],
   "source": [
    "import itertools\n",
    "def solutions(numbers):\n",
    "    answer=set()\n",
    "    for i in itertools.combinations(numbers,2): #combination을 바로 for문 안에 넣어서 불필요한 줄을 줄임.\n",
    "        answer.add(sum(i)) #answer는 지금 set을 활용했기 때문에 리스트가 아닌 집합임. 그러므로 append를 활용할 수 있고 add를 써서 원소를 더해주는 느낌으로 접근해야함.\n",
    "    return sorted(answer) #정렬로 sorted 활용.\n",
    "numbers=[2,1,3,4,1]\n",
    "solutions(numbers)\n",
    "\n",
    "# 1번풀이와 차이점 --> \n",
    "#1. list가 아닌 set으로 시작. 중복 제거를 위해.\n",
    "#2. for문 안에 combinations리스트를 바로 집어 넣음. \n",
    "#3. set이므로 add씀.\n",
    "#4. sorted 활용.\n"
   ]
  },
  {
   "cell_type": "code",
   "execution_count": 22,
   "metadata": {},
   "outputs": [
    {
     "ename": "KeyboardInterrupt",
     "evalue": "",
     "output_type": "error",
     "traceback": [
      "\u001b[0;31m---------------------------------------------------------------------------\u001b[0m",
      "\u001b[0;31mKeyboardInterrupt\u001b[0m                         Traceback (most recent call last)",
      "\u001b[0;32m<ipython-input-22-65078211dffb>\u001b[0m in \u001b[0;36m<module>\u001b[0;34m\u001b[0m\n\u001b[1;32m      3\u001b[0m \u001b[0ma\u001b[0m\u001b[0;34m=\u001b[0m\u001b[0;36m0\u001b[0m\u001b[0;34m\u001b[0m\u001b[0;34m\u001b[0m\u001b[0m\n\u001b[1;32m      4\u001b[0m \u001b[0;32mwhile\u001b[0m \u001b[0;32mTrue\u001b[0m\u001b[0;34m:\u001b[0m\u001b[0;34m\u001b[0m\u001b[0;34m\u001b[0m\u001b[0m\n\u001b[0;32m----> 5\u001b[0;31m     \u001b[0;32mif\u001b[0m \u001b[0;36m3\u001b[0m\u001b[0;34m**\u001b[0m\u001b[0mm\u001b[0m\u001b[0;34m<=\u001b[0m \u001b[0mn\u001b[0m \u001b[0;32mand\u001b[0m \u001b[0;36m3\u001b[0m\u001b[0;34m**\u001b[0m\u001b[0;34m(\u001b[0m\u001b[0mm\u001b[0m\u001b[0;34m+\u001b[0m\u001b[0;36m1\u001b[0m\u001b[0;34m)\u001b[0m\u001b[0;34m>\u001b[0m\u001b[0mn\u001b[0m\u001b[0;34m:\u001b[0m\u001b[0;34m\u001b[0m\u001b[0;34m\u001b[0m\u001b[0m\n\u001b[0m\u001b[1;32m      6\u001b[0m         \u001b[0ma\u001b[0m\u001b[0;34m=\u001b[0m\u001b[0mm\u001b[0m\u001b[0;34m\u001b[0m\u001b[0;34m\u001b[0m\u001b[0m\n\u001b[1;32m      7\u001b[0m         \u001b[0;32mbreak\u001b[0m\u001b[0;34m\u001b[0m\u001b[0;34m\u001b[0m\u001b[0m\n",
      "\u001b[0;31mKeyboardInterrupt\u001b[0m: "
     ]
    }
   ],
   "source": [
    "\n",
    "while True:  \n",
    "    "
   ]
  },
  {
   "cell_type": "code",
   "execution_count": null,
   "metadata": {},
   "outputs": [],
   "source": []
  }
 ],
 "metadata": {
  "kernelspec": {
   "display_name": "Python 3",
   "language": "python",
   "name": "python3"
  },
  "language_info": {
   "codemirror_mode": {
    "name": "ipython",
    "version": 3
   },
   "file_extension": ".py",
   "mimetype": "text/x-python",
   "name": "python",
   "nbconvert_exporter": "python",
   "pygments_lexer": "ipython3",
   "version": "3.7.4"
  }
 },
 "nbformat": 4,
 "nbformat_minor": 4
}
