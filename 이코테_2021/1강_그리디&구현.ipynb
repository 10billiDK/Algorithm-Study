{
 "cells": [
  {
   "cell_type": "markdown",
   "metadata": {},
   "source": [
    "# 당장 좋은 것만 선택하는 그리디"
   ]
  },
  {
   "cell_type": "markdown",
   "metadata": {},
   "source": [
    "## 거스름돈"
   ]
  },
  {
   "cell_type": "code",
   "execution_count": 45,
   "metadata": {},
   "outputs": [
    {
     "name": "stdout",
     "output_type": "stream",
     "text": [
      "1260\n",
      "6\n"
     ]
    }
   ],
   "source": [
    "# 거스름돈 500,100,50,10원 무한히 존재\n",
    "# 손님에게 거슬러 줘야 할 돈이 N원일 때, 거슬러 줘야 할 동전의 최소 개수를 구하라. 단, 거슬러줘야 할 돈 N은 항상 10의 배수이다.\n",
    "\n",
    "N= int(input())\n",
    "change = [500,100,50,10]\n",
    "answer =0\n",
    "for i in change:\n",
    "    answer += N //i\n",
    "    N= N-(N//i)*i #(N%i)\n",
    "print(answer)"
   ]
  },
  {
   "cell_type": "markdown",
   "metadata": {},
   "source": [
    "## 큰 수의 법칙"
   ]
  },
  {
   "cell_type": "code",
   "execution_count": 48,
   "metadata": {},
   "outputs": [
    {
     "name": "stdout",
     "output_type": "stream",
     "text": [
      "5 8 3\n",
      "2 4 5 4 6\n",
      "46\n"
     ]
    }
   ],
   "source": [
    "# 주어진 수들을 M번 더하여 가장 큰 수를 만드는 법칙이다. 단, 배열의 특정한 인데스에 해당하는 수가 연속해서 K번을 초과하여 더해질 수 없는 것이 이 법칙의 특징이다.\n",
    "N,M,K = map(int, input().split())\n",
    "array = list(map(int, input().split()))\n",
    "\n",
    "array.sort() # 입력 받은 수들 정렬하기 #가장 큰수가 한 개가 아니라 n개가 나오면 어떻게 하지라고 맥스함수에도 한계가 있어서 고민했는데, 이를 정렬해서 활용하면 된다.\n",
    "first = array[N-1] # 가장 큰 수\n",
    "second = array[N-2] # 두 번째로 큰 수\n",
    "\n",
    "result=0\n",
    "\n",
    "while True:\n",
    "    for i in range(K): # 가장 큰 수를 K번 더하기\n",
    "        if M==0: #m이 0이라면 반복문 탈출\n",
    "            break\n",
    "        result += first\n",
    "        M -=1 # 더할 때마다 1씩 빼기\n",
    "    if M==0: # m이 0이라면 반복문 탈출\n",
    "        break\n",
    "    result += second # 두번째로 큰 수를 한 번 더하기\n",
    "    M -=1 #더할 떄마다 1씩 빼기\n",
    "print(result) # 최종 답안 출력"
   ]
  },
  {
   "cell_type": "markdown",
   "metadata": {},
   "source": [
    "## 숫자 카드 게임"
   ]
  },
  {
   "cell_type": "code",
   "execution_count": 50,
   "metadata": {},
   "outputs": [
    {
     "name": "stdout",
     "output_type": "stream",
     "text": [
      "2 4\n",
      "7 3 1 8\n",
      "3 3 3 4\n",
      "3\n"
     ]
    }
   ],
   "source": [
    "# 여러 개의 숫자 카드 중에서 가장 높은 숫자가 쓰인 카드 한장을 뽑는 게임\n",
    "# 행을 먼저 선택하고, 포함된 카드들 중 가장 숫자가 낮은 카드를 뽑아야한다.\n",
    "# 굳이 이중 리스트 맞춰서 풀 이유가 없다. \n",
    "\n",
    "n,m = map(int, input().split())\n",
    "result =0\n",
    "for i in range(n):\n",
    "    data = list(map(int, input().split()))\n",
    "    min_value = min(data)\n",
    "    result = max(result, min_value)\n",
    "print(result)\n"
   ]
  },
  {
   "cell_type": "markdown",
   "metadata": {},
   "source": [
    "## 1이 될때까지"
   ]
  },
  {
   "cell_type": "code",
   "execution_count": 39,
   "metadata": {},
   "outputs": [
    {
     "name": "stdout",
     "output_type": "stream",
     "text": [
      "25 5\n"
     ]
    },
    {
     "data": {
      "text/plain": [
       "2"
      ]
     },
     "execution_count": 39,
     "metadata": {},
     "output_type": "execute_result"
    }
   ],
   "source": [
    "# 어떠한 수 N이 1이 될 때까지 다음의 두 과정 중 하나를 반복적으로 선택하여 수행.\n",
    "# 단, 두번째 연산은 N이 K로 나누어 떨어질 때만 선택할 수 있다. \n",
    "# 풀이시간 15분이라고 주어짐. 13분 30초 걸림. while문에 대한 정확한 이해 필요.\n",
    "N, K= map(int, input().split())\n",
    "\n",
    "def solution(N, K):\n",
    "    cnt=0 #전역변수로 지정하면(함수 바깥에 지정하면 오류뜸). 그러므로 지역변수로 설정할 필요가 있다.\n",
    "    while N !=1: # N이 1이 아니면 돌아라.\n",
    "        if N % K !=0:\n",
    "            N=N-1\n",
    "            cnt +=1\n",
    "        else: \n",
    "            N= N//K\n",
    "            cnt +=1\n",
    "    return cnt\n",
    "solution(N,K)\n",
    "\n",
    "'''#나동빈님 풀이 --> 시간복잡도가 훨씬 줄어든다. 한 싸이클을 돌 때 한번씩 나눠주기 때문에.\n",
    "\n",
    "result = 0\n",
    "while True:\n",
    "    #N이 K로 나누어 떨어지는 수가 될 때까지 빼기\n",
    "    target = (n//k)*k\n",
    "    result += (n-target)\n",
    "    n=target\n",
    "    #N이 K보다 작을 때 (더 이상 나눌 수 없을 때) 반복문 탈출\n",
    "    if n<k:\n",
    "        break\n",
    "    #K로 나누기\n",
    "    result +=1\n",
    "    n//=k\n",
    "# 마지막으로 남은 수에 대하여 1씩 빼기\n",
    "result += (n-1)\n",
    "print(result)'''\n",
    "\n",
    "solution(N,K)"
   ]
  },
  {
   "cell_type": "markdown",
   "metadata": {},
   "source": [
    "# 곱하기 혹은 더하기"
   ]
  },
  {
   "cell_type": "code",
   "execution_count": 22,
   "metadata": {},
   "outputs": [
    {
     "name": "stdout",
     "output_type": "stream",
     "text": [
      "567\n"
     ]
    },
    {
     "data": {
      "text/plain": [
       "210"
      ]
     },
     "execution_count": 22,
     "metadata": {},
     "output_type": "execute_result"
    }
   ],
   "source": [
    "## 기출문제: 곱하기 혹은 더하기\n",
    "# 숫자 0~9로만 이루어진 문자열 S가 주어졌을 때, 왼쪽부터 오른쪽으로 하나씩 모든 숫자를 확인하며 숫자 사이에 곱하기 혹은 더하기 연산자를 넣어 결과적으로 만들어질 수 있는 가장 큰 수를 구하는 프로그램 작성\n",
    "# 모든 연산은 왼쪽에서부터 순서대로.\n",
    "\n",
    "# 0을 만나는것이 아닌 이상 곱하는것이 최대한 큰 수를 만들 수 있음.\n",
    "# 30분 안에 푸는거 15분 컷.\n",
    "N = str(input())\n",
    "N = [str(i) for i in N]\n",
    "\n",
    "def solution(N):\n",
    "    answer =0\n",
    "    for i in range(len(N)):\n",
    "        if answer == 0 or answer ==1:\n",
    "            answer += int(N[i])\n",
    "        else:\n",
    "            answer *= int(N[i])\n",
    "    \n",
    "    return answer\n",
    "solution(N)\n",
    "\n",
    "#나동빈님 풀이\n",
    "\n",
    "data = input()\n",
    "\n",
    "#첫 번째 문자를 숫자로 변경하여 대입\n",
    "result = int(data[0])\n",
    "\n",
    "for i in range(1, len(data)):\n",
    "    # 두 수 중에서 하나라도 '0'혹은 '1'인 경우, 곱하기보다는 더하기 수행\n",
    "    num = int(data[i])\n",
    "    if num <=1 or result <=1:\n",
    "        result += num\n",
    "    else:\n",
    "        result *= num\n",
    "print(result)"
   ]
  },
  {
   "cell_type": "markdown",
   "metadata": {},
   "source": [
    "# 모험가 길드"
   ]
  },
  {
   "cell_type": "code",
   "execution_count": 34,
   "metadata": {},
   "outputs": [
    {
     "name": "stdout",
     "output_type": "stream",
     "text": [
      "5\n",
      "2 3 1 2 2\n",
      "[1, 2, 2, 2, 3]\n"
     ]
    },
    {
     "data": {
      "text/plain": [
       "2"
      ]
     },
     "execution_count": 34,
     "metadata": {},
     "output_type": "execute_result"
    }
   ],
   "source": [
    "## 기출문제: 모험가 길드\n",
    "# 공포도가 높으면 높을수록 위험 상황에서 대처할 능력이 떨어짐\n",
    "# 공포도가 X인 모험가는 반드시 X명 이상으로 구성한 모험가 그룹에 참여\n",
    "# --> 리스트에서 가장 큰 수를 찾아서 그보다 작거나 같은 수들을 묶어서 빼고, 이를 반복.\n",
    "# 최대 몇 개의 모험가 그룹을 만들 수 있는지 궁금.\n",
    "# N명의 모험가에 대한 정보가 주어졌을 때, 여행을 떠날 수 있는 그룹 수의 최댓값을 구하는 프로그램 작성\n",
    "N = int(input())\n",
    "travelers = list(map(int, input().split()))\n",
    "def solution(N,travelers):\n",
    "    result=0\n",
    "    travelers = sorted(travelers)\n",
    "    print(travelers)\n",
    "    while True:\n",
    "        k= max(travelers)\n",
    "        \n",
    "        if len(travelers) <= k:\n",
    "            result +=1\n",
    "            break\n",
    "        for i in range(k):\n",
    "            travelers.remove(travelers[-1])\n",
    "        result +=1\n",
    "        \n",
    "    return result\n",
    "solution(N, travelers)\n",
    "\n",
    "# 나동빈님 풀이\n",
    "\n",
    "#오름차순 정렬 이후에 공포도가 가장 낮은 모험가부터 하나씩 확인한다.\n",
    "#앞에서부터 공포도를 하나씩 확인하며 현재 그룹에 포함된 모험가의 수가 현재 확인하고 있는 공포도보다 크거나 같다면 이를 그룹으로 설정하면 됩니다.\n",
    "# 이러한 방법을 이용하면 공포도가 오름차순으로 정렬되어 있다는 점에서, 항상 최소한의 모험가의 수만 포함하여 그룹을 결성하게 됩니다. \n",
    "\n",
    "result=0 # 총 그룹의 수\n",
    "count=0 # 현재 그룹에 포함된 모험가의 수\n",
    "\n",
    "for i in data: # 공포도를 낮은 것부터 하나씩 확인하며\n",
    "    count +=1 # 현재 그룹에 해당 모험가를 포함시키기\n",
    "    if count >=i: # 현재 그룹에 포함된 모험가의 수가 현재의 공포도 이상이라면, 그룹 결성\n",
    "        result +=1 # 총 그룹의 수 증가시키기\n",
    "        count=0 # 현재 그룹에 포함된 모험가의 수 초기화\n",
    "print(result) #총 그룹의 수 출력"
   ]
  },
  {
   "cell_type": "markdown",
   "metadata": {},
   "source": [
    "# 문자열 뒤집기"
   ]
  },
  {
   "cell_type": "code",
   "execution_count": 53,
   "metadata": {},
   "outputs": [
    {
     "name": "stdout",
     "output_type": "stream",
     "text": [
      "01010\n",
      "2\n"
     ]
    }
   ],
   "source": [
    "# 문자열 s에 있는 모든 숫자를 전부 같게 만들려고 함.\n",
    "# 연속된 하나 이상의 숫자를 잡고 모두 뒤집는 것.\n",
    "# 연속하는 숫자를 뒤집어야함. 예를 들어, 1010101 이거는 지금 한번에 할 수 있는거? 하는거면 문제를 왜 냈겠어. 1을 네번 바꾸느니 0을 세번 바꾼다. 이런 방식으로 접근\n",
    "# 먼저 연속하는지를 봐야함. 그리고 그걸 뭉텅이 지어줘야함.\n",
    "# 그리고 나서 갯수 카운트 하면서 바꿔줌(사실 바꿀 필요 없이 연속된0 바뀌는 횟수, 연속된1 바뀌는 횟수를 비교해서 최소 횟수를 출력하면 됨)\n",
    "data = input() #int를 씌워주면 안됨. 자릿수별로 뜯어볼 것이기 때문에. 그냥 input은 str으로 받아들임.\n",
    "count0 =0 # 전부 0으로 바꾸는 경우\n",
    "count1 =0 # 전부 1로 바꾸는 경우\n",
    "\n",
    "# 첫번째 원소에 대한 처리를 안해주면 코드를 어떻게 짜야 될지 방향성이 안 보임. 하나의 배열에서 어떤 인덱스에 해당하는 수와 그 다음의 인덱스에 해당하는 수가 같은지 다른지 비교하려면 리스트의 첫번째 원소가 어떤지 보고 방향을 정하자.\n",
    "\n",
    "if data[0] =='1':\n",
    "    count0 +=1\n",
    "else:\n",
    "    count1 +=1\n",
    "# 두 번째 원소부터 모든 원소를 확인하며   \n",
    "for i in range(len(data)-1):\n",
    "    if data[i] != data[i+1]: ## 다름의 경우만 고려하는 이유는, 같은 경우에는 카운트를 늘릴 필요가 없다.\n",
    "        if data[i+1]=='1':\n",
    "            count0 +=1\n",
    "        else:\n",
    "            count1 +=1\n",
    "print(min(count0, count1))\n",
    "    \n"
   ]
  },
  {
   "cell_type": "markdown",
   "metadata": {},
   "source": [
    "# 만들 수 없는 금액"
   ]
  },
  {
   "cell_type": "code",
   "execution_count": 71,
   "metadata": {},
   "outputs": [
    {
     "name": "stdout",
     "output_type": "stream",
     "text": [
      "5\n",
      "3 2 1 1 9\n",
      "[3, 2, 1, 1, 9]\n",
      "{1, 2, 3, 4, 5, 6, 7, 9, 10, 11, 12, 13, 14, 15, 16}\n",
      "{8}\n",
      "8\n"
     ]
    }
   ],
   "source": [
    "# N개의 동전을 이용하여 만들 수 없는 양의 정수 금액 중 최솟값을 구하는 프로그램을 작성\n",
    "# N개의 동전 리스트에서 1부터 N개까지 뽑으면서 만들 수 있는 수를 다 만들어 보고, 그 중 최댓값을 골라내고 1부터 최댓값 리스트를 만들어 앞의 리스트에 담긴 원소를 빼준다.\n",
    "import itertools\n",
    "N = int(input())\n",
    "coins = list(map(int, input().split()))\n",
    "\n",
    "list_=[]\n",
    "for i in range(1,N+1):\n",
    "    list_ += [sum(j) for j in list(itertools.combinations(coins,i))]\n",
    "\n",
    "list_= set(list_)\n",
    "\n",
    "k=max(list_)\n",
    "k_list = set([i+1 for i in range(k)])\n",
    "k_list = k_list-list_\n",
    "\n",
    "print(min(k_list))\n",
    "\n",
    "## 나동빈님 풀이\n",
    "n= int(input())\n",
    "data = list(map(int, input().split()))\n",
    "data.sort()\n",
    "\n",
    "target=1\n",
    "for x in data:\n",
    "    #만들 수 없는 금액을 찾았을 때 반복 종료\n",
    "    if target<x:\n",
    "        break\n",
    "    target +=x\n",
    "#만들 수 없는 금액 출력\n",
    "print(target)"
   ]
  },
  {
   "cell_type": "markdown",
   "metadata": {},
   "source": [
    "# 볼링공 고르기"
   ]
  },
  {
   "cell_type": "code",
   "execution_count": 80,
   "metadata": {},
   "outputs": [
    {
     "name": "stdout",
     "output_type": "stream",
     "text": [
      "5 3\n",
      "1 3 2 3 2\n",
      "8\n"
     ]
    }
   ],
   "source": [
    "#무게가 같은 공 고르면 안됨(서로 무게가 다른 볼링공 고르기)\n",
    "import itertools\n",
    "n,m = map(int,input().split())\n",
    "list_= list(map(int,input().split()))\n",
    "\n",
    "ball = [list(i) for i in itertools.combinations(list_,2)]\n",
    "ball_= []\n",
    "for i in range(len(ball)):\n",
    "    if ball[i][0]!=ball[i][1]:\n",
    "#ball.remove(ball[i]) 여기서 remove를 쓰게 되면 ball 길이가 줄면서 진행. 그래서 새로운 리스트를 만들어서 더해줌.\n",
    "        ball_.append(ball[i])\n",
    "\n",
    "print(len(ball_))\n",
    "        "
   ]
  },
  {
   "cell_type": "markdown",
   "metadata": {},
   "source": [
    "# 무지의 먹방 라이브"
   ]
  },
  {
   "cell_type": "code",
   "execution_count": 85,
   "metadata": {},
   "outputs": [
    {
     "ename": "IndexError",
     "evalue": "list index out of range",
     "output_type": "error",
     "traceback": [
      "\u001b[0;31m---------------------------------------------------------------------------\u001b[0m",
      "\u001b[0;31mIndexError\u001b[0m                                Traceback (most recent call last)",
      "\u001b[0;32m<ipython-input-85-e415783b85ad>\u001b[0m in \u001b[0;36m<module>\u001b[0;34m\u001b[0m\n\u001b[1;32m     26\u001b[0m \u001b[0mk\u001b[0m\u001b[0;34m=\u001b[0m\u001b[0;36m5\u001b[0m\u001b[0;34m\u001b[0m\u001b[0;34m\u001b[0m\u001b[0m\n\u001b[1;32m     27\u001b[0m \u001b[0mresult\u001b[0m\u001b[0;34m=\u001b[0m\u001b[0;36m1\u001b[0m\u001b[0;34m\u001b[0m\u001b[0;34m\u001b[0m\u001b[0m\n\u001b[0;32m---> 28\u001b[0;31m \u001b[0msolutions\u001b[0m\u001b[0;34m(\u001b[0m\u001b[0mfood_times\u001b[0m\u001b[0;34m,\u001b[0m\u001b[0mk\u001b[0m\u001b[0;34m,\u001b[0m\u001b[0mresult\u001b[0m\u001b[0;34m)\u001b[0m\u001b[0;34m\u001b[0m\u001b[0;34m\u001b[0m\u001b[0m\n\u001b[0m",
      "\u001b[0;32m<ipython-input-85-e415783b85ad>\u001b[0m in \u001b[0;36msolutions\u001b[0;34m(food_times, k, result)\u001b[0m\n\u001b[1;32m      4\u001b[0m     \u001b[0mi\u001b[0m\u001b[0;34m=\u001b[0m\u001b[0;36m0\u001b[0m\u001b[0;34m\u001b[0m\u001b[0;34m\u001b[0m\u001b[0m\n\u001b[1;32m      5\u001b[0m     \u001b[0;32mwhile\u001b[0m \u001b[0;32mTrue\u001b[0m\u001b[0;34m:\u001b[0m\u001b[0;34m\u001b[0m\u001b[0;34m\u001b[0m\u001b[0m\n\u001b[0;32m----> 6\u001b[0;31m         \u001b[0;32mif\u001b[0m \u001b[0mfood_times\u001b[0m\u001b[0;34m[\u001b[0m\u001b[0mi\u001b[0m\u001b[0;34m]\u001b[0m \u001b[0;34m!=\u001b[0m\u001b[0;36m0\u001b[0m\u001b[0;34m:\u001b[0m\u001b[0;34m\u001b[0m\u001b[0;34m\u001b[0m\u001b[0m\n\u001b[0m\u001b[1;32m      7\u001b[0m             \u001b[0mfood_times\u001b[0m\u001b[0;34m[\u001b[0m\u001b[0mi\u001b[0m\u001b[0;34m]\u001b[0m \u001b[0;34m-=\u001b[0m\u001b[0;36m1\u001b[0m\u001b[0;34m\u001b[0m\u001b[0;34m\u001b[0m\u001b[0m\n\u001b[1;32m      8\u001b[0m             \u001b[0mk\u001b[0m\u001b[0;34m-=\u001b[0m\u001b[0;36m1\u001b[0m\u001b[0;34m\u001b[0m\u001b[0;34m\u001b[0m\u001b[0m\n",
      "\u001b[0;31mIndexError\u001b[0m: list index out of range"
     ]
    }
   ],
   "source": [
    "# 1번 음식부터 먹기 시작\n",
    "# 음식 하나를 1초동안 섭취\n",
    "def solutions(food_times, k, result):\n",
    "    i=0\n",
    "    while True:\n",
    "        if food_times[i] !=0:\n",
    "            food_times[i] -=1\n",
    "            k-=1\n",
    "            i+=1\n",
    "        else:\n",
    "#food_times[i+1] -=1 당장 그 다음꺼만 지워주는거. 스스로 0이 아닌 인덱스를 찾아가서 지워주게끔. 어떻게 찾게? while문으로 0인데까지 찾아보고 break\n",
    "            while food_times[i]==0:\n",
    "                i+=1\n",
    "                if food_times!=0:\n",
    "                    break\n",
    "            food_times[i]-=1\n",
    "            k-=1\n",
    "            \n",
    "            if k==0:\n",
    "                break\n",
    "    result=(i % len(food_times))+1\n",
    "        \n",
    "    return result\n",
    "\n",
    "food_times=[3,1,2]\n",
    "k=5\n",
    "result=1\n",
    "solutions(food_times,k,result)\n",
    "\n",
    "##위의 풀이 오류 뜸.\n",
    "\n",
    "## 나동빈님 풀이는 heapq를 활용. 우선순위 큐에 대한 내용은 다익스트라 알고리즘 파트에서 다룸."
   ]
  },
  {
   "cell_type": "markdown",
   "metadata": {},
   "source": [
    "# 아이디어를 코드로 바꾸는 구현"
   ]
  },
  {
   "cell_type": "markdown",
   "metadata": {},
   "source": [
    "## 완전탐색: 모든 경우의 수를 주저 없이 다 계산하는 해결 방법"
   ]
  },
  {
   "cell_type": "markdown",
   "metadata": {},
   "source": [
    "## 시뮬레이션: 문제에서 제시한 알고리즘을 한 단계씩 차례대로 직접 수행해야 하는 문제 유형"
   ]
  },
  {
   "cell_type": "markdown",
   "metadata": {},
   "source": [
    "# 상하좌우"
   ]
  },
  {
   "cell_type": "code",
   "execution_count": 20,
   "metadata": {},
   "outputs": [
    {
     "name": "stdout",
     "output_type": "stream",
     "text": [
      "5\n",
      "R R R U D D \n",
      "1 2\n",
      "1 3\n",
      "1 4\n",
      "1 4\n",
      "2 4\n",
      "3 4\n",
      "3 4\n"
     ]
    }
   ],
   "source": [
    "# 가장 왼쪽 위 좌표는 (1,1)이며, 가장 오른쪽 아래 좌표는 (N,N)에 해당한다.\n",
    "# 여행가 A는 상,하,좌,우 방향으로 이동할 수 있으며, 시작 좌표는 항상(1,1)이다.\n",
    "# 이떄 여행가 A가 n*n 크기의 정사각형 공간을 벗어나는 움직임은 무시된다.\n",
    "\n",
    "n= int(input())\n",
    "direction = list(input().split())\n",
    "\n",
    "#어떻게 풀어나갈 것인가? --> 먼저 맵을 만들어주고. 거기에서 디렉션에 따라 행동. 만약, 경계 밖으로 나가면 continue\n",
    "def solution(n,direction):\n",
    "    '''map_ = []\n",
    "    for i in range(1,n+1):\n",
    "        for j in range(1,n+1):\n",
    "            map_.append([i,j])''' #맵을 굳이 만들어줄 필요 없음\n",
    "    \n",
    "    x,y= 1,1\n",
    "    dx = [1,-1,0,0] # 남, 북, 동,서 순서\n",
    "    dy = [0,0,1,-1]\n",
    "    \n",
    "    for i in range(len(direction)): '''내가 이 문제를 풀면서 해맸던 이유: 방향 지정을 잘못함. 그리고 dx,dy순서와 rldu가 담긴 리스트를 잘 맞춰주면 코드의 길이 줄이기 가능'''\n",
    "        if direction[i]=='R':\n",
    "            nx = x+dx[2]\n",
    "            ny = y+dy[2]\n",
    "            if nx>=1 and nx<=n and ny>=1 and ny<=n:\n",
    "                x=nx\n",
    "                y=ny\n",
    "        elif direction[i]=='L':\n",
    "            nx = x+dx[3]\n",
    "            ny = y+dy[3]\n",
    "            if nx>=1 and nx<=n and ny>=1 and ny<=n:\n",
    "                x=nx\n",
    "                y=nY    \n",
    "        elif direction[i]=='D':\n",
    "            nx = x+dx[0]\n",
    "            ny = y+dy[0]\n",
    "            if nx>=1 and nx<=n and ny>=1 and ny<=n:\n",
    "                x=nx\n",
    "                y=ny\n",
    "        elif direction[i]=='U':\n",
    "            nx = x+dx[1]\n",
    "            ny = y+dy[1]\n",
    "            if nx>=1 and nx<=n and ny>=1 and ny<=n:\n",
    "                x=nx\n",
    "                y=ny\n",
    "    return print(x,y)\n",
    "solution(n,direction)"
   ]
  },
  {
   "cell_type": "code",
   "execution_count": 22,
   "metadata": {},
   "outputs": [
    {
     "name": "stdout",
     "output_type": "stream",
     "text": [
      "5\n",
      "R R R U D D\n",
      "3 4\n"
     ]
    }
   ],
   "source": [
    "#4-1 나동빈님 풀이\n",
    "\n",
    "#N을 입력 받기\n",
    "n= int(input())\n",
    "x,y=1,1\n",
    "plans = input().split()\n",
    "\n",
    "#L,R,U,D에 따른 이동 방향\n",
    "dx = [0,0,-1,1]\n",
    "dy = [-1,1,0,0]\n",
    "move_types = ['L','R','U','D']\n",
    "\n",
    "#이동 계획을 하나씩 확인\n",
    "for plan in plans:\n",
    "    #이동 후 좌표 구하기\n",
    "    for i in range(len(move_types)):\n",
    "        if plan == move_types[i]:\n",
    "            nx = x+dx[i]\n",
    "            ny = y+dy[i]\n",
    "    #공간을 벗어나는 경우 무시\n",
    "    if nx<1 or ny <1 or nx>n or ny >n:\n",
    "        continue\n",
    "    #이동 수행\n",
    "    x,y = nx,ny\n",
    "print(x,y)"
   ]
  },
  {
   "cell_type": "markdown",
   "metadata": {},
   "source": [
    "# 시각"
   ]
  },
  {
   "cell_type": "code",
   "execution_count": 25,
   "metadata": {},
   "outputs": [
    {
     "name": "stdout",
     "output_type": "stream",
     "text": [
      "5\n",
      "11475\n"
     ]
    }
   ],
   "source": [
    "# 정수 N이 입력되면 00시 00분 00초 부터 N시 59분59초까지의 모든 시각 중에서 3이 하나라도 포함되는 모든 경우의 수를 구하는 프로그램을 작성\n",
    "# 삼중 for문을 쓰는 것도 하나의 방법. 삼중 for문 자체가 부담스럽긴 하지만 문제자 86400회 정도는 컴퓨터한테는 많은 숫자가 안미. 그러므로 삼중 for문 ㄱ\n",
    "\n",
    "n = int(input())\n",
    "count=0\n",
    "for i in range(n+1):\n",
    "    for k in range(60):\n",
    "        for j in range(60):\n",
    "            if '3' in str(i) + str(k) + str(j):\n",
    "                count+=1\n",
    "print(count)"
   ]
  },
  {
   "cell_type": "markdown",
   "metadata": {},
   "source": [
    "# 왕실의 나이트"
   ]
  },
  {
   "cell_type": "code",
   "execution_count": 42,
   "metadata": {},
   "outputs": [
    {
     "name": "stdout",
     "output_type": "stream",
     "text": [
      "a1\n",
      "2\n"
     ]
    }
   ],
   "source": [
    "# 특정한 한 칸에 나이트가 서 있다. \n",
    "# 나이트는 말을 타고 있기 때문에 이동을 할 때는 L자 형태로만 이동할 수 있으며 정원 밖으로는 나갈 수 없다.\n",
    "# 나이트는 특정한 위치에서 다음과 같은 2가지 경우로 이동할 수 있다.\n",
    "# 1. 수평으로 두 칸 이동한 뒤에 수직으로 한 칸 이동하기\n",
    "# 2. 수직으로 두 칸 이동한 뒤에 수평으로 한 칸 이동하기\n",
    "# 이처럼 8*8좌표 평면상에서 나이트의 위치가 주어졌을 때 나이트가 이동할 수 있는 경우의 수를 출력하는 프로그램을 작성\n",
    "# 왕실의 행 위치는 숫자로 열위치는 알파벳으로 표현한다. \n",
    "\n",
    "position = input()\n",
    "dx=[2,2,1,1,-1,-1,-2,-2]\n",
    "dy=[1,-1,-2,2,2,-2,-1,1]\n",
    "x=int(position[1]) # 문제가 기존 행렬 관념과 반대로 나옴\n",
    "y=position[0]\n",
    "\n",
    "\n",
    "count=0\n",
    "for i in range(len(dx)):\n",
    "    nx= x+dx[i]\n",
    "    ny= (ord(y)-ord('a'))+dy[i]\n",
    "    if nx>0 and ny>0 and nx<9 and ny<9:\n",
    "        count+=1\n",
    "print(count)"
   ]
  },
  {
   "cell_type": "code",
   "execution_count": 41,
   "metadata": {},
   "outputs": [
    {
     "name": "stdout",
     "output_type": "stream",
     "text": [
      "a1\n",
      "2\n"
     ]
    }
   ],
   "source": [
    "# 나동빈님 풀이\n",
    "\n",
    "#현재 나이트의 위치 입력 받기\n",
    "input_data=input()\n",
    "row = int(input_data[1])\n",
    "column = int(ord(input_data[0]))-int(ord('a'))+1\n",
    "\n",
    "#나이트가 이동할 수 있는 8가지 방향 정의\n",
    "steps = [(-2,-1), (-1,-2),(1,-2),(2,-1),(2,1),(1,2),(-1,2),(-2,1)]\n",
    "\n",
    "#8가지 방향에 대하여 각 위치로 이동이 가능한지 확인\n",
    "result = 0\n",
    "for step in steps:\n",
    "    #이동하고자 하는 위치 확인\n",
    "    next_row= row + step[0]\n",
    "    next_column= column+step[1]\n",
    "    #해당 위치로 이동이 가능하다면 카운트 증가\n",
    "    if next_row >=1 and next_row <=8 and next_column>=1 and next_column<=8:\n",
    "        result +=1\n",
    "print(result)"
   ]
  },
  {
   "cell_type": "markdown",
   "metadata": {},
   "source": [
    "# 게임 개발"
   ]
  },
  {
   "cell_type": "code",
   "execution_count": null,
   "metadata": {},
   "outputs": [],
   "source": [
    "'''세 단계 중에 육지로 나아갈 수 있는 방안이 무엇? 아 이게 지금 0부터 시작인지 1부터 시작인지...0부터 시작으로 놓고야 문제가 풀림'''\n",
    "'''전역변수를 반드시 써줘야 하나? 전역변수란 무엇인가, 이거 뿐만 아니라 풀이가 이해가 안감'''\n",
    "# 현민이는 게임 캐릭터가 맵 안에서 움직이는 시스템을 개발 중\n",
    "# 각각의 칸은 육지 또는 바다이다.\n",
    "# 캐릭터는 동서남북 중 한 곳을 바라본다. \n",
    "# 맵의 각 칸은 (A,B)로 나타낼 수 있고, A는 북쪽으로부터 떨어진 칸의 개수, B는 서쪽으로부터 떨어진 칸의 개수이다. \n",
    "# 캐릭터는 상하좌우로 움직일 수 있고, 바다로 되어 있는 공간에는 갈 수 없다. \n",
    "\n",
    "# 1. 현재 위치에서 현재 방향을 기준으로 왼쪽 방향(반시계 방향으로 90도 회전한 방향)부터 차례대로 갈 곳을 정한다.\n",
    "\n",
    "# 2. 캐릭터의 바로 왼쪽 방향에 아직 가보지 않은 칸이 존재한다면, 왼쪽 방향으로 회전한 다음 왼쪽으로 한 칸을 전진한다. 왼쪽 방향에 가보지 않은 칸이 없다면, 왼쪽 방향으로 회전만 수행하고 1단계로 돌아간다. \n",
    "\n",
    "# 3. 만약 네 방향 모두 이미 가본 칸이거나 바다로 되어 있는 칸인 경우에는, 바라보는 방향을 유지한 채로 한 칸 뒤로 가고 1단계로 돌아간다. 단, 이때 뒤쪽 방향이 바다인 칸이라 뒤로 갈 수 없는 경우에는 움직임을 멈춘다. \n",
    "\n",
    "# 현민이는 위 과정을 반복적으로 수행하면서 캐릭터의 움직임에 이상이 있는지 테스트하려고 한다. \n",
    "\n",
    "# 메뉴얼에 따라 캐릭터를 이동시킨 뒤에, 캐릭터가 방문한 칸의 수를 출력하는 프로그램을 만드시오.\n",
    "# d의 방향 값으로는 0북,1동,2남,3서 --> 방향전환을 어떻게 시키지? \n",
    "# 육지0/ 바다1\n",
    "\n",
    "# 어떻게 풀어나갈 것인가? dfs로 풀 수 있지 않을까...그냥 시뮬레이션으로 돌리면...?\n",
    "n,m = map(int,input().split())\n",
    "a,b,d = map(int, input().split())\n",
    "map_data =[]\n",
    "\n",
    "for i in range(n):\n",
    "    map_data.append(list(map(int, input().split())))\n",
    "\n",
    "if     \n",
    "\n"
   ]
  },
  {
   "cell_type": "code",
   "execution_count": 46,
   "metadata": {},
   "outputs": [
    {
     "name": "stdout",
     "output_type": "stream",
     "text": [
      "4 4\n",
      "1 1 0\n",
      "1 1 1 1\n",
      "1 0 0 1\n",
      "1 1 0 1\n",
      "1 1 1 1\n",
      "1\n"
     ]
    }
   ],
   "source": [
    "#나동빈님 풀이\n",
    "\n",
    "#N,M을 공백으로 구분하여 입력받기\n",
    "n,m = map(int, input().split())\n",
    "\n",
    "#방문한 위치를 저장하기 위한 맵을 생성하여 0으로 초기화 \n",
    "d=[[0]*m for _ in range(n)] \n",
    "\n",
    "# 현재 캐릭터의 X좌표, Y좌표, 방향을 입력 받기\n",
    "x,y, direction= map(int, input().split())\n",
    "d[x][y] =1 #현재 좌표 방문 처리\n",
    "\n",
    "# 전체 맵 정보를 입력받기\n",
    "array=[]\n",
    "for i in range(n):\n",
    "    array.append(list(map(int,input().split())))\n",
    "    \n",
    "# 북,동,남,서 방향 정의\n",
    "dx =[-1,0,1,0]\n",
    "dy =[0,1,0,-1]\n",
    "\n",
    "# 왼쪽으로 회전\n",
    "def turn_left():\n",
    "    global direction\n",
    "    direction=-1\n",
    "    if direction ==-1:\n",
    "        direction =3\n",
    "# 시뮬레이션 시작\n",
    "count = 1\n",
    "turn_time =0\n",
    "while True:\n",
    "    #왼쪽으로 회전\n",
    "    turn_left()\n",
    "    nx = x + dx[direction]\n",
    "    ny = y + dy[direction]\n",
    "    #회전한 이후 정면에 가보지 않은 칸이 존재하는 경우 이동\n",
    "    if d[nx][ny] ==0 and array[nx][ny]==0:\n",
    "        d[nx][ny] =1\n",
    "        x=nx\n",
    "        y=ny\n",
    "        count +=1\n",
    "        turn_time=0\n",
    "        continue\n",
    "    #회전한 이후 정면에 가보지 않은 칸이 없거나 바다인 경우\n",
    "    else:\n",
    "        turn_time +=1\n",
    "    #네 방향 도무 갈 수 없는 경우\n",
    "    if turn_time==4:\n",
    "        nx = x-dx[direction]\n",
    "        ny = y-dy[direction]\n",
    "        #뒤로 갈 수 있다면 이동하기\n",
    "        if array[nx][ny]==0:\n",
    "            x=nx\n",
    "            y=ny\n",
    "        #뒤가 바다로 막혀 있는 경우\n",
    "        else: \n",
    "            break\n",
    "        turn_time=0\n",
    "#정답 출력\n",
    "print(count)"
   ]
  },
  {
   "cell_type": "markdown",
   "metadata": {},
   "source": [
    "# 럭키 스트레이트"
   ]
  },
  {
   "cell_type": "code",
   "execution_count": 53,
   "metadata": {},
   "outputs": [
    {
     "name": "stdout",
     "output_type": "stream",
     "text": [
      "123403\n",
      "READY\n"
     ]
    }
   ],
   "source": [
    "# 기출문제\n",
    "# 수를 반으로 나눴을 때 왼쪽의 각각의 자릿수들을 더한 값과 오른쪽의 각각의 자릿수들을 더한 값이 같으면 lucky 아니면 ready\n",
    "\n",
    "n = list(input())\n",
    "n = [int(i) for i in n]\n",
    "a = sum(n[:len(n)//2])\n",
    "b = sum(n[len(n)//2:])\n",
    "if a==b:\n",
    "    print(\"LUCKY\")\n",
    "else:\n",
    "    print(\"READY\")"
   ]
  },
  {
   "cell_type": "markdown",
   "metadata": {},
   "source": [
    "# 문자열 재정렬"
   ]
  },
  {
   "cell_type": "code",
   "execution_count": 75,
   "metadata": {},
   "outputs": [
    {
     "name": "stdout",
     "output_type": "stream",
     "text": [
      "k1ka5cb7\n",
      "['a', 'b', 'c', 'k', 'k']\n",
      "13\n",
      "abckk13\n"
     ]
    }
   ],
   "source": [
    "# 기출문제\n",
    "# 주어진 문자열의 모든 알파벳을 오름차순으로 정렬하여 이어서 출력한 뒤에, 그 뒤에 모든 숫자를 더한 값을 이어서 출력.\n",
    "\n",
    "string = list(input()) #인풋을 리스트로 받아주면 문자와 숫자를 따로 인식하여 받아줌.\n",
    "tempa=[]\n",
    "tempd=[]\n",
    "#문자는 남기고 숫자는 제거하려 했으나 remove를 해버리면 바로 index out of range오류가 뜸. 그래서 새로운 리스트 두개를 만들어줘서 문자와 숫자를 따로 취급함\n",
    "for i in range(len(string)):\n",
    "    if string[i].isalpha()==False:\n",
    "        tempd.append(string[i]) # 숫자와 같은 경우에는 리스트로 취급할 필요 없이 value=0 value+=string(i) 로 가는게 더 간단\n",
    "    else:\n",
    "        tempa.append(string[i])\n",
    "tempa.sort() # 원본 리스트를 정리하되 이를 print(tempa.sort())하면 none값이 출력 됨. 그러므로 sort() 작업을 하고 별도 리스트명만 출력할것.\n",
    "\n",
    "\n",
    "tempd = [int(i) for i in tempd]\n",
    "tempd= str(sum(tempd))\n",
    "#문자와 숫자를 합치기\n",
    "tempa.append(tempd)\n",
    "#모든 문자들을 조인시키기\n",
    "answer = ''.join(tempa)\n",
    "\n",
    "print(answer)"
   ]
  },
  {
   "cell_type": "markdown",
   "metadata": {},
   "source": [
    "# 문자열 압축"
   ]
  },
  {
   "cell_type": "code",
   "execution_count": 76,
   "metadata": {},
   "outputs": [],
   "source": [
    "# 기출 문제\n",
    "# 문자열에서 같은 값이 연속해서 나타나는 것을 그 문자의 개수와 반복되는 값으로 표현하여 더 짧은 문자열로 줄여서 표현하는 알고리즘을 공부\n",
    "# 과연 문자열을 어떻게 끊고 똑같은걸 어떻게 찾을까.. \n",
    "# 전체적으로 크게 보면 1.먼저, 최대한 잘게 쪼개는 경우는 하나씩 쪼개기. 최대한 러프하게 쪼개는 것은 반토막. 어떻게? for문을 활용(쪼개는 단위를 기준으로), 그걸 바탕으로 슬라이싱 한다.\n",
    "# 2. 쪼개놓은 것이 연속되는지 확인. 어떻게? for문에 반복 단위를 2칸, 3칸 이런식으로 걸어줌. 그러면서 반복되면 몇개가 반복되었는지 카운팅.\n",
    "\n",
    "def solutions(s):\n",
    "    answer =len(s)\n",
    "    # 1개 단위(step)부터 압축 단위를 늘려가며 확인\n",
    "    for step in range(1,len(s)//2+1):\n",
    "        compressed=\"\"\n",
    "        prev = s[0:step] #앞에서부터 step만큼의 문자열 추출\n",
    "        count +=1\n",
    "        # 단위(step) 크기만큼 증가시키며 이전 문자열과 비교\n",
    "        for j in range(step, len(s),step):\n",
    "            #이전 상태와 동일하다면 압축 횟수(count)증가\n",
    "            if prev == s[j:j+step]:\n",
    "                count +=1\n",
    "            # 다른 문자열이 나왔다면(더 이상 압축하지 못하는 경우라면)\n",
    "            else:\n",
    "                compressed += str(count) + prev if count >=2 else prev\n",
    "                prev = s[j:j + step] #다시 상태 초기화\n",
    "                count =1\n",
    "        # 남아 있는 문자열에 대해서 처리\n",
    "        compressed += str(count) + prev if count>=2 else prev\n",
    "        #만들어지는 압축 문자열이 가장 짧은 것이 정답\n",
    "        answer = min(answer, len(compreseed))\n",
    "    return answer\n",
    "    "
   ]
  },
  {
   "cell_type": "markdown",
   "metadata": {},
   "source": [
    "# 자물쇠와 열쇠"
   ]
  },
  {
   "cell_type": "code",
   "execution_count": 4,
   "metadata": {},
   "outputs": [],
   "source": [
    "# 열쇠는 회전과 이동이 가능하며 열쇠의 돌기 부분을 자물쇠의 홈 부분에 딱 맞게 채우면 자물쇠가 열리게 되는 구조이다.\n",
    "# 자물쇠 영역을 벗어난 부분에 있는 열쇠의 흠과 돌기는 자물쇠를 여는 데 영향을 주지 않지만, \n",
    "# 자물쇠 영역 내에서는 열쇠의 돌기 부분과 자물쇠의 홈 부분이 정확히 일치해야 하며, 열쇠의 돌기와 자물쇠의 돌기가 만나서는 안됩니다.\n",
    "# 또한 자물쇠의 모든 홈을 채워 비어 있는 곳이 없어야 자물쇠를 열 수 있다.\n",
    "\n",
    "# 내가 생각한 문제풀이 방향. 1. 일단 90도 방향으로 돌리는 코드를 짠다. 2. 오른쪽으로 한칸, 아래로 한칸 이동하는 코드를 짠다. 3. 열쇠의 돌기와 자물쇠의 돌기가 만나서는 안된다는 조건 코드 짜기. 4. 키의 돌기가 원래의 이중 리스트에서 벗어나는 것을 어떻게 허용할 것인가\n",
    "# 나동빈님 풀이: 1번의 생각 방향은 일치.(따로 함수를 만들어줘야 함) 2.4. 조건을 자물쇠 리스트를 3배 늘려준다는것으로 해결. 3.은 check함수로 해결\n",
    "'''그런데, 궁금증 두 가지, 왜 자물쇠 크기를 3배로 늘리지?'''\n",
    "# 2차원 리스트 90도 회전(key이중 리스트를 회전시키는 함수)\n",
    "def rotate_a_matrix_by_90_degeree(a):\n",
    "    n=len(a) #행 길이 계산\n",
    "    m=len(a[0]) #열 길이 계산\n",
    "    result = [[0]*n for _ in range(m)] #결과 리스트\n",
    "    for i in range(n):\n",
    "        for j in range(m):\n",
    "            result[j][n-i-1] = a[i][j]\n",
    "    return result\n",
    "\n",
    "#자물쇠의 중간 부분이 모두 1인지 확인\n",
    "def check(new_lock):\n",
    "    lock__length = len(new_lock)//3\n",
    "    for i in range(lock_length, lock_length*2): #3-6인덱스를 확인하기 위해 (자물쇠 리스트를 3배를 했기 때문에 인덱스가 이렇게 구성됨)\n",
    "        for j in range(lock_length, lock_length*2):\n",
    "            if new_lock[i][j] !=1:\n",
    "                return False\n",
    "    return True\n",
    "\n",
    "def solution(key,lock):\n",
    "    \n",
    "    n = len(lock)\n",
    "    m = len(key)\n",
    "    \n",
    "    # 자물쇠의 크기를 기존의 3배로 변환 '''왜 3배지? --> '''\n",
    "    new_lock =[[0]*(n*3) for _ in range(n*3)]\n",
    "    \n",
    "    # 새로운 자물쇠의 중앙 부분에 기존의 자물쇠 넣기\n",
    "    for i in range(n):\n",
    "        for j in range(n):\n",
    "            new_lock[i+n][j+n] = lock[i][j]\n",
    "    \n",
    "    #4가지 방향에 대해 확인\n",
    "    for rotation in range(4):\n",
    "        key = rotate_a_matrix_by_90_degree(key) #열쇠 회전(시계 방향으로 90도 뿐만 아니라 반복문 내에서 4번 돌리므로 네 방향 모두 검증 가능)\n",
    "        for x in range(n*2): #왜 2배지 --> 3배 해준거에 맞춰서 3-1배 해준거 같다.\n",
    "            for y in range(n*2):\n",
    "            # 자물쇠에 열쇠를 끼워 넣기\n",
    "                for i in range(m):\n",
    "                    for j in range(m):\n",
    "                        new_lock[x+i][y+j] += key[i][j]\n",
    "                # 새로운 자물쇠에 열쇠가 정확히 들어맞는지 검사\n",
    "                if check(new_lock)==True:\n",
    "                    return True\n",
    "                # 자물쇠에서 열쇠를 다시 빼기\n",
    "                for i in range(m):\n",
    "                    for j in range(m):\n",
    "                        new_lock[x+i][y+j] -= key[i][j]\n",
    "    return False"
   ]
  },
  {
   "cell_type": "markdown",
   "metadata": {},
   "source": [
    "# 뱀"
   ]
  },
  {
   "cell_type": "code",
   "execution_count": 17,
   "metadata": {},
   "outputs": [
    {
     "name": "stdout",
     "output_type": "stream",
     "text": [
      "6\n",
      "3\n",
      "3 4\n",
      "2 5\n",
      "5 3\n",
      "3\n",
      "3 D\n",
      "15 L\n",
      "17 D\n",
      "9\n"
     ]
    }
   ],
   "source": [
    "# 뱀이 사과를 먹으면 뱀 길이가 늘어난다.\n",
    "# 벽 또는 자기 자신의 몸과 부딪히면 게임이 끝난다.\n",
    "# 게임 시작할 때, 뱀은 맨위 맨좌측에 위치. 뱀의 길이는 1, 오른쪽으로 이동\n",
    "\n",
    "# 먼저 뱀은 몸길이를 늘려 머리를 다음 칸에 위치시킨다. --> 풀이법: while true문으로 푼다. 시간 1초 증가당 머리를 담칸으로 이동.\n",
    "# 만약 이동한 칸에 사과가 있다면, 그 칸에 있던 사과가 없어지고 꼬리는 움직이지 않는다. ---> 풀이법: 사과를 마주한다면, 사과 지우기.(새로운 빈공간 맵을 만들어서 사과를 놓고 그 좌표랑 원래 뱀이 움직이는 좌표랑 만나면, 사과 자리에 헤드 옮기기 )\n",
    "# 만약 이동한 칸에 사과가 없다면, 몸길이를 줄여서 꼬리가 위치한 칸을 비워준다.즉, 몸길이는 변하지 않는다. 헤드와 꼬리를 지정해줘야할듯? 중간은 중요하지 않다고 생각. 꼬리와 헤드가 바깥으로 나가거나 만나면 부딪히면 게임 끝.\n",
    "# 구조를 카운트 먼저 올리고, 방향을 바꿔주는 함수를 별도로 만들어주면 좋을듯?(만약에 동쪽이면, y는 오른쪽으로 한칸 이동 이런식으로)\n",
    "\n",
    "# 나는 꼬리와 데가리를 다 표시해야할 줄 알았는데 \n",
    "\n",
    "n = int(input())\n",
    "k = int(input())\n",
    "\n",
    "data = [[0]*(n+1) for _ in range(n+1)] #맵 정보\n",
    "info = [] # 방향 회전 정보\n",
    "\n",
    "#맵 정보(사과 있는 곳은 1로 표시)\n",
    "for _ in range(k):\n",
    "    a,b = map(int, input().split())\n",
    "    data[a][b] =1\n",
    "    \n",
    "#방향 회전 정보 입력\n",
    "l=int(input())\n",
    "for _ in range(l):\n",
    "    x,c = input().split()\n",
    "    info.append((int(x),c))\n",
    "\n",
    "#처음에는 오른쪽을 보고 있으므로(동,남,서,북) 동서남북 방향으로 이동해야 한다 싶으면, 무조건 코드 시작은 이걸로.\n",
    "dx = [0,1,0,-1]\n",
    "dy = [1,0,-1,0]\n",
    "\n",
    "def turn(direction,c):\n",
    "    if c == \"L\":\n",
    "        direction = (direction-1)%4\n",
    "    else:\n",
    "        direction = (direction+1)%4\n",
    "        return direction\n",
    "\n",
    "def simulate():\n",
    "    x,y=1,1 #뱀의 머리 위치\n",
    "    data[x][y] ==2 #뱀이 존재하는 위치는 2로 표시\n",
    "    direction =0 #처음에는 동쪽을 보고 있음\n",
    "    time =0 #시작한 뒤에 지난 '초' 시간\n",
    "    index =0 #다음에 회전할 정보\n",
    "    q =[(x,y)] #뱀이 차지하고 있는 위치 정보(꼬리가 앞쪽)\n",
    "    \n",
    "    while True:\n",
    "        nx = x + dx[direction]\n",
    "        ny = y + dy[direction]\n",
    "        #맵 범위 안에 있고, 뱀의 몸통이 없는 위치라면\n",
    "        if 1<=nx and nx<=n and 1<=ny and ny<= n and data[nx][ny] !=2: #맨마지막 조건이 들어간 이유는 뱀꼬리와 뱀데가리가 만나면 안되기에 이렇게 지정.\n",
    "            #사과가 없다면 이동 후에 꼬리 제거\n",
    "            if data[nx][ny]==0:\n",
    "                data[nx][ny]=2\n",
    "                q.append((nx,ny))\n",
    "                px,py = q.pop(0)\n",
    "                data[px][py]=0\n",
    "            #사과가 있다면 이동 후에 꼬리 그대로 두기\n",
    "            if data[nx][ny] ==1:\n",
    "                data[nx][ny] =2\n",
    "                q.append((nx,ny)) #--> 이게 과연 필요한 코드인가?\n",
    "            #벽이나 뱀의 몸통과 부딪혔다면\n",
    "        else:\n",
    "            time +=1\n",
    "            break\n",
    "        x,y = nx,ny #다음 위치로 머리를 이동\n",
    "        time +=1\n",
    "        if index <1 and time == info[index][0]: #회전할 시간인 경우 회전\n",
    "            direction = turn(direction, info[index][1])\n",
    "            index+=1\n",
    "    return time\n",
    "print(simulate())\n"
   ]
  },
  {
   "cell_type": "markdown",
   "metadata": {},
   "source": []
  }
 ],
 "metadata": {
  "kernelspec": {
   "display_name": "Python 3",
   "language": "python",
   "name": "python3"
  },
  "language_info": {
   "codemirror_mode": {
    "name": "ipython",
    "version": 3
   },
   "file_extension": ".py",
   "mimetype": "text/x-python",
   "name": "python",
   "nbconvert_exporter": "python",
   "pygments_lexer": "ipython3",
   "version": "3.7.4"
  }
 },
 "nbformat": 4,
 "nbformat_minor": 4
}
