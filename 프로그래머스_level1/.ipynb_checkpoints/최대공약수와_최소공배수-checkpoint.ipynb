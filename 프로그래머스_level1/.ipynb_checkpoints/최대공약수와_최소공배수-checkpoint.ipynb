{
 "cells": [
  {
   "cell_type": "code",
   "execution_count": 1,
   "metadata": {},
   "outputs": [],
   "source": [
    "#최대공약수 특징: 두 수의 약수들을 구하고, 공통된걸로 좁히고, 제일 큰걸로.\n",
    "#최소공배수 특징: 두 수의 배수들을 구하고, 공통된걸로 좁히고, 제일 작은걸로.\n",
    "def solution(n, m):\n",
    "    answer = []\n",
    "    N = [i for i in range(1,n+1) if n%i==0]\n",
    "    M = [i for i in range(1,m+1) if m%i==0]\n",
    "    \n",
    "    Max = max([i for i in N if i in M])\n",
    "    Min = Max*(n/Max)*(m/Max)\n",
    "    answer = [Max,Min]\n",
    "    return answer"
   ]
  },
  {
   "cell_type": "code",
   "execution_count": null,
   "metadata": {},
   "outputs": [],
   "source": []
  }
 ],
 "metadata": {
  "kernelspec": {
   "display_name": "Python 3",
   "language": "python",
   "name": "python3"
  },
  "language_info": {
   "codemirror_mode": {
    "name": "ipython",
    "version": 3
   },
   "file_extension": ".py",
   "mimetype": "text/x-python",
   "name": "python",
   "nbconvert_exporter": "python",
   "pygments_lexer": "ipython3",
   "version": "3.7.4"
  }
 },
 "nbformat": 4,
 "nbformat_minor": 4
}
