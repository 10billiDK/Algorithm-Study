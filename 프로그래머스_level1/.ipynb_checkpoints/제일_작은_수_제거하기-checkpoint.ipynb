{
 "cells": [
  {
   "cell_type": "code",
   "execution_count": 1,
   "metadata": {},
   "outputs": [],
   "source": [
    "#정수를 저장한 배열 arr에서 가장 작은 수를 제거한 배열을 리턴한 함수를 완성해라.\n",
    "#리턴하려는 배열이 빈 배열인 경우엔 배열에 -1을 채워 리턴.\n",
    "def solution(arr):\n",
    "    if len(arr) <=1: \n",
    "        return [-1]\n",
    "    else:\n",
    "        arr.remove(arr.index(min(arr)))\n",
    "        \n",
    "        return arr"
   ]
  },
  {
   "cell_type": "code",
   "execution_count": null,
   "metadata": {},
   "outputs": [],
   "source": []
  }
 ],
 "metadata": {
  "kernelspec": {
   "display_name": "Python 3",
   "language": "python",
   "name": "python3"
  },
  "language_info": {
   "codemirror_mode": {
    "name": "ipython",
    "version": 3
   },
   "file_extension": ".py",
   "mimetype": "text/x-python",
   "name": "python",
   "nbconvert_exporter": "python",
   "pygments_lexer": "ipython3",
   "version": "3.7.4"
  }
 },
 "nbformat": 4,
 "nbformat_minor": 4
}
