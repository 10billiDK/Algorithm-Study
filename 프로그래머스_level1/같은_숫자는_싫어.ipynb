{
 "cells": [
  {
   "cell_type": "code",
   "execution_count": 1,
   "metadata": {},
   "outputs": [],
   "source": [
    "# 배열의 각 원소는 0부터 9까지 이루어져 있음.\n",
    "# 배열에서 연속적으로 나타나는 숫자는 하나만 남기고 전부 제거하려고 함.\n",
    "'''import collections\n",
    "def solution(arr):\n",
    "    a=[]\n",
    "    for i in range(len(arr)-1):\n",
    "        if arr[i] == arr[i+1]:\n",
    "            a.append(arr[i])\n",
    "    print(a)\n",
    "    answer = collections.Counter(arr) - collections.Counter(a) #여기서는 이걸 쓰면 안됨. key값 중 하나인 1이 중복되지 않고 나와야 하는데 중복되서 나와버림.\n",
    "    print(answer)\n",
    "    return list(answer.items())'''\n",
    "\n",
    "#앞의 풀이에서 같은걸 찾아서 리스트에서 제외시키거나, \n",
    "#같은걸 찾아서 새로운 리스트에 넣어서 기존 리스트와 빼려고 시도햇음.\n",
    "#근데 다 안됨.(중복의 문제로)\n",
    "#다른걸 찾아서 그걸 새로운 리스트로 넣어주기.\n",
    "def solution(arr):\n",
    "    a=[]\n",
    "    a.append(arr[0])\n",
    "    for i in range(1,len(arr)):\n",
    "        if arr[i] != arr[i-1]:\n",
    "            a.append(arr[i])\n",
    "    return a"
   ]
  },
  {
   "cell_type": "code",
   "execution_count": null,
   "metadata": {},
   "outputs": [],
   "source": []
  }
 ],
 "metadata": {
  "kernelspec": {
   "display_name": "Python 3",
   "language": "python",
   "name": "python3"
  },
  "language_info": {
   "codemirror_mode": {
    "name": "ipython",
    "version": 3
   },
   "file_extension": ".py",
   "mimetype": "text/x-python",
   "name": "python",
   "nbconvert_exporter": "python",
   "pygments_lexer": "ipython3",
   "version": "3.7.4"
  }
 },
 "nbformat": 4,
 "nbformat_minor": 4
}
