{
 "cells": [
  {
   "cell_type": "code",
   "execution_count": 1,
   "metadata": {},
   "outputs": [],
   "source": [
    "import itertools\n",
    "def solution(numbers):\n",
    "    answer=set()\n",
    "    for i in itertools.combinations(numbers,2): #combination을 바로 for문 안에 넣어서 불필요한 줄을 줄임.\n",
    "        answer.add(sum(i)) #answer는 지금 set을 활용했기 때문에 리스트가 아닌 집합임. 그러므로 append를 활용할 수 있고 add를 써서 원소를 더해주는 느낌으로 접근해야함.\n",
    "    return sorted(answer)"
   ]
  },
  {
   "cell_type": "code",
   "execution_count": null,
   "metadata": {},
   "outputs": [],
   "source": []
  }
 ],
 "metadata": {
  "kernelspec": {
   "display_name": "Python 3",
   "language": "python",
   "name": "python3"
  },
  "language_info": {
   "codemirror_mode": {
    "name": "ipython",
    "version": 3
   },
   "file_extension": ".py",
   "mimetype": "text/x-python",
   "name": "python",
   "nbconvert_exporter": "python",
   "pygments_lexer": "ipython3",
   "version": "3.7.4"
  }
 },
 "nbformat": 4,
 "nbformat_minor": 4
}
