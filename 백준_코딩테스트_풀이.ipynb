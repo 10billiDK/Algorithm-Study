{
 "cells": [
  {
   "cell_type": "markdown",
   "metadata": {},
   "source": [
    "## Greedy Algorithm"
   ]
  },
  {
   "cell_type": "code",
   "execution_count": null,
   "metadata": {},
   "outputs": [],
   "source": [
    "##18238번 : ZOAC2"
   ]
  },
  {
   "cell_type": "code",
   "execution_count": null,
   "metadata": {},
   "outputs": [],
   "source": [
    "## 원판이 아니라 직선으로 놓았을 때의 풀이.\n",
    "\n",
    "def zoac2(input_):\n",
    "    output = 0\n",
    "    start_point = 'A'\n",
    "    \n",
    "    for i in range(len(input_)):\n",
    "        k= abs(ord(input_[i]) - ord(start_point))\n",
    "        output += k\n",
    "        start_point = str(input_[i])\n",
    "    \n",
    "    return output\n",
    "\n",
    "input_ = 'LBOLVUEEPMOIENMG'\n",
    "zoac2(input_)"
   ]
  },
  {
   "cell_type": "code",
   "execution_count": null,
   "metadata": {},
   "outputs": [],
   "source": [
    "ord('A')"
   ]
  },
  {
   "cell_type": "code",
   "execution_count": null,
   "metadata": {},
   "outputs": [],
   "source": [
    "ord('Z')"
   ]
  },
  {
   "cell_type": "code",
   "execution_count": null,
   "metadata": {},
   "outputs": [],
   "source": [
    "## 원판으로 놓았을 때의 풀이.\n",
    "\n",
    "def zoac2(input_):\n",
    "    output = 0\n",
    "    start_point ='A'\n",
    "    \n",
    "    for i in range(len(input_)):\n",
    "        k = abs(ord(input_[i]) - ord(start_point))\n",
    "        if k > 13:\n",
    "            k= 26-k\n",
    "        output += k\n",
    "        start_point = str(input_[i])\n",
    "        \n",
    "    return output\n",
    "\n",
    "input_ = 'ZOAC'\n",
    "print(zoac2(input_))       "
   ]
  },
  {
   "cell_type": "code",
   "execution_count": null,
   "metadata": {},
   "outputs": [],
   "source": [
    "def zoac2(input_):\n",
    "    output = 0\n",
    "    start_point ='A'\n",
    "    \n",
    "    for i in range(len(input_)):\n",
    "        k = abs(ord(input_[i]) - ord(start_point))\n",
    "        if k > 13:\n",
    "            k= 26-k\n",
    "        output += k\n",
    "        start_point = str(input_[i])\n",
    "        \n",
    "    return output\n",
    "\n",
    "input_ = input()\n",
    "print(zoac2(input_)) "
   ]
  },
  {
   "cell_type": "code",
   "execution_count": null,
   "metadata": {},
   "outputs": [],
   "source": [
    "## 10162번: 전자레인지 (누른 횟수의 합 최소로 만들기)"
   ]
  },
  {
   "cell_type": "code",
   "execution_count": null,
   "metadata": {},
   "outputs": [],
   "source": [
    "a = 10\n",
    "b = 60\n",
    "c = 300\n",
    "\n",
    "def electric_range(input_):\n",
    "    if input_ % 10 !=0 : #가장 작은 약수로 나눴을 때 나머지가 0이면 다 나눠지는거\n",
    "        print(-1)\n",
    "    \n",
    "    else:\n",
    "        \n",
    "        A=B=C=0\n",
    "        \n",
    "        A=input_ // c\n",
    "        B=(input_ % c) //b\n",
    "        C=((input_ % c) %b) //a\n",
    "        output = [A,B,C]\n",
    "    return output\n",
    "\n",
    "input_ = int(input())\n",
    "print(*electric_range(input_))"
   ]
  },
  {
   "cell_type": "code",
   "execution_count": null,
   "metadata": {},
   "outputs": [],
   "source": [
    "input_ = int(input())\n",
    "\n",
    "if input_ % 10 !=0 :\n",
    "    print(-1)\n",
    "    \n",
    "else:\n",
    "        \n",
    "    A=B=C=0\n",
    "        \n",
    "    A=input_ // 300\n",
    "    B=(input_ % 300) //60\n",
    "    C=((input_ % 300) %60) //10\n",
    "print(A,B,C)"
   ]
  },
  {
   "cell_type": "code",
   "execution_count": null,
   "metadata": {},
   "outputs": [],
   "source": [
    "T = int(input()) \n",
    "A, B, C = 0, 0, 0 \n",
    "while T > 0: \n",
    "    if T >= 300: \n",
    "        A = (T // 300) \n",
    "        T = (T % 300) \n",
    "    if (T >= 60) and (T < 300): \n",
    "        B = (T // 60) \n",
    "        T = (T % 60) \n",
    "    if (T < 60): \n",
    "        C = (T // 10) \n",
    "        if (T % 10) == 0: \n",
    "            print(\"{} {} {}\".format(A, B, C)) \n",
    "            break \n",
    "        else: \n",
    "            print(-1) \n",
    "            break\n",
    "\n"
   ]
  },
  {
   "cell_type": "code",
   "execution_count": null,
   "metadata": {},
   "outputs": [],
   "source": [
    "##14720번"
   ]
  },
  {
   "cell_type": "code",
   "execution_count": null,
   "metadata": {},
   "outputs": [],
   "source": [
    "N = int(input())\n",
    "Milk_list = list(map(int,input().split()))\n",
    "count = 0\n",
    "\n",
    "for i in range(N-1):\n",
    "    if Milk_list[i+1] == ((Milk_list[i]+1) % 3):\n",
    "        count += 1\n",
    "print(count)"
   ]
  },
  {
   "cell_type": "code",
   "execution_count": null,
   "metadata": {},
   "outputs": [],
   "source": [
    "n = int(input())\n",
    "c = list(map(int, input().split()))\n",
    "MAX = 0\n",
    "\n",
    "for i in range(n):\n",
    "    if(c[i] == MAX%3):\n",
    "        MAX+=1\n",
    "\n",
    "print(MAX)\n",
    "\n",
    "# 옆 가게가 똑같은 우유를 팔지 않는다는 조건이 추가 되어야 하지 않을까?"
   ]
  },
  {
   "cell_type": "code",
   "execution_count": null,
   "metadata": {},
   "outputs": [],
   "source": [
    "## 2839번(봉지수 최소로 하기)"
   ]
  },
  {
   "cell_type": "code",
   "execution_count": null,
   "metadata": {},
   "outputs": [],
   "source": [
    "N = int(input())\n",
    "\n",
    "'''if (N % 3 != 0 and N % 5 !=0): \n",
    "    print(-1)\n",
    "else:\n",
    "    A=B=0\n",
    "    A = N//5\n",
    "    \n",
    "    if (N%5) <3:\n",
    "        B = (N%5)//3 +1\n",
    "    else:\n",
    "        B = (N%5)//3\n",
    "    \n",
    "    print(A+B)''' # 처음 내가 푼 풀이 --> 틀림"
   ]
  },
  {
   "cell_type": "code",
   "execution_count": null,
   "metadata": {},
   "outputs": [],
   "source": [
    "sugar = int(input())\n",
    "number_of_package = 0\n",
    "\n",
    "while sugar > 0:\n",
    "    if sugar % 5 != 0:\n",
    "        sugar -= 3\n",
    "        if sugar < 0:\n",
    "            number_of_package = -1\n",
    "            break\n",
    "        number_of_package += 1\n",
    "    elif sugar % 5 == 0:\n",
    "        number_of_package += 1\n",
    "        sugar -= 5\n",
    "    elif sugar % 5 != 0 and sugar % 3 != 0:\n",
    "        number_of_package = -1\n",
    "\n",
    "print(number_of_package)"
   ]
  },
  {
   "cell_type": "code",
   "execution_count": null,
   "metadata": {},
   "outputs": [],
   "source": [
    "N = int(input())\n",
    "for y in range( (N//3)+1) :\n",
    "        for x in range( (N//5)+1 ) :\n",
    "            if ((5*x + 3*y) == N) :\n",
    "                print(x+y)"
   ]
  },
  {
   "cell_type": "code",
   "execution_count": null,
   "metadata": {},
   "outputs": [],
   "source": [
    "def sugar(N) :\n",
    "    for y in range( (N//3)+1) :\n",
    "        for x in range( (N//5)+1 ) :\n",
    "            if ((5*x + 3*y) == N) :\n",
    "                return x+y\n",
    "            \n",
    "    return -1 # 아니면 -1 뽑기\n",
    "\n",
    "N = int(input()) #배달해야할 설탕 킬로그램         \n",
    "print(sugar(N))\n",
    "# 다만 이 방법은 속도를 많이 잡아먹지 않을까?"
   ]
  },
  {
   "cell_type": "code",
   "execution_count": null,
   "metadata": {},
   "outputs": [],
   "source": [
    "def sugar(N) :\n",
    "    for y in range( (N//3)+1) :\n",
    "        for x in range( (N//5)+1 ) : #x를 안쪽 for문으로 둔 이유: 5가 큰 수 이기 때문에 \n",
    "            if ((5*x + 3*y) == N) :\n",
    "                return x+y #print와 return의 차이--> print는 루프를 돌면서 해당 경우의 수 출력, return은 해당 맨 앞의 것만 출력.\n",
    "\n",
    "N = int(input()) #배달해야할 설탕 킬로그램         \n",
    "print(sugar(N))"
   ]
  },
  {
   "cell_type": "code",
   "execution_count": null,
   "metadata": {},
   "outputs": [],
   "source": [
    "#5585번"
   ]
  },
  {
   "cell_type": "code",
   "execution_count": null,
   "metadata": {},
   "outputs": [],
   "source": [
    "pay = int(input())\n",
    "change = 1000 - pay\n",
    "print(change)\n",
    "\n",
    "A=B=C=D=E=F=0\n",
    "\n",
    "A = (change // 500)\n",
    "B = (change % 500) // 100\n",
    "C = ((change % 500) % 100) // 50\n",
    "D = (((change % 500) % 100) % 50) //10\n",
    "E = ((((change % 500) % 100) % 50) % 10) //5\n",
    "F = (((((change % 500) % 100) % 50) % 10) % 5) //1\n",
    "\n",
    "print(A+B+C+D+E+F)"
   ]
  },
  {
   "cell_type": "code",
   "execution_count": null,
   "metadata": {},
   "outputs": [],
   "source": [
    "#2810번"
   ]
  },
  {
   "cell_type": "code",
   "execution_count": null,
   "metadata": {},
   "outputs": [],
   "source": [
    "N = int(input())\n",
    "array = list(map(str, input().split()))\n",
    "count = 2\n",
    "\n",
    "for i in range(N-1):\n",
    "    if array[i] == 'S' and array[i+1] == 'L':\n",
    "        count += 1\n",
    "        print(str(count) + str(a))\n",
    "    elif array[i] == 'S' and array[i+1] == 'S':\n",
    "        count += 1\n",
    "        print(str(count) + str(b))\n",
    "    elif array[i] == 'L' and array[i+1] == 'S':\n",
    "        count += 1\n",
    "        print(str(count) + str(c))\n",
    "\n",
    "    elif array[i] == 'L' and array[i+1] == 'L' and i<N-2:\n",
    "        #if array[i]!= array[-2] and array[i+2] == 'L' and array[i+3] =='L':\n",
    "        if array[i+2] == 'L' and array[i+3] =='L':\n",
    "            count += 1\n",
    "            print(count)\n",
    "        \n",
    "print(count)"
   ]
  },
  {
   "cell_type": "code",
   "execution_count": null,
   "metadata": {},
   "outputs": [],
   "source": [
    "N = int(input())\n",
    "array = list(map(str, input().split()))\n",
    "count = 2\n",
    "\n",
    "for i in range(N-1):\n",
    "    if array[i] == 'S' and array[i+1] == 'L':\n",
    "        count += 1\n",
    "    elif array[i] == 'S' and array[i+1] == 'S':\n",
    "        count += 1\n",
    "    elif array[i] == 'L' and array[i+1] == 'S':\n",
    "        count += 1\n",
    "    elif array[i] == 'L' and array[i+1] == 'L' and i<N-2:\n",
    "        if array[i+2] == 'L' and array[i+3] =='L':\n",
    "            count += 1\n",
    "            \n",
    "        \n",
    "print(count)"
   ]
  },
  {
   "cell_type": "code",
   "execution_count": null,
   "metadata": {},
   "outputs": [],
   "source": [
    "n,s=int(input()),input()\n",
    "if s.count('LL')>0:\n",
    "    print(len(s.replace('LL','S'))+1)\n",
    "else:\n",
    "    print(n)"
   ]
  },
  {
   "cell_type": "code",
   "execution_count": null,
   "metadata": {},
   "outputs": [],
   "source": [
    "#9440번 (아직 못품)"
   ]
  },
  {
   "cell_type": "code",
   "execution_count": null,
   "metadata": {},
   "outputs": [],
   "source": [
    "n = int(input())\n",
    "\n",
    "while n>0:\n",
    "    array= list(map(int, input().split())) #첫번째 인덱스는 사용될 N의 개수를 지침.\n",
    "    \n",
    "    \n",
    "    if n==0:\n",
    "        break"
   ]
  },
  {
   "cell_type": "code",
   "execution_count": 13,
   "metadata": {},
   "outputs": [],
   "source": [
    "#15904번"
   ]
  },
  {
   "cell_type": "code",
   "execution_count": 46,
   "metadata": {},
   "outputs": [
    {
     "name": "stdout",
     "output_type": "stream",
     "text": [
      "University Computer Programming\n",
      "[True, True, True]\n",
      "I hate UCPC\n"
     ]
    }
   ],
   "source": [
    "##sentence의 앞에 이미 C가 있으므로 4번째 인덱스에 있는 앞에 있는 C로 착각해서 인식.\n",
    "##그러므로 앞에 했던거를 짤라줘야함.\n",
    "sentence = input()\n",
    "check_list = [\"U\",\"C\",\"P\",\"C\"]\n",
    "array =[]\n",
    "\n",
    "for i in range(len(check_list)):\n",
    "    if check_list[i] in sentence:\n",
    "        idx=sentence.find(check_list[i])\n",
    "        sentence = sentence[idx+1:]\n",
    "        array.append(True)\n",
    "\n",
    "if array.count(True)==4:\n",
    "    print(\"I love UCPC\")\n",
    "else:\n",
    "    print(\"I hate UCPC\")"
   ]
  },
  {
   "cell_type": "code",
   "execution_count": 47,
   "metadata": {},
   "outputs": [],
   "source": [
    "#14659번"
   ]
  },
  {
   "cell_type": "code",
   "execution_count": 50,
   "metadata": {},
   "outputs": [
    {
     "name": "stdout",
     "output_type": "stream",
     "text": [
      "7\n",
      "6 4 10 2 5 7 11\n",
      "3\n"
     ]
    }
   ],
   "source": [
    "N = int(input())\n",
    "peaks = list(map(int, input().split()))\n",
    "high=0\n",
    "ans=0\n",
    "\n",
    "for i in peaks:\n",
    "    if i > high:\n",
    "        high = i\n",
    "        cnt =0\n",
    "    else:\n",
    "        cnt +=1\n",
    "    ans = max(ans,cnt)\n",
    "    \n",
    "print(ans)\n",
    "        "
   ]
  },
  {
   "cell_type": "code",
   "execution_count": 56,
   "metadata": {},
   "outputs": [
    {
     "name": "stdout",
     "output_type": "stream",
     "text": [
      "7\n",
      "6 4 10 2 5 7 11\n",
      "3\n"
     ]
    }
   ],
   "source": [
    "N = int(input())\n",
    "peaks = list(map(int, input().split()))\n",
    "high=0\n",
    "ans=0\n",
    "\n",
    "for i in peaks:\n",
    "    if i >high:\n",
    "        high= i\n",
    "        cnt=0\n",
    "    else:\n",
    "        cnt +=1\n",
    "        ans = max(ans,cnt)\n",
    "print(ans)"
   ]
  },
  {
   "cell_type": "code",
   "execution_count": null,
   "metadata": {},
   "outputs": [],
   "source": []
  }
 ],
 "metadata": {
  "kernelspec": {
   "display_name": "Python 3",
   "language": "python",
   "name": "python3"
  },
  "language_info": {
   "codemirror_mode": {
    "name": "ipython",
    "version": 3
   },
   "file_extension": ".py",
   "mimetype": "text/x-python",
   "name": "python",
   "nbconvert_exporter": "python",
   "pygments_lexer": "ipython3",
   "version": "3.7.4"
  }
 },
 "nbformat": 4,
 "nbformat_minor": 4
}
