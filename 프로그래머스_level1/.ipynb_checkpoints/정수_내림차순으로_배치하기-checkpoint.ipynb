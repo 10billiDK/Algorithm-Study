{
 "cells": [
  {
   "cell_type": "code",
   "execution_count": 1,
   "metadata": {},
   "outputs": [],
   "source": [
    "#n의 각 자릿수를 큰 것부터 작은순으로 정렬한 새로운 정수를 리턴\n",
    "def solution(n):\n",
    "    answer = 0\n",
    "    n=str(n)\n",
    "    n=list(n)\n",
    "    #n = [int(i) for i in n]\n",
    "    n.sort(reverse=True)\n",
    "    #n= [str(i) for i in n]\n",
    "    return int(''.join(n))"
   ]
  },
  {
   "cell_type": "code",
   "execution_count": null,
   "metadata": {},
   "outputs": [],
   "source": []
  }
 ],
 "metadata": {
  "kernelspec": {
   "display_name": "Python 3",
   "language": "python",
   "name": "python3"
  },
  "language_info": {
   "codemirror_mode": {
    "name": "ipython",
    "version": 3
   },
   "file_extension": ".py",
   "mimetype": "text/x-python",
   "name": "python",
   "nbconvert_exporter": "python",
   "pygments_lexer": "ipython3",
   "version": "3.7.4"
  }
 },
 "nbformat": 4,
 "nbformat_minor": 4
}
