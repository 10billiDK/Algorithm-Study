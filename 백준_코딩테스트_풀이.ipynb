{
 "cells": [
  {
   "cell_type": "markdown",
   "metadata": {},
   "source": [
    "## Greedy Algorithm"
   ]
  },
  {
   "cell_type": "code",
   "execution_count": null,
   "metadata": {},
   "outputs": [],
   "source": [
    "#9/26일 ##18238번 : ZOAC2"
   ]
  },
  {
   "cell_type": "code",
   "execution_count": null,
   "metadata": {},
   "outputs": [],
   "source": [
    "## 원판이 아니라 직선으로 놓았을 때의 풀이.\n",
    "\n",
    "def zoac2(input_):\n",
    "    output = 0\n",
    "    start_point = 'A'\n",
    "    \n",
    "    for i in range(len(input_)):\n",
    "        k= abs(ord(input_[i]) - ord(start_point))\n",
    "        output += k\n",
    "        start_point = str(input_[i])\n",
    "    \n",
    "    return output\n",
    "\n",
    "input_ = 'LBOLVUEEPMOIENMG'\n",
    "zoac2(input_)"
   ]
  },
  {
   "cell_type": "code",
   "execution_count": null,
   "metadata": {},
   "outputs": [],
   "source": [
    "ord('A')"
   ]
  },
  {
   "cell_type": "code",
   "execution_count": null,
   "metadata": {},
   "outputs": [],
   "source": [
    "ord('Z')"
   ]
  },
  {
   "cell_type": "code",
   "execution_count": null,
   "metadata": {},
   "outputs": [],
   "source": [
    "## 원판으로 놓았을 때의 풀이.\n",
    "\n",
    "def zoac2(input_):\n",
    "    output = 0\n",
    "    start_point ='A'\n",
    "    \n",
    "    for i in range(len(input_)):\n",
    "        k = abs(ord(input_[i]) - ord(start_point))\n",
    "        if k > 13:\n",
    "            k= 26-k\n",
    "        output += k\n",
    "        start_point = str(input_[i])\n",
    "        \n",
    "    return output\n",
    "\n",
    "input_ = 'ZOAC'\n",
    "print(zoac2(input_))       "
   ]
  },
  {
   "cell_type": "code",
   "execution_count": null,
   "metadata": {},
   "outputs": [],
   "source": [
    "def zoac2(input_):\n",
    "    output = 0\n",
    "    start_point ='A'\n",
    "    \n",
    "    for i in range(len(input_)):\n",
    "        k = abs(ord(input_[i]) - ord(start_point))\n",
    "        if k > 13:\n",
    "            k= 26-k\n",
    "        output += k\n",
    "        start_point = str(input_[i])\n",
    "        \n",
    "    return output\n",
    "\n",
    "input_ = input()\n",
    "print(zoac2(input_)) "
   ]
  },
  {
   "cell_type": "code",
   "execution_count": null,
   "metadata": {},
   "outputs": [],
   "source": [
    "## 10162번: 전자레인지 (누른 횟수의 합 최소로 만들기)"
   ]
  },
  {
   "cell_type": "code",
   "execution_count": null,
   "metadata": {},
   "outputs": [],
   "source": [
    "a = 10\n",
    "b = 60\n",
    "c = 300\n",
    "\n",
    "def electric_range(input_):\n",
    "    if input_ % 10 !=0 : #가장 작은 약수로 나눴을 때 나머지가 0이면 다 나눠지는거\n",
    "        print(-1)\n",
    "    \n",
    "    else:\n",
    "        \n",
    "        A=B=C=0\n",
    "        \n",
    "        A=input_ // c\n",
    "        B=(input_ % c) //b\n",
    "        C=((input_ % c) %b) //a\n",
    "        output = [A,B,C]\n",
    "    return output\n",
    "\n",
    "input_ = int(input())\n",
    "print(*electric_range(input_))"
   ]
  },
  {
   "cell_type": "code",
   "execution_count": null,
   "metadata": {},
   "outputs": [],
   "source": [
    "input_ = int(input())\n",
    "\n",
    "if input_ % 10 !=0 :\n",
    "    print(-1)\n",
    "    \n",
    "else:\n",
    "        \n",
    "    A=B=C=0\n",
    "        \n",
    "    A=input_ // 300\n",
    "    B=(input_ % 300) //60\n",
    "    C=((input_ % 300) %60) //10\n",
    "print(A,B,C)"
   ]
  },
  {
   "cell_type": "code",
   "execution_count": null,
   "metadata": {},
   "outputs": [],
   "source": [
    "T = int(input()) \n",
    "A, B, C = 0, 0, 0 \n",
    "while T > 0: \n",
    "    if T >= 300: \n",
    "        A = (T // 300) \n",
    "        T = (T % 300) \n",
    "    if (T >= 60) and (T < 300): \n",
    "        B = (T // 60) \n",
    "        T = (T % 60) \n",
    "    if (T < 60): \n",
    "        C = (T // 10) \n",
    "        if (T % 10) == 0: \n",
    "            print(\"{} {} {}\".format(A, B, C)) \n",
    "            break \n",
    "        else: \n",
    "            print(-1) \n",
    "            break\n",
    "\n"
   ]
  },
  {
   "cell_type": "code",
   "execution_count": null,
   "metadata": {},
   "outputs": [],
   "source": [
    "##14720번"
   ]
  },
  {
   "cell_type": "code",
   "execution_count": null,
   "metadata": {},
   "outputs": [],
   "source": [
    "N = int(input())\n",
    "Milk_list = list(map(int,input().split()))\n",
    "count = 0\n",
    "\n",
    "for i in range(N-1):\n",
    "    if Milk_list[i+1] == ((Milk_list[i]+1) % 3):\n",
    "        count += 1\n",
    "print(count)"
   ]
  },
  {
   "cell_type": "code",
   "execution_count": null,
   "metadata": {},
   "outputs": [],
   "source": [
    "n = int(input())\n",
    "c = list(map(int, input().split()))\n",
    "MAX = 0\n",
    "\n",
    "for i in range(n):\n",
    "    if(c[i] == MAX%3):\n",
    "        MAX+=1\n",
    "\n",
    "print(MAX)\n",
    "\n",
    "# 옆 가게가 똑같은 우유를 팔지 않는다는 조건이 추가 되어야 하지 않을까?"
   ]
  },
  {
   "cell_type": "code",
   "execution_count": null,
   "metadata": {},
   "outputs": [],
   "source": [
    "## 2839번(봉지수 최소로 하기)"
   ]
  },
  {
   "cell_type": "code",
   "execution_count": null,
   "metadata": {},
   "outputs": [],
   "source": [
    "N = int(input())\n",
    "\n",
    "'''if (N % 3 != 0 and N % 5 !=0): \n",
    "    print(-1)\n",
    "else:\n",
    "    A=B=0\n",
    "    A = N//5\n",
    "    \n",
    "    if (N%5) <3:\n",
    "        B = (N%5)//3 +1\n",
    "    else:\n",
    "        B = (N%5)//3\n",
    "    \n",
    "    print(A+B)''' # 처음 내가 푼 풀이 --> 틀림"
   ]
  },
  {
   "cell_type": "code",
   "execution_count": null,
   "metadata": {},
   "outputs": [],
   "source": [
    "sugar = int(input())\n",
    "number_of_package = 0\n",
    "\n",
    "while sugar > 0:\n",
    "    if sugar % 5 != 0:\n",
    "        sugar -= 3\n",
    "        if sugar < 0:\n",
    "            number_of_package = -1\n",
    "            break\n",
    "        number_of_package += 1\n",
    "    elif sugar % 5 == 0:\n",
    "        number_of_package += 1\n",
    "        sugar -= 5\n",
    "    elif sugar % 5 != 0 and sugar % 3 != 0:\n",
    "        number_of_package = -1\n",
    "\n",
    "print(number_of_package)"
   ]
  },
  {
   "cell_type": "code",
   "execution_count": null,
   "metadata": {},
   "outputs": [],
   "source": [
    "N = int(input())\n",
    "for y in range( (N//3)+1) :\n",
    "        for x in range( (N//5)+1 ) :\n",
    "            if ((5*x + 3*y) == N) :\n",
    "                print(x+y)"
   ]
  },
  {
   "cell_type": "code",
   "execution_count": null,
   "metadata": {},
   "outputs": [],
   "source": [
    "def sugar(N) :\n",
    "    for y in range( (N//3)+1) :\n",
    "        for x in range( (N//5)+1 ) :\n",
    "            if ((5*x + 3*y) == N) :\n",
    "                return x+y\n",
    "            \n",
    "    return -1 # 아니면 -1 뽑기\n",
    "\n",
    "N = int(input()) #배달해야할 설탕 킬로그램         \n",
    "print(sugar(N))\n",
    "# 다만 이 방법은 속도를 많이 잡아먹지 않을까?"
   ]
  },
  {
   "cell_type": "code",
   "execution_count": null,
   "metadata": {},
   "outputs": [],
   "source": [
    "def sugar(N) :\n",
    "    for y in range( (N//3)+1) :\n",
    "        for x in range( (N//5)+1 ) : #x를 안쪽 for문으로 둔 이유: 5가 큰 수 이기 때문에 \n",
    "            if ((5*x + 3*y) == N) :\n",
    "                return x+y #print와 return의 차이--> print는 루프를 돌면서 해당 경우의 수 출력, return은 해당 맨 앞의 것만 출력.\n",
    "\n",
    "N = int(input()) #배달해야할 설탕 킬로그램         \n",
    "print(sugar(N))"
   ]
  },
  {
   "cell_type": "code",
   "execution_count": null,
   "metadata": {},
   "outputs": [],
   "source": [
    "#9/27일 #5585번"
   ]
  },
  {
   "cell_type": "code",
   "execution_count": null,
   "metadata": {},
   "outputs": [],
   "source": [
    "pay = int(input())\n",
    "change = 1000 - pay\n",
    "print(change)\n",
    "\n",
    "A=B=C=D=E=F=0\n",
    "\n",
    "A = (change // 500)\n",
    "B = (change % 500) // 100\n",
    "C = ((change % 500) % 100) // 50\n",
    "D = (((change % 500) % 100) % 50) //10\n",
    "E = ((((change % 500) % 100) % 50) % 10) //5\n",
    "F = (((((change % 500) % 100) % 50) % 10) % 5) //1\n",
    "\n",
    "print(A+B+C+D+E+F)"
   ]
  },
  {
   "cell_type": "code",
   "execution_count": null,
   "metadata": {},
   "outputs": [],
   "source": [
    "#2810번"
   ]
  },
  {
   "cell_type": "code",
   "execution_count": null,
   "metadata": {},
   "outputs": [],
   "source": [
    "N = int(input())\n",
    "array = list(map(str, input().split()))\n",
    "count = 2\n",
    "\n",
    "for i in range(N-1):\n",
    "    if array[i] == 'S' and array[i+1] == 'L':\n",
    "        count += 1\n",
    "        print(str(count) + str(a))\n",
    "    elif array[i] == 'S' and array[i+1] == 'S':\n",
    "        count += 1\n",
    "        print(str(count) + str(b))\n",
    "    elif array[i] == 'L' and array[i+1] == 'S':\n",
    "        count += 1\n",
    "        print(str(count) + str(c))\n",
    "\n",
    "    elif array[i] == 'L' and array[i+1] == 'L' and i<N-2:\n",
    "        #if array[i]!= array[-2] and array[i+2] == 'L' and array[i+3] =='L':\n",
    "        if array[i+2] == 'L' and array[i+3] =='L':\n",
    "            count += 1\n",
    "            print(count)\n",
    "        \n",
    "print(count)"
   ]
  },
  {
   "cell_type": "code",
   "execution_count": null,
   "metadata": {},
   "outputs": [],
   "source": [
    "N = int(input())\n",
    "array = list(map(str, input().split()))\n",
    "count = 2\n",
    "\n",
    "for i in range(N-1):\n",
    "    if array[i] == 'S' and array[i+1] == 'L':\n",
    "        count += 1\n",
    "    elif array[i] == 'S' and array[i+1] == 'S':\n",
    "        count += 1\n",
    "    elif array[i] == 'L' and array[i+1] == 'S':\n",
    "        count += 1\n",
    "    elif array[i] == 'L' and array[i+1] == 'L' and i<N-2:\n",
    "        if array[i+2] == 'L' and array[i+3] =='L':\n",
    "            count += 1\n",
    "            \n",
    "        \n",
    "print(count)"
   ]
  },
  {
   "cell_type": "code",
   "execution_count": null,
   "metadata": {},
   "outputs": [],
   "source": [
    "n,s=int(input()),input()\n",
    "if s.count('LL')>0:\n",
    "    print(len(s.replace('LL','S'))+1)\n",
    "else:\n",
    "    print(n)"
   ]
  },
  {
   "cell_type": "code",
   "execution_count": null,
   "metadata": {},
   "outputs": [],
   "source": [
    "#9440번 (아직 못품)"
   ]
  },
  {
   "cell_type": "code",
   "execution_count": null,
   "metadata": {},
   "outputs": [],
   "source": [
    "n = int(input())\n",
    "\n",
    "while n>0:\n",
    "    array= list(map(int, input().split())) #첫번째 인덱스는 사용될 N의 개수를 지침.\n",
    "    \n",
    "    \n",
    "    if n==0:\n",
    "        break"
   ]
  },
  {
   "cell_type": "code",
   "execution_count": 13,
   "metadata": {},
   "outputs": [],
   "source": [
    "#15904번"
   ]
  },
  {
   "cell_type": "code",
   "execution_count": 46,
   "metadata": {},
   "outputs": [
    {
     "name": "stdout",
     "output_type": "stream",
     "text": [
      "University Computer Programming\n",
      "[True, True, True]\n",
      "I hate UCPC\n"
     ]
    }
   ],
   "source": [
    "##sentence의 앞에 이미 C가 있으므로 4번째 인덱스에 있는 앞에 있는 C로 착각해서 인식.\n",
    "##그러므로 앞에 했던거를 짤라줘야함.\n",
    "sentence = input()\n",
    "check_list = [\"U\",\"C\",\"P\",\"C\"]\n",
    "array =[]\n",
    "\n",
    "for i in range(len(check_list)):\n",
    "    if check_list[i] in sentence:\n",
    "        idx=sentence.find(check_list[i])\n",
    "        sentence = sentence[idx+1:]\n",
    "        array.append(True)\n",
    "\n",
    "if array.count(True)==4:\n",
    "    print(\"I love UCPC\")\n",
    "else:\n",
    "    print(\"I hate UCPC\")"
   ]
  },
  {
   "cell_type": "code",
   "execution_count": 47,
   "metadata": {},
   "outputs": [],
   "source": [
    "#9/28일 #14659번"
   ]
  },
  {
   "cell_type": "code",
   "execution_count": 50,
   "metadata": {},
   "outputs": [
    {
     "name": "stdout",
     "output_type": "stream",
     "text": [
      "7\n",
      "6 4 10 2 5 7 11\n",
      "3\n"
     ]
    }
   ],
   "source": [
    "N = int(input())\n",
    "peaks = list(map(int, input().split()))\n",
    "high=0\n",
    "ans=0\n",
    "\n",
    "for i in peaks:\n",
    "    if i > high:\n",
    "        high = i\n",
    "        cnt =0\n",
    "    else:\n",
    "        cnt +=1\n",
    "    ans = max(ans,cnt)\n",
    "    \n",
    "print(ans)\n",
    "        "
   ]
  },
  {
   "cell_type": "code",
   "execution_count": 56,
   "metadata": {},
   "outputs": [
    {
     "name": "stdout",
     "output_type": "stream",
     "text": [
      "7\n",
      "6 4 10 2 5 7 11\n",
      "3\n"
     ]
    }
   ],
   "source": [
    "N = int(input())\n",
    "peaks = list(map(int, input().split()))\n",
    "high=0\n",
    "ans=0\n",
    "\n",
    "for i in peaks:\n",
    "    if i >high:\n",
    "        high= i\n",
    "        cnt=0\n",
    "    else:\n",
    "        cnt +=1\n",
    "        ans = max(ans,cnt)\n",
    "print(ans)"
   ]
  },
  {
   "cell_type": "code",
   "execution_count": 1,
   "metadata": {},
   "outputs": [],
   "source": [
    "#9094번"
   ]
  },
  {
   "cell_type": "code",
   "execution_count": 44,
   "metadata": {},
   "outputs": [
    {
     "name": "stdout",
     "output_type": "stream",
     "text": [
      "3\n",
      "10 1\n",
      "20 3\n",
      "30 4\n",
      "[[10, 1], [20, 3], [30, 4]]\n",
      "10\n",
      "1\n",
      "20\n",
      "3\n",
      "30\n",
      "4\n",
      "[[2, 1], [5, 2]]\n",
      "[[2, 1], [4, 1], [7, 2]]\n",
      "[[4, 2], [5, 1], [10, 4], [26, 10]]\n"
     ]
    }
   ],
   "source": [
    "N = int(input())\n",
    "check_list=[]\n",
    "for i in range(N):\n",
    "    check_list.append(list(map(int, input().split())))\n",
    "\n",
    "print(check_list)\n",
    "print(check_list[0][0])\n",
    "print(check_list[0][1])\n",
    "print(check_list[1][0])\n",
    "print(check_list[1][1])\n",
    "print(check_list[2][0])\n",
    "print(check_list[2][1])\n",
    "\n",
    "for k in range(N):\n",
    "    b= check_list[k][0]-1\n",
    "    a= b-1\n",
    "    arr=[]\n",
    "    \n",
    "    for i in range(1,b):\n",
    "        for j in range(1,a):\n",
    "            if (j<i) and ((i**i + j**2 + check_list[k][1])/(i*j))-round((i**2 + j**2 + check_list[k][1])/(i*j))==0:\n",
    "                arr.append([i,j])\n",
    "    print(arr)"
   ]
  },
  {
   "cell_type": "code",
   "execution_count": 45,
   "metadata": {},
   "outputs": [],
   "source": [
    "## 배열 A[[0][0]] --> A배열 0,0 있는 리스트 추출\n",
    "## 배열 A[0][0] --> A배열 0,0 있는 원소 추출\n"
   ]
  },
  {
   "cell_type": "code",
   "execution_count": 63,
   "metadata": {
    "scrolled": true
   },
   "outputs": [
    {
     "name": "stdout",
     "output_type": "stream",
     "text": [
      "3\n",
      "10 1\n",
      "20 3\n",
      "30 4\n",
      "[[1, 2], [2, 5]]\n",
      "[[1, 2], [1, 4], [2, 7], [4, 19]]\n",
      "[[2, 4], [1, 5], [4, 10], [10, 26], [5, 29]]\n"
     ]
    }
   ],
   "source": [
    "N = int(input())\n",
    "check_list=[]\n",
    "for i in range(N):\n",
    "    check_list.append(list(map(int, input().split())))\n",
    "\n",
    "for k in range(N):\n",
    "    n= check_list[k][0]\n",
    "    m= check_list[k][1]\n",
    "    arr=[]\n",
    "    \n",
    "    for b in range(1,n):\n",
    "        for a in range(1,n-1):\n",
    "            if (a<b) and ((a*a+b*b+m)%(a*b))==0:\n",
    "                arr.append([a,b])\n",
    "    print(len(arr))"
   ]
  },
  {
   "cell_type": "code",
   "execution_count": 62,
   "metadata": {
    "scrolled": false
   },
   "outputs": [
    {
     "name": "stdout",
     "output_type": "stream",
     "text": [
      "3\n",
      "10 1\n",
      "20 3\n",
      "30 4\n",
      "1 2\n",
      "2 5\n",
      "2\n",
      "1 2\n",
      "1 4\n",
      "2 7\n",
      "4 19\n",
      "4\n",
      "1 5\n",
      "2 4\n",
      "4 10\n",
      "5 29\n",
      "10 26\n",
      "5\n"
     ]
    }
   ],
   "source": [
    "import itertools #0<a<b<n 조합의 정의 n개 중 2개 뽑기\n",
    "\n",
    "def find_integer(n,m):\n",
    "    num_lst = [i for i in range(1,n)]\n",
    "\n",
    "    comb = itertools.combinations(num_lst, 2)\n",
    "\n",
    "    count = 0\n",
    "    for pair in comb:\n",
    "        target = (pair[0]**2 + pair[1]**2 + m)/(pair[0]*pair[1])\n",
    "        if target.is_integer():\n",
    "            count += 1\n",
    "            print(pair[0],pair[1])\n",
    "\n",
    "    return count\n",
    "\n",
    "N = int(input())\n",
    "check_list=[]\n",
    "\n",
    "for i in range(N):\n",
    "    check_list.append(list(map(int, input().split())))\n",
    "\n",
    "for k in range(N):\n",
    "    n= check_list[k][0]\n",
    "    m= check_list[k][1]\n",
    "    print(find_integer(n,m))"
   ]
  },
  {
   "cell_type": "markdown",
   "metadata": {},
   "source": [
    "# BRUTE FORCE"
   ]
  },
  {
   "cell_type": "code",
   "execution_count": 67,
   "metadata": {},
   "outputs": [],
   "source": [
    "#2231번"
   ]
  },
  {
   "cell_type": "code",
   "execution_count": 77,
   "metadata": {},
   "outputs": [
    {
     "name": "stdout",
     "output_type": "stream",
     "text": [
      "256\n",
      "245\n"
     ]
    }
   ],
   "source": [
    "N= int(input())\n",
    "result=0\n",
    "\n",
    "for i in range(1,N+1):\n",
    "    A = list(map(int, str(i))) #왜 스트링화해서 넣은걸 인트로 다시 빼지? --> 자릿수별로 나누기 위해.\n",
    "    result = i + sum(A)\n",
    "    if result == N:\n",
    "        print(i)\n",
    "        break\n",
    "        \n",
    "    elif i == N:\n",
    "        print(0)"
   ]
  },
  {
   "cell_type": "code",
   "execution_count": 78,
   "metadata": {},
   "outputs": [],
   "source": [
    "#2309번"
   ]
  },
  {
   "cell_type": "code",
   "execution_count": 96,
   "metadata": {},
   "outputs": [
    {
     "name": "stdout",
     "output_type": "stream",
     "text": [
      "20 7 23 19 10 15 25 8 13\n",
      "7 8 10 13 19 20 23\n"
     ]
    }
   ],
   "source": [
    "import itertools\n",
    "\n",
    "dwarf_height = list(map(int, input().split()))\n",
    "\n",
    "comb = itertools.combinations(dwarf_height,7)\n",
    "\n",
    "for i in comb:\n",
    "    if sum(i) ==100:\n",
    "        answer_list= list(i)\n",
    "        answer_list.sort()\n",
    "        print(*answer_list)\n",
    "        "
   ]
  },
  {
   "cell_type": "code",
   "execution_count": 97,
   "metadata": {},
   "outputs": [
    {
     "name": "stdout",
     "output_type": "stream",
     "text": [
      "20\n",
      "7\n",
      "23\n",
      "19\n",
      "10\n",
      "15\n",
      "25\n",
      "8\n",
      "13\n"
     ]
    }
   ],
   "source": [
    "##일반적인 풀이 방법. 다 더해놓고 100에 맞출 수 있게끔 빼기.\n",
    "A = [] \n",
    "for i in range(9): \n",
    "    A.append(int(input())) \n",
    "A.sort() \n",
    "result = sum(A) \n",
    "for i in range(9) : \n",
    "    for j in range(i+1,9): #인덱스 중복 없이 반만 골라서 확인.\n",
    "        if result-A[i]-A[j]==100: \n",
    "            for k in range(9) : \n",
    "                if k == i or k == j: \n",
    "                    continue \n",
    "                else : \n",
    "                    print(A[k]) \n",
    "            exit()\n"
   ]
  },
  {
   "cell_type": "code",
   "execution_count": 99,
   "metadata": {},
   "outputs": [
    {
     "name": "stdout",
     "output_type": "stream",
     "text": [
      "20\n",
      "7\n",
      "23\n",
      "19\n",
      "10\n",
      "15\n",
      "25\n",
      "8\n",
      "13\n",
      "7\n",
      "8\n",
      "10\n",
      "13\n",
      "19\n",
      "20\n",
      "23\n"
     ]
    }
   ],
   "source": [
    "import itertools\n",
    "\n",
    "dwarf_height= []\n",
    "for i in range(9):\n",
    "    dwarf_height.append(int(input()))\n",
    "\n",
    "comb = itertools.combinations(dwarf_height,7)\n",
    "\n",
    "for i in comb:\n",
    "    if sum(i) ==100:\n",
    "        answer_list= list(i)\n",
    "        answer_list.sort()\n",
    "        \n",
    "for i in answer_list:\n",
    "    print(i)"
   ]
  },
  {
   "cell_type": "code",
   "execution_count": 1,
   "metadata": {},
   "outputs": [],
   "source": [
    "#9/29일 #2798번"
   ]
  },
  {
   "cell_type": "code",
   "execution_count": 5,
   "metadata": {},
   "outputs": [
    {
     "name": "stdout",
     "output_type": "stream",
     "text": [
      "10 500\n",
      "93 181 245 214 315 36 185 138 216 295\n",
      "497\n"
     ]
    }
   ],
   "source": [
    "import itertools\n",
    "\n",
    "game_number = list(map(int,input().split()))\n",
    "card_list = list(map(int, input().split()))\n",
    "N=game_number[0]\n",
    "M=game_number[1]\n",
    "arr=[]\n",
    "\n",
    "comb = itertools.combinations(card_list,3)\n",
    "\n",
    "for i in comb:\n",
    "    if sum(i) <=M:\n",
    "        arr.append(sum(i))\n",
    "print(max(arr))"
   ]
  },
  {
   "cell_type": "code",
   "execution_count": 6,
   "metadata": {},
   "outputs": [],
   "source": [
    "#10448번"
   ]
  },
  {
   "cell_type": "code",
   "execution_count": 26,
   "metadata": {},
   "outputs": [
    {
     "name": "stdout",
     "output_type": "stream",
     "text": [
      "3\n",
      "10\n",
      "1\n",
      "20\n",
      "0\n",
      "1000\n",
      "1\n"
     ]
    }
   ],
   "source": [
    "#수들이 삼각수로 이루어졌는지 확인하는게 문제 키포인트. 하지만 수를 보고 이것이 삼각수로\n",
    "#형성이 되었는지 확인하기는 어렵다. 그러므로 직접 삼각수를 범위에 맞추어 리스트에 넣고 거기서 꺼내서 판별하자. \n",
    "\n",
    "triangle = [n*(n+1)//2 for n in range(1,46)]\n",
    "eureka =[0]*1001\n",
    "\n",
    "for i in triangle:\n",
    "    for j in triangle:\n",
    "        for k in triangle:\n",
    "            if i+j+k <=1000:\n",
    "                eureka[i+j+k]=1\n",
    "                \n",
    "\n",
    "N= int(input())\n",
    "for i in range(N):\n",
    "    print(eureka[int(input())])"
   ]
  },
  {
   "cell_type": "code",
   "execution_count": 17,
   "metadata": {},
   "outputs": [
    {
     "data": {
      "text/plain": [
       "1001"
      ]
     },
     "execution_count": 17,
     "metadata": {},
     "output_type": "execute_result"
    }
   ],
   "source": [
    " eureka =[0]*1001\n",
    " len(eureka)"
   ]
  },
  {
   "cell_type": "code",
   "execution_count": 23,
   "metadata": {},
   "outputs": [
    {
     "name": "stdout",
     "output_type": "stream",
     "text": [
      "[1, 3, 6, 10, 15, 21, 28, 36, 45, 55, 66, 78, 91, 105, 120, 136, 153, 171, 190, 210, 231, 253, 276, 300, 325, 351, 378, 406, 435, 465, 496, 528, 561, 595, 630, 666, 703, 741, 780, 820, 861, 903, 946, 990, 1035]\n",
      "[1.0, 3.0, 6.0, 10.0, 15.0, 21.0, 28.0, 36.0, 45.0, 55.0, 66.0, 78.0, 91.0, 105.0, 120.0, 136.0, 153.0, 171.0, 190.0, 210.0, 231.0, 253.0, 276.0, 300.0, 325.0, 351.0, 378.0, 406.0, 435.0, 465.0, 496.0, 528.0, 561.0, 595.0, 630.0, 666.0, 703.0, 741.0, 780.0, 820.0, 861.0, 903.0, 946.0, 990.0, 1035.0]\n"
     ]
    }
   ],
   "source": [
    "triangle = [n*(n+1)//2 for n in range(1,46)]\n",
    "print(triangle)\n",
    "triangle1 = [n*(n+1)/2 for n in range(1,46)]\n",
    "print(triangle1)"
   ]
  },
  {
   "cell_type": "code",
   "execution_count": 27,
   "metadata": {},
   "outputs": [],
   "source": [
    "#9/30일 #14697번"
   ]
  },
  {
   "cell_type": "code",
   "execution_count": 40,
   "metadata": {},
   "outputs": [
    {
     "name": "stdout",
     "output_type": "stream",
     "text": [
      "3 6 9 112\n",
      "0\n"
     ]
    }
   ],
   "source": [
    "room_list=list(map(int, input().split()))\n",
    "A = room_list[0]\n",
    "B = room_list[1]\n",
    "C = room_list[2]\n",
    "N = room_list[3]\n",
    "\n",
    "def one_zero(A,B,C,N):\n",
    "    for x in range(N//A+1):\n",
    "        for y in range(N//B+1):\n",
    "            for z in range(N//C+1):\n",
    "                if A*x + B*y + C*z ==N:\n",
    "                    return 1\n",
    "    return 0\n",
    "\n",
    "print(one_zero(A,B,C,N))"
   ]
  },
  {
   "cell_type": "code",
   "execution_count": 4,
   "metadata": {},
   "outputs": [],
   "source": [
    "#2858번"
   ]
  },
  {
   "cell_type": "code",
   "execution_count": 3,
   "metadata": {},
   "outputs": [
    {
     "name": "stdout",
     "output_type": "stream",
     "text": [
      "10 2\n",
      "4 3\n"
     ]
    }
   ],
   "source": [
    "def solution(brown, red):\n",
    "    # a는 가로 길이, b는 세로 길이 (전체 카펫의 크기= a*b) 안의 사각형 갯수: (a-2)(b-2), 즉,       brown = 2(a+b-2), yellow =(a-2)(b-2)\n",
    "    # 문제 풀이시, 중요 포인트는 ..? 항상 신경 써야 하는 것은 매개변수로부터 시작.\n",
    "    answer = []\n",
    "    a=3 #어차피 3부터 시작할 수 밖에 없음. 노란 상자가 최소한 한 개 이상이어야 하므로.\n",
    "    while True:\n",
    "        b = (red/(a-2))+2\n",
    "        if b == int(b):\n",
    "            b = int(b)\n",
    "            if 2*(a+b-2) == brown: #앞에서 yellow로 시작했으니 여기서는 brown으로 한 번 더 계산하므로 교집합을 찾는다.\n",
    "                if a<b:\n",
    "                    a,b=b,a\n",
    "                return [a,b]\n",
    "        a+=1\n",
    "       \n",
    "    return answer\n",
    "\n",
    "count_list = list(map(int, input().split()))\n",
    "brown=count_list[0]\n",
    "red=count_list[1]\n",
    "print(*solution(brown,red))"
   ]
  },
  {
   "cell_type": "code",
   "execution_count": 5,
   "metadata": {},
   "outputs": [],
   "source": [
    "#4641번"
   ]
  },
  {
   "cell_type": "code",
   "execution_count": 13,
   "metadata": {},
   "outputs": [
    {
     "name": "stdout",
     "output_type": "stream",
     "text": [
      "1 4 3 2 9 7 18 22 0\n",
      "3\n",
      "2 4 8 10 0\n",
      "2\n",
      "7 5 11 13 1 3 0\n",
      "0\n",
      "-1\n"
     ]
    }
   ],
   "source": [
    "while True:\n",
    "    test_case=[]\n",
    "    test_case = list(map(int, input().split()))\n",
    "    count =0\n",
    "    \n",
    "    if test_case[0] == -1:\n",
    "        break\n",
    "        \n",
    "    for i in range(len(test_case)-1):\n",
    "        if 2*test_case[i] in test_case:\n",
    "            count +=1\n",
    "    print(count)"
   ]
  },
  {
   "cell_type": "code",
   "execution_count": 14,
   "metadata": {},
   "outputs": [],
   "source": [
    "# 2966번"
   ]
  },
  {
   "cell_type": "code",
   "execution_count": 55,
   "metadata": {
    "scrolled": true
   },
   "outputs": [
    {
     "name": "stdout",
     "output_type": "stream",
     "text": [
      "9\n",
      "AAAABBBBB\n",
      "4\n",
      "Adrian\n",
      "Bruno\n",
      "Goran\n"
     ]
    }
   ],
   "source": [
    "N,answer = int(input()), input()\n",
    "\n",
    "'''S = ['ABC' for i in range(N//3 +1)] 배열을 N개에 맞춰서 생성하는 것보다는 \n",
    "반복되는 규칙에 따라 나눠서 생각해보자.\n",
    "print(S)'''\n",
    "\n",
    "count1=count2=count3=0\n",
    "\n",
    "for i in range(N):\n",
    "    if answer[i] == ['A','B','C'][i%3]: count1 += 1\n",
    "    if answer[i] == ['B','A','B','C'][i%4]: count2 += 1   \n",
    "    if answer[i] == ['C','C','A','A','B','B'][i%6]: count3 += 1\n",
    "MAX = max(count1,count2,count3)\n",
    "print(MAX)\n",
    "if MAX == count1: print('Adrian')\n",
    "if MAX == count2: print('Bruno')\n",
    "if MAX == count3: print('Goran')"
   ]
  },
  {
   "cell_type": "code",
   "execution_count": 56,
   "metadata": {},
   "outputs": [],
   "source": [
    "#13410번"
   ]
  },
  {
   "cell_type": "code",
   "execution_count": 72,
   "metadata": {},
   "outputs": [
    {
     "name": "stdout",
     "output_type": "stream",
     "text": [
      "8 9\n",
      "84\n"
     ]
    }
   ],
   "source": [
    "factor = list(map(int,input().split()))\n",
    "N= factor[0]\n",
    "K= factor[1]\n",
    "\n",
    "arr=[]\n",
    "for j in range(1,K+1):\n",
    "    arr.append(N*j)\n",
    "\n",
    "arr1=[]\n",
    "for i in arr:\n",
    "    k=int(str(i)[::-1]) ##자릿수를 일일이 나눠서 바꾸는것보다는 하나씩 문자화한 뒤 뽑아서 역순으로 재배열하고 다시 숫자화 해서 새로운 원소로 넣기.\n",
    "    arr1.append(k)\n",
    "print(max(arr1))"
   ]
  },
  {
   "cell_type": "code",
   "execution_count": 33,
   "metadata": {},
   "outputs": [],
   "source": [
    "#10/1일 #2999번(답은 맞는데 런타임에러가 뜨네;)"
   ]
  },
  {
   "cell_type": "code",
   "execution_count": 37,
   "metadata": {},
   "outputs": [
    {
     "name": "stdout",
     "output_type": "stream",
     "text": [
      "boudonuimilcbsai\n",
      "bombonisuuladici"
     ]
    }
   ],
   "source": [
    "import numpy\n",
    "\n",
    "N= input()\n",
    "n = len(N)\n",
    "arr=[]\n",
    "for x in range(1,n):\n",
    "    for y in range(n,1,-1):\n",
    "        if x*y==n and x<=y:\n",
    "            arr.append([x,y])\n",
    "\n",
    "criteria = arr[-1]\n",
    "a = criteria[0]\n",
    "b = criteria[1]\n",
    "\n",
    "matrix = numpy.array(list(N))\n",
    "matrix_reshape=matrix.reshape(a,b)\n",
    "matrix_transpose=matrix_reshape.transpose()\n",
    "\n",
    "for i in range(a):\n",
    "    for j in range(b):\n",
    "        print(matrix_transpose[i][j], end='')"
   ]
  },
  {
   "cell_type": "code",
   "execution_count": 39,
   "metadata": {},
   "outputs": [],
   "source": [
    "#boudonuimilcbsai"
   ]
  },
  {
   "cell_type": "code",
   "execution_count": 2,
   "metadata": {},
   "outputs": [],
   "source": [
    "#10/03 그림 비교 #2160번"
   ]
  },
  {
   "cell_type": "code",
   "execution_count": 36,
   "metadata": {},
   "outputs": [
    {
     "name": "stdout",
     "output_type": "stream",
     "text": [
      "3\n",
      "..X....\n",
      ".XXX...\n",
      ".XX....\n",
      ".....X.\n",
      ".X...X.\n",
      "...X...\n",
      "..XX...\n",
      ".XX....\n",
      ".XX..X.\n",
      ".X...X.\n",
      "XX.....\n",
      "X......\n",
      "XX...XX\n",
      "XXXX.XX\n",
      "XXX..XX\n"
     ]
    },
    {
     "ename": "IndexError",
     "evalue": "string index out of range",
     "output_type": "error",
     "traceback": [
      "\u001b[0;31m---------------------------------------------------------------------------\u001b[0m",
      "\u001b[0;31mIndexError\u001b[0m                                Traceback (most recent call last)",
      "\u001b[0;32m<ipython-input-36-d2882bad0ba5>\u001b[0m in \u001b[0;36m<module>\u001b[0;34m\u001b[0m\n\u001b[1;32m     13\u001b[0m     \u001b[0;32mfor\u001b[0m \u001b[0mi\u001b[0m \u001b[0;32min\u001b[0m \u001b[0mrange\u001b[0m\u001b[0;34m(\u001b[0m\u001b[0;36m5\u001b[0m\u001b[0;34m)\u001b[0m\u001b[0;34m:\u001b[0m\u001b[0;34m\u001b[0m\u001b[0;34m\u001b[0m\u001b[0m\n\u001b[1;32m     14\u001b[0m         \u001b[0;32mfor\u001b[0m \u001b[0mk\u001b[0m \u001b[0;32min\u001b[0m \u001b[0mrange\u001b[0m\u001b[0;34m(\u001b[0m\u001b[0;36m7\u001b[0m\u001b[0;34m)\u001b[0m\u001b[0;34m:\u001b[0m\u001b[0;34m\u001b[0m\u001b[0;34m\u001b[0m\u001b[0m\n\u001b[0;32m---> 15\u001b[0;31m             \u001b[0;32mif\u001b[0m \u001b[0mK\u001b[0m\u001b[0;34m[\u001b[0m\u001b[0mj\u001b[0m\u001b[0;34m+\u001b[0m\u001b[0;36m1\u001b[0m\u001b[0;34m]\u001b[0m\u001b[0;34m[\u001b[0m\u001b[0mi\u001b[0m\u001b[0;34m]\u001b[0m\u001b[0;34m[\u001b[0m\u001b[0mk\u001b[0m\u001b[0;34m]\u001b[0m\u001b[0;34m==\u001b[0m \u001b[0mK\u001b[0m\u001b[0;34m[\u001b[0m\u001b[0mN\u001b[0m\u001b[0;34m-\u001b[0m\u001b[0mj\u001b[0m\u001b[0;34m]\u001b[0m\u001b[0;34m[\u001b[0m\u001b[0mi\u001b[0m\u001b[0;34m]\u001b[0m\u001b[0;34m[\u001b[0m\u001b[0mk\u001b[0m\u001b[0;34m]\u001b[0m\u001b[0;34m:\u001b[0m \u001b[0;31m##전체 비교 경우의 수를 다 헤아릴 수 없음.\u001b[0m\u001b[0;34m\u001b[0m\u001b[0;34m\u001b[0m\u001b[0m\n\u001b[0m\u001b[1;32m     16\u001b[0m                 \u001b[0mcount\u001b[0m \u001b[0;34m+=\u001b[0m\u001b[0;36m1\u001b[0m\u001b[0;34m\u001b[0m\u001b[0;34m\u001b[0m\u001b[0m\n\u001b[1;32m     17\u001b[0m     \u001b[0mcount1\u001b[0m\u001b[0;34m.\u001b[0m\u001b[0mappend\u001b[0m\u001b[0;34m(\u001b[0m\u001b[0mcount\u001b[0m\u001b[0;34m)\u001b[0m\u001b[0;34m\u001b[0m\u001b[0;34m\u001b[0m\u001b[0m\n",
      "\u001b[0;31mIndexError\u001b[0m: string index out of range"
     ]
    }
   ],
   "source": [
    "##잘못 풀엇다. 지금 내가 푼건 단순히 첫번째랑 마지막이랑 쭉쭉쭉 좁혀오면서 비교한것. \n",
    "#반복적으로 사용하는 거면 for문보다는 함수를 만들어서 써보자. 이중 삼중 for문보다 더 구조적으로 간단해질 것.\n",
    "\n",
    "N = int(input())\n",
    "K=[]\n",
    "count1=[]\n",
    "\n",
    "for j in range(N):\n",
    "    for i in range(5):\n",
    "        K.append(list(input()))\n",
    "\n",
    "for j in range(N):\n",
    "    count=0\n",
    "    for i in range(5):\n",
    "        for k in range(7):\n",
    "            if K[j+1][i][k]== K[N-j][i][k]: ##전체 비교 경우의 수를 다 헤아릴 수 없음.이렇게 헷갈리게 할바에는 그냥 콤비네이션 쓰자.\n",
    "                count +=1\n",
    "    count1.append(count)\n",
    "\n",
    "print(count1)\n"
   ]
  },
  {
   "cell_type": "code",
   "execution_count": 15,
   "metadata": {},
   "outputs": [
    {
     "ename": "SyntaxError",
     "evalue": "invalid syntax (<ipython-input-15-372dc0eb8e28>, line 1)",
     "output_type": "error",
     "traceback": [
      "\u001b[0;36m  File \u001b[0;32m\"<ipython-input-15-372dc0eb8e28>\"\u001b[0;36m, line \u001b[0;32m1\u001b[0m\n\u001b[0;31m    ..X....\u001b[0m\n\u001b[0m    ^\u001b[0m\n\u001b[0;31mSyntaxError\u001b[0m\u001b[0;31m:\u001b[0m invalid syntax\n"
     ]
    }
   ],
   "source": [
    "..X....\n",
    ".XXX...\n",
    ".XX....\n",
    ".....X.\n",
    ".X...X.\n",
    "...X...\n",
    "..XX...\n",
    ".XX....\n",
    ".XX..X.\n",
    ".X...X.\n",
    "XX.....\n",
    "X......\n",
    "XX...XX\n",
    "XXXX.XX\n",
    "XXX..XX"
   ]
  },
  {
   "cell_type": "code",
   "execution_count": 35,
   "metadata": {},
   "outputs": [
    {
     "name": "stdout",
     "output_type": "stream",
     "text": [
      "3\n",
      "..X....\n",
      ".XXX...\n",
      ".XX....\n",
      ".....X.\n",
      ".X...X.\n",
      "...X...\n",
      "..XX...\n",
      ".XX....\n",
      ".XX..X.\n",
      ".X...X.\n",
      "XX.....\n",
      "X......\n",
      "XX...XX\n",
      "XXXX.XX\n",
      "XXX..XX\n"
     ]
    },
    {
     "ename": "IndexError",
     "evalue": "string index out of range",
     "output_type": "error",
     "traceback": [
      "\u001b[0;31m---------------------------------------------------------------------------\u001b[0m",
      "\u001b[0;31mIndexError\u001b[0m                                Traceback (most recent call last)",
      "\u001b[0;32m<ipython-input-35-d351da09ede6>\u001b[0m in \u001b[0;36m<module>\u001b[0;34m\u001b[0m\n\u001b[1;32m     26\u001b[0m \u001b[0;34m\u001b[0m\u001b[0m\n\u001b[1;32m     27\u001b[0m \u001b[0;32mfor\u001b[0m \u001b[0mi\u001b[0m \u001b[0;32min\u001b[0m \u001b[0mitertools\u001b[0m\u001b[0;34m.\u001b[0m\u001b[0mcombinations\u001b[0m\u001b[0;34m(\u001b[0m\u001b[0mrange\u001b[0m\u001b[0;34m(\u001b[0m\u001b[0mlen\u001b[0m\u001b[0;34m(\u001b[0m\u001b[0mbox\u001b[0m\u001b[0;34m)\u001b[0m\u001b[0;34m)\u001b[0m\u001b[0;34m,\u001b[0m\u001b[0;36m2\u001b[0m\u001b[0;34m)\u001b[0m\u001b[0;34m:\u001b[0m\u001b[0;34m\u001b[0m\u001b[0;34m\u001b[0m\u001b[0m\n\u001b[0;32m---> 28\u001b[0;31m     \u001b[0mval\u001b[0m\u001b[0;34m=\u001b[0m\u001b[0mcomp_container\u001b[0m\u001b[0;34m(\u001b[0m\u001b[0mbox\u001b[0m\u001b[0;34m[\u001b[0m\u001b[0mi\u001b[0m\u001b[0;34m[\u001b[0m\u001b[0;36m0\u001b[0m\u001b[0;34m]\u001b[0m\u001b[0;34m]\u001b[0m\u001b[0;34m,\u001b[0m\u001b[0mbox\u001b[0m\u001b[0;34m[\u001b[0m\u001b[0mi\u001b[0m\u001b[0;34m[\u001b[0m\u001b[0;36m1\u001b[0m\u001b[0;34m]\u001b[0m\u001b[0;34m]\u001b[0m\u001b[0;34m)\u001b[0m\u001b[0;34m\u001b[0m\u001b[0;34m\u001b[0m\u001b[0m\n\u001b[0m\u001b[1;32m     29\u001b[0m     \u001b[0mprint\u001b[0m\u001b[0;34m(\u001b[0m\u001b[0mval\u001b[0m\u001b[0;34m)\u001b[0m\u001b[0;34m\u001b[0m\u001b[0;34m\u001b[0m\u001b[0m\n\u001b[1;32m     30\u001b[0m     \u001b[0;32mif\u001b[0m \u001b[0mval\u001b[0m\u001b[0;34m<\u001b[0m\u001b[0mmn\u001b[0m\u001b[0;34m:\u001b[0m\u001b[0;34m\u001b[0m\u001b[0;34m\u001b[0m\u001b[0m\n",
      "\u001b[0;32m<ipython-input-35-d351da09ede6>\u001b[0m in \u001b[0;36mcomp_container\u001b[0;34m(x, y)\u001b[0m\n\u001b[1;32m     11\u001b[0m     \u001b[0mresult\u001b[0m\u001b[0;34m=\u001b[0m\u001b[0;36m0\u001b[0m\u001b[0;34m\u001b[0m\u001b[0;34m\u001b[0m\u001b[0m\n\u001b[1;32m     12\u001b[0m     \u001b[0;32mfor\u001b[0m \u001b[0mi\u001b[0m \u001b[0;32min\u001b[0m \u001b[0mrange\u001b[0m\u001b[0;34m(\u001b[0m\u001b[0;36m5\u001b[0m\u001b[0;34m)\u001b[0m\u001b[0;34m:\u001b[0m\u001b[0;34m\u001b[0m\u001b[0;34m\u001b[0m\u001b[0m\n\u001b[0;32m---> 13\u001b[0;31m         \u001b[0mresult\u001b[0m\u001b[0;34m+=\u001b[0m\u001b[0mcomp_line\u001b[0m\u001b[0;34m(\u001b[0m\u001b[0mx\u001b[0m\u001b[0;34m[\u001b[0m\u001b[0mi\u001b[0m\u001b[0;34m]\u001b[0m\u001b[0;34m,\u001b[0m\u001b[0my\u001b[0m\u001b[0;34m[\u001b[0m\u001b[0mi\u001b[0m\u001b[0;34m]\u001b[0m\u001b[0;34m)\u001b[0m\u001b[0;34m\u001b[0m\u001b[0;34m\u001b[0m\u001b[0m\n\u001b[0m\u001b[1;32m     14\u001b[0m     \u001b[0mprint\u001b[0m\u001b[0;34m(\u001b[0m\u001b[0mresult\u001b[0m\u001b[0;34m)\u001b[0m\u001b[0;34m\u001b[0m\u001b[0;34m\u001b[0m\u001b[0m\n\u001b[1;32m     15\u001b[0m     \u001b[0;32mreturn\u001b[0m \u001b[0mresult\u001b[0m\u001b[0;34m\u001b[0m\u001b[0;34m\u001b[0m\u001b[0m\n",
      "\u001b[0;32m<ipython-input-35-d351da09ede6>\u001b[0m in \u001b[0;36mcomp_line\u001b[0;34m(x, y)\u001b[0m\n\u001b[1;32m      3\u001b[0m     \u001b[0mresult\u001b[0m\u001b[0;34m=\u001b[0m\u001b[0;36m0\u001b[0m\u001b[0;34m\u001b[0m\u001b[0;34m\u001b[0m\u001b[0m\n\u001b[1;32m      4\u001b[0m     \u001b[0;32mfor\u001b[0m \u001b[0mi\u001b[0m \u001b[0;32min\u001b[0m \u001b[0mrange\u001b[0m\u001b[0;34m(\u001b[0m\u001b[0;36m7\u001b[0m\u001b[0;34m)\u001b[0m\u001b[0;34m:\u001b[0m\u001b[0;34m\u001b[0m\u001b[0;34m\u001b[0m\u001b[0m\n\u001b[0;32m----> 5\u001b[0;31m         \u001b[0;32mif\u001b[0m \u001b[0mx\u001b[0m\u001b[0;34m[\u001b[0m\u001b[0mi\u001b[0m\u001b[0;34m]\u001b[0m\u001b[0;34m!=\u001b[0m\u001b[0my\u001b[0m\u001b[0;34m[\u001b[0m\u001b[0mi\u001b[0m\u001b[0;34m]\u001b[0m\u001b[0;34m:\u001b[0m\u001b[0;34m\u001b[0m\u001b[0;34m\u001b[0m\u001b[0m\n\u001b[0m\u001b[1;32m      6\u001b[0m             \u001b[0mresult\u001b[0m\u001b[0;34m+=\u001b[0m\u001b[0;36m1\u001b[0m\u001b[0;34m\u001b[0m\u001b[0;34m\u001b[0m\u001b[0m\n\u001b[1;32m      7\u001b[0m     \u001b[0mprint\u001b[0m\u001b[0;34m(\u001b[0m\u001b[0mresult\u001b[0m\u001b[0;34m)\u001b[0m\u001b[0;34m\u001b[0m\u001b[0;34m\u001b[0m\u001b[0m\n",
      "\u001b[0;31mIndexError\u001b[0m: string index out of range"
     ]
    }
   ],
   "source": [
    "import itertools \n",
    "\n",
    "def comp_line(x,y): #라인 비교 \n",
    "    result=0 \n",
    "    for i in range(7): \n",
    "        if x[i]!=y[i]: \n",
    "            result+=1\n",
    "    return result \n",
    "        \n",
    "def comp_container(x,y): #컨테이너 비교 \n",
    "    result=0 \n",
    "    for i in range(5): \n",
    "        result+=comp_line(x[i],y[i])    \n",
    "    return result \n",
    "\n",
    "box=[] \n",
    "for i in range(int(input())): \n",
    "    container=[] \n",
    "    for j in range(5): \n",
    "        container+=input() \n",
    "    box+=container \n",
    "    \n",
    "mn=35\n",
    "result=[0,0]\n",
    "\n",
    "for i in itertools.combinations(range(len(box)),2): \n",
    "    val=comp_container(box[i[0]],box[i[1]])\n",
    "    if val<mn:\n",
    "        mn=val \n",
    "        result[0],result[1]=i[0]+1,i[1]+1 \n",
    "print(*result)"
   ]
  },
  {
   "cell_type": "code",
   "execution_count": 43,
   "metadata": {},
   "outputs": [
    {
     "name": "stdout",
     "output_type": "stream",
     "text": [
      "2\n",
      "aaaaa\n",
      "bbbbb\n",
      "ccccc\n",
      "ddddd\n",
      "['a', 'a', 'a', 'a', 'a', 'b', 'b', 'b', 'b', 'b', 'c', 'c', 'c', 'c', 'c', 'd', 'd', 'd', 'd', 'd']\n"
     ]
    }
   ],
   "source": [
    "box=[] \n",
    "for i in range(int(input())): \n",
    "    container=[] \n",
    "    for j in range(2): \n",
    "        container+=input() \n",
    "    box+=container\n",
    "print(box)"
   ]
  },
  {
   "cell_type": "code",
   "execution_count": 47,
   "metadata": {},
   "outputs": [
    {
     "data": {
      "text/plain": [
       "'a'"
      ]
     },
     "execution_count": 47,
     "metadata": {},
     "output_type": "execute_result"
    }
   ],
   "source": [
    "box[0]"
   ]
  },
  {
   "cell_type": "code",
   "execution_count": null,
   "metadata": {},
   "outputs": [],
   "source": [
    "def compare(i,j):\n",
    "    rtn =0\n",
    "    for a in range(5):\n",
    "        for b in range(7):\n",
    "            if picture[i][a][b] != picture[j][a][b]:\n",
    "                rtn +=1\n",
    "    return rtn\n",
    "\n",
    "N= int(input())\n",
    "picture = [[input() for _ in range(5)] for _ in range(N)]\n",
    "min_cnt = 0\n",
    "idx=0\n",
    "for i in range(N-1):\n",
    "    for j in range(i+1,N):\n",
    "        cnt = compare(i,j)\n",
    "        if cnt < min_cnt:\n",
    "            min_cnt = cnt\n",
    "            idx= [i+1,j+1]\n",
    "print(*idx)"
   ]
  },
  {
   "cell_type": "code",
   "execution_count": 38,
   "metadata": {},
   "outputs": [
    {
     "name": "stdout",
     "output_type": "stream",
     "text": [
      "3\n",
      "ddddd\n",
      "sssss\n",
      "eeeee\n",
      "aaaaa\n",
      "aaaaa\n",
      "ddddd\n",
      "qqqqq\n",
      "eeeee\n",
      "wwwww\n",
      "rrrrr\n",
      "ttttt\n",
      "yyyyy\n",
      "yyyyy\n",
      "uuuuu\n",
      "hhhhh\n",
      "[['ddddd', 'sssss', 'eeeee', 'aaaaa', 'aaaaa'], ['ddddd', 'qqqqq', 'eeeee', 'wwwww', 'rrrrr'], ['ttttt', 'yyyyy', 'yyyyy', 'uuuuu', 'hhhhh']]\n"
     ]
    }
   ],
   "source": [
    "N= int(input())\n",
    "picture = [[input() for _ in range(5)] for _ in range(N)]\n",
    "print(picture)"
   ]
  },
  {
   "cell_type": "code",
   "execution_count": 40,
   "metadata": {},
   "outputs": [
    {
     "data": {
      "text/plain": [
       "'d'"
      ]
     },
     "execution_count": 40,
     "metadata": {},
     "output_type": "execute_result"
    }
   ],
   "source": [
    "picture[1][0][0]"
   ]
  },
  {
   "cell_type": "markdown",
   "metadata": {},
   "source": [
    "# BFS"
   ]
  },
  {
   "cell_type": "code",
   "execution_count": 1,
   "metadata": {},
   "outputs": [],
   "source": [
    "#10/7일 바이러스 # 2606번 "
   ]
  },
  {
   "cell_type": "code",
   "execution_count": null,
   "metadata": {},
   "outputs": [],
   "source": [
    "N = int(input())\n",
    "pair_N = int(input())\n",
    "pair = [input().split() for i in range(pair_N)]\n",
    "count = 0\n",
    "\n",
    "if 1 in pair:\n",
    "    count += 1"
   ]
  },
  {
   "cell_type": "code",
   "execution_count": 2,
   "metadata": {},
   "outputs": [
    {
     "name": "stdout",
     "output_type": "stream",
     "text": [
      "6\n",
      "1 2\n",
      "2 3\n",
      "1 5\n",
      "5 2\n",
      "5 6\n",
      "4 7\n"
     ]
    },
    {
     "data": {
      "text/plain": [
       "[['1', '2'], ['2', '3'], ['1', '5'], ['5', '2'], ['5', '6'], ['4', '7']]"
      ]
     },
     "execution_count": 2,
     "metadata": {},
     "output_type": "execute_result"
    }
   ],
   "source": [
    "pair_N = int(input())\n",
    "[input().split() for i in range(pair_N)]"
   ]
  },
  {
   "cell_type": "code",
   "execution_count": 7,
   "metadata": {},
   "outputs": [
    {
     "name": "stdout",
     "output_type": "stream",
     "text": [
      "1 번째 함수에서 2 번째 함수를 호출합니다.\n",
      "2 번째 함수에서 3 번째 함수를 호출합니다.\n",
      "3 번째 함수에서 4 번째 함수를 호출합니다.\n",
      "4 번째 함수에서 5 번째 함수를 호출합니다.\n",
      "5 번째 함수에서 6 번째 함수를 호출합니다.\n",
      "6 번째 함수에서 7 번째 함수를 호출합니다.\n",
      "7 번째 함수에서 8 번째 함수를 호출합니다.\n",
      "8 번째 함수에서 9 번째 함수를 호출합니다.\n",
      "9 번째 함수에서 10 번째 함수를 호출합니다.\n",
      "10 번째 함수에서 11 번째 함수를 호출합니다.\n",
      "11 번째 함수에서 12 번째 함수를 호출합니다.\n",
      "12 번째 함수에서 13 번째 함수를 호출합니다.\n",
      "13 번째 함수에서 14 번째 함수를 호출합니다.\n",
      "14 번째 함수에서 15 번째 함수를 호출합니다.\n",
      "15 번째 함수에서 16 번째 함수를 호출합니다.\n",
      "16 번째 함수에서 17 번째 함수를 호출합니다.\n",
      "17 번째 함수에서 18 번째 함수를 호출합니다.\n",
      "18 번째 함수에서 19 번째 함수를 호출합니다.\n",
      "19 번째 함수에서 20 번째 함수를 호출합니다.\n",
      "20 번째 함수에서 21 번째 함수를 호출합니다.\n",
      "21 번째 함수에서 22 번째 함수를 호출합니다.\n",
      "22 번째 함수에서 23 번째 함수를 호출합니다.\n",
      "23 번째 함수에서 24 번째 함수를 호출합니다.\n",
      "24 번째 함수에서 25 번째 함수를 호출합니다.\n",
      "25 번째 함수에서 26 번째 함수를 호출합니다.\n",
      "26 번째 함수에서 27 번째 함수를 호출합니다.\n",
      "27 번째 함수에서 28 번째 함수를 호출합니다.\n",
      "28 번째 함수에서 29 번째 함수를 호출합니다.\n",
      "29 번째 함수에서 30 번째 함수를 호출합니다.\n",
      "30 번째 함수에서 31 번째 함수를 호출합니다.\n",
      "31 번째 함수에서 32 번째 함수를 호출합니다.\n",
      "32 번째 함수에서 33 번째 함수를 호출합니다.\n",
      "33 번째 함수에서 34 번째 함수를 호출합니다.\n",
      "34 번째 함수에서 35 번째 함수를 호출합니다.\n",
      "35 번째 함수에서 36 번째 함수를 호출합니다.\n",
      "36 번째 함수에서 37 번째 함수를 호출합니다.\n",
      "37 번째 함수에서 38 번째 함수를 호출합니다.\n",
      "38 번째 함수에서 39 번째 함수를 호출합니다.\n",
      "39 번째 함수에서 40 번째 함수를 호출합니다.\n",
      "40 번째 함수에서 41 번째 함수를 호출합니다.\n",
      "41 번째 함수에서 42 번째 함수를 호출합니다.\n",
      "42 번째 함수에서 43 번째 함수를 호출합니다.\n",
      "43 번째 함수에서 44 번째 함수를 호출합니다.\n",
      "44 번째 함수에서 45 번째 함수를 호출합니다.\n",
      "45 번째 함수에서 46 번째 함수를 호출합니다.\n",
      "46 번째 함수에서 47 번째 함수를 호출합니다.\n",
      "47 번째 함수에서 48 번째 함수를 호출합니다.\n",
      "48 번째 함수에서 49 번째 함수를 호출합니다.\n",
      "49 번째 함수에서 50 번째 함수를 호출합니다.\n",
      "50 번째 함수에서 51 번째 함수를 호출합니다.\n",
      "51 번째 함수에서 52 번째 함수를 호출합니다.\n",
      "52 번째 함수에서 53 번째 함수를 호출합니다.\n",
      "53 번째 함수에서 54 번째 함수를 호출합니다.\n",
      "54 번째 함수에서 55 번째 함수를 호출합니다.\n",
      "55 번째 함수에서 56 번째 함수를 호출합니다.\n",
      "56 번째 함수에서 57 번째 함수를 호출합니다.\n",
      "57 번째 함수에서 58 번째 함수를 호출합니다.\n",
      "58 번째 함수에서 59 번째 함수를 호출합니다.\n",
      "59 번째 함수에서 60 번째 함수를 호출합니다.\n",
      "60 번째 함수에서 61 번째 함수를 호출합니다.\n",
      "61 번째 함수에서 62 번째 함수를 호출합니다.\n",
      "62 번째 함수에서 63 번째 함수를 호출합니다.\n",
      "63 번째 함수에서 64 번째 함수를 호출합니다.\n",
      "64 번째 함수에서 65 번째 함수를 호출합니다.\n",
      "65 번째 함수에서 66 번째 함수를 호출합니다.\n",
      "66 번째 함수에서 67 번째 함수를 호출합니다.\n",
      "67 번째 함수에서 68 번째 함수를 호출합니다.\n",
      "68 번째 함수에서 69 번째 함수를 호출합니다.\n",
      "69 번째 함수에서 70 번째 함수를 호출합니다.\n",
      "70 번째 함수에서 71 번째 함수를 호출합니다.\n",
      "71 번째 함수에서 72 번째 함수를 호출합니다.\n",
      "72 번째 함수에서 73 번째 함수를 호출합니다.\n",
      "73 번째 함수에서 74 번째 함수를 호출합니다.\n",
      "74 번째 함수에서 75 번째 함수를 호출합니다.\n",
      "75 번째 함수에서 76 번째 함수를 호출합니다.\n",
      "76 번째 함수에서 77 번째 함수를 호출합니다.\n",
      "77 번째 함수에서 78 번째 함수를 호출합니다.\n",
      "78 번째 함수에서 79 번째 함수를 호출합니다.\n",
      "79 번째 함수에서 80 번째 함수를 호출합니다.\n",
      "80 번째 함수에서 81 번째 함수를 호출합니다.\n",
      "81 번째 함수에서 82 번째 함수를 호출합니다.\n",
      "82 번째 함수에서 83 번째 함수를 호출합니다.\n",
      "83 번째 함수에서 84 번째 함수를 호출합니다.\n",
      "84 번째 함수에서 85 번째 함수를 호출합니다.\n",
      "85 번째 함수에서 86 번째 함수를 호출합니다.\n",
      "86 번째 함수에서 87 번째 함수를 호출합니다.\n",
      "87 번째 함수에서 88 번째 함수를 호출합니다.\n",
      "88 번째 함수에서 89 번째 함수를 호출합니다.\n",
      "89 번째 함수에서 90 번째 함수를 호출합니다.\n",
      "90 번째 함수에서 91 번째 함수를 호출합니다.\n",
      "91 번째 함수에서 92 번째 함수를 호출합니다.\n",
      "92 번째 함수에서 93 번째 함수를 호출합니다.\n",
      "93 번째 함수에서 94 번째 함수를 호출합니다.\n",
      "94 번째 함수에서 95 번째 함수를 호출합니다.\n",
      "95 번째 함수에서 96 번째 함수를 호출합니다.\n",
      "96 번째 함수에서 97 번째 함수를 호출합니다.\n",
      "97 번째 함수에서 98 번째 함수를 호출합니다.\n",
      "98 번째 함수에서 99 번째 함수를 호출합니다.\n",
      "99 번째 함수에서 100 번째 함수를 호출합니다.\n",
      "99 번째 재귀 함수를 종료합니다.\n",
      "98 번째 재귀 함수를 종료합니다.\n",
      "97 번째 재귀 함수를 종료합니다.\n",
      "96 번째 재귀 함수를 종료합니다.\n",
      "95 번째 재귀 함수를 종료합니다.\n",
      "94 번째 재귀 함수를 종료합니다.\n",
      "93 번째 재귀 함수를 종료합니다.\n",
      "92 번째 재귀 함수를 종료합니다.\n",
      "91 번째 재귀 함수를 종료합니다.\n",
      "90 번째 재귀 함수를 종료합니다.\n",
      "89 번째 재귀 함수를 종료합니다.\n",
      "88 번째 재귀 함수를 종료합니다.\n",
      "87 번째 재귀 함수를 종료합니다.\n",
      "86 번째 재귀 함수를 종료합니다.\n",
      "85 번째 재귀 함수를 종료합니다.\n",
      "84 번째 재귀 함수를 종료합니다.\n",
      "83 번째 재귀 함수를 종료합니다.\n",
      "82 번째 재귀 함수를 종료합니다.\n",
      "81 번째 재귀 함수를 종료합니다.\n",
      "80 번째 재귀 함수를 종료합니다.\n",
      "79 번째 재귀 함수를 종료합니다.\n",
      "78 번째 재귀 함수를 종료합니다.\n",
      "77 번째 재귀 함수를 종료합니다.\n",
      "76 번째 재귀 함수를 종료합니다.\n",
      "75 번째 재귀 함수를 종료합니다.\n",
      "74 번째 재귀 함수를 종료합니다.\n",
      "73 번째 재귀 함수를 종료합니다.\n",
      "72 번째 재귀 함수를 종료합니다.\n",
      "71 번째 재귀 함수를 종료합니다.\n",
      "70 번째 재귀 함수를 종료합니다.\n",
      "69 번째 재귀 함수를 종료합니다.\n",
      "68 번째 재귀 함수를 종료합니다.\n",
      "67 번째 재귀 함수를 종료합니다.\n",
      "66 번째 재귀 함수를 종료합니다.\n",
      "65 번째 재귀 함수를 종료합니다.\n",
      "64 번째 재귀 함수를 종료합니다.\n",
      "63 번째 재귀 함수를 종료합니다.\n",
      "62 번째 재귀 함수를 종료합니다.\n",
      "61 번째 재귀 함수를 종료합니다.\n",
      "60 번째 재귀 함수를 종료합니다.\n",
      "59 번째 재귀 함수를 종료합니다.\n",
      "58 번째 재귀 함수를 종료합니다.\n",
      "57 번째 재귀 함수를 종료합니다.\n",
      "56 번째 재귀 함수를 종료합니다.\n",
      "55 번째 재귀 함수를 종료합니다.\n",
      "54 번째 재귀 함수를 종료합니다.\n",
      "53 번째 재귀 함수를 종료합니다.\n",
      "52 번째 재귀 함수를 종료합니다.\n",
      "51 번째 재귀 함수를 종료합니다.\n",
      "50 번째 재귀 함수를 종료합니다.\n",
      "49 번째 재귀 함수를 종료합니다.\n",
      "48 번째 재귀 함수를 종료합니다.\n",
      "47 번째 재귀 함수를 종료합니다.\n",
      "46 번째 재귀 함수를 종료합니다.\n",
      "45 번째 재귀 함수를 종료합니다.\n",
      "44 번째 재귀 함수를 종료합니다.\n",
      "43 번째 재귀 함수를 종료합니다.\n",
      "42 번째 재귀 함수를 종료합니다.\n",
      "41 번째 재귀 함수를 종료합니다.\n",
      "40 번째 재귀 함수를 종료합니다.\n",
      "39 번째 재귀 함수를 종료합니다.\n",
      "38 번째 재귀 함수를 종료합니다.\n",
      "37 번째 재귀 함수를 종료합니다.\n",
      "36 번째 재귀 함수를 종료합니다.\n",
      "35 번째 재귀 함수를 종료합니다.\n",
      "34 번째 재귀 함수를 종료합니다.\n",
      "33 번째 재귀 함수를 종료합니다.\n",
      "32 번째 재귀 함수를 종료합니다.\n",
      "31 번째 재귀 함수를 종료합니다.\n",
      "30 번째 재귀 함수를 종료합니다.\n",
      "29 번째 재귀 함수를 종료합니다.\n",
      "28 번째 재귀 함수를 종료합니다.\n",
      "27 번째 재귀 함수를 종료합니다.\n",
      "26 번째 재귀 함수를 종료합니다.\n",
      "25 번째 재귀 함수를 종료합니다.\n",
      "24 번째 재귀 함수를 종료합니다.\n",
      "23 번째 재귀 함수를 종료합니다.\n",
      "22 번째 재귀 함수를 종료합니다.\n",
      "21 번째 재귀 함수를 종료합니다.\n",
      "20 번째 재귀 함수를 종료합니다.\n",
      "19 번째 재귀 함수를 종료합니다.\n",
      "18 번째 재귀 함수를 종료합니다.\n",
      "17 번째 재귀 함수를 종료합니다.\n",
      "16 번째 재귀 함수를 종료합니다.\n",
      "15 번째 재귀 함수를 종료합니다.\n",
      "14 번째 재귀 함수를 종료합니다.\n",
      "13 번째 재귀 함수를 종료합니다.\n",
      "12 번째 재귀 함수를 종료합니다.\n",
      "11 번째 재귀 함수를 종료합니다.\n",
      "10 번째 재귀 함수를 종료합니다.\n",
      "9 번째 재귀 함수를 종료합니다.\n",
      "8 번째 재귀 함수를 종료합니다.\n",
      "7 번째 재귀 함수를 종료합니다.\n",
      "6 번째 재귀 함수를 종료합니다.\n",
      "5 번째 재귀 함수를 종료합니다.\n",
      "4 번째 재귀 함수를 종료합니다.\n",
      "3 번째 재귀 함수를 종료합니다.\n",
      "2 번째 재귀 함수를 종료합니다.\n",
      "1 번째 재귀 함수를 종료합니다.\n"
     ]
    }
   ],
   "source": [
    "def recursive_function(i):\n",
    "    if i==100:\n",
    "        return\n",
    "    print(i,\"번째 함수에서\",i+1,'번째 함수를 호출합니다.')\n",
    "    recursive_function(i+1)\n",
    "    print(i,\"번째 재귀 함수를 종료합니다.\")\n",
    "recursive_function(1)"
   ]
  },
  {
   "cell_type": "code",
   "execution_count": 4,
   "metadata": {},
   "outputs": [
    {
     "data": {
      "text/plain": [
       "[1]"
      ]
     },
     "execution_count": 4,
     "metadata": {},
     "output_type": "execute_result"
    }
   ],
   "source": [
    "que=[]\n",
    "que.append(1)\n",
    "que.append(2)\n",
    "que.pop(1)\n",
    "que"
   ]
  },
  {
   "cell_type": "code",
   "execution_count": null,
   "metadata": {},
   "outputs": [],
   "source": []
  }
 ],
 "metadata": {
  "kernelspec": {
   "display_name": "Python 3",
   "language": "python",
   "name": "python3"
  },
  "language_info": {
   "codemirror_mode": {
    "name": "ipython",
    "version": 3
   },
   "file_extension": ".py",
   "mimetype": "text/x-python",
   "name": "python",
   "nbconvert_exporter": "python",
   "pygments_lexer": "ipython3",
   "version": "3.7.4"
  }
 },
 "nbformat": 4,
 "nbformat_minor": 4
}
