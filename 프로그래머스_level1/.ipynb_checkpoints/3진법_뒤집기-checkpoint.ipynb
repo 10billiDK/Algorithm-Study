{
 "cells": [
  {
   "cell_type": "code",
   "execution_count": null,
   "metadata": {},
   "outputs": [],
   "source": [
    "# 첫번째, n을 3진법으로 바꿔주는 코드를 짜기\n",
    "# while loop(무한루프)를 활용해서 삼진법 내의 가장 큰 삼제곱수를 구해서 기준을 잡는다.\n",
    "# 추가 리스트를 만들어 3진법 수가 와일 루프를 한번 돌때마다 하나씩 쌓이게 한다.\n",
    "# 10진법으로 바꿔준다.\n",
    "# 첫번쨰 풀이가 어떤 오류가 있긴한데...모르겟다..\n",
    "\n",
    "'''def solution(n):\n",
    "    answer = 0\n",
    "    Q=0\n",
    "    R=0\n",
    "    number=''\n",
    "    while True:\n",
    "        Q= n//3\n",
    "        R= n%3\n",
    "        number += str(R) \n",
    "        n=Q\n",
    "        if n<3:\n",
    "            number += str(Q)\n",
    "            break\n",
    "        \n",
    "    leng= len(number)\n",
    "    for idx, num in enumerate(number):\n",
    "        answer += (3**(leng-1-idx) * int(num))\n",
    "    return answer'''\n",
    "# 두번째 풀이\n",
    "def solution(n):\n",
    "    three=''\n",
    "    ten=0\n",
    "    while n!=0:\n",
    "        three += str(n%3)\n",
    "        n=n//3\n",
    "    for idx, num in enumerate(three[::-1]): #[::-1] 처음부터 끝까지 -1칸으로 (=역순으로 배열)\n",
    "        ten += ((3**idx))* int(num)\n",
    "    return ten"
   ]
  }
 ],
 "metadata": {
  "kernelspec": {
   "display_name": "Python 3",
   "language": "python",
   "name": "python3"
  },
  "language_info": {
   "codemirror_mode": {
    "name": "ipython",
    "version": 3
   },
   "file_extension": ".py",
   "mimetype": "text/x-python",
   "name": "python",
   "nbconvert_exporter": "python",
   "pygments_lexer": "ipython3",
   "version": "3.7.4"
  }
 },
 "nbformat": 4,
 "nbformat_minor": 4
}
