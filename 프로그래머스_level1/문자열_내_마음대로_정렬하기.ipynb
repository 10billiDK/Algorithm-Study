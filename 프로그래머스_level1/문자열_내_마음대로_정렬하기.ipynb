{
 "cells": [
  {
   "cell_type": "code",
   "execution_count": 1,
   "metadata": {},
   "outputs": [],
   "source": [
    "# 정렬 기준으로 앞으로 가져왔다가 다시 떼는 작업\n",
    "'''def solution(strings, n):\n",
    "    answer = []\n",
    "    \n",
    "    for i in range(len(strings)):\n",
    "        strings[i] = strings[i][n]+strings[i]\n",
    "    strings.sort()\n",
    "    for i in range(len(strings)):\n",
    "        answer.append(strings[i][1:])\n",
    "        \n",
    "    return answer'''\n",
    "#lambda 함수 활용\n",
    "def solution(strings, n):\n",
    "    return sorted(sorted(strings), key =lambda x: x[n]) #sorted(strings)를 해준 이유는 기준에 따라 정렬했을 때 동일한 경우를 대비해 한번 더 정렬해줌."
   ]
  },
  {
   "cell_type": "code",
   "execution_count": null,
   "metadata": {},
   "outputs": [],
   "source": []
  }
 ],
 "metadata": {
  "kernelspec": {
   "display_name": "Python 3",
   "language": "python",
   "name": "python3"
  },
  "language_info": {
   "codemirror_mode": {
    "name": "ipython",
    "version": 3
   },
   "file_extension": ".py",
   "mimetype": "text/x-python",
   "name": "python",
   "nbconvert_exporter": "python",
   "pygments_lexer": "ipython3",
   "version": "3.7.4"
  }
 },
 "nbformat": 4,
 "nbformat_minor": 4
}
