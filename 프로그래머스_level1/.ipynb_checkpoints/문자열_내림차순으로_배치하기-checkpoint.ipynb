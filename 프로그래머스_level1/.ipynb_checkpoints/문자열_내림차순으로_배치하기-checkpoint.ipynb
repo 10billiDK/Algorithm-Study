{
 "cells": [
  {
   "cell_type": "code",
   "execution_count": 1,
   "metadata": {},
   "outputs": [],
   "source": [
    "'''def solution(s):\n",
    "    return s[::-1]''' #왜 안됨? 당연히 안되지 후..정신 좀\n",
    "\n",
    "# 문자를 큰 것부터 작은 순으로 정렬해 새로운 문자열을 리턴.\n",
    "def solution(s):\n",
    "    answer=''\n",
    "    a=''\n",
    "    answer = [i for i in s]\n",
    "    answer.sort(reverse=True)\n",
    "    \n",
    "    for i in answer:\n",
    "        a += i\n",
    "    return a"
   ]
  },
  {
   "cell_type": "code",
   "execution_count": null,
   "metadata": {},
   "outputs": [],
   "source": []
  }
 ],
 "metadata": {
  "kernelspec": {
   "display_name": "Python 3",
   "language": "python",
   "name": "python3"
  },
  "language_info": {
   "codemirror_mode": {
    "name": "ipython",
    "version": 3
   },
   "file_extension": ".py",
   "mimetype": "text/x-python",
   "name": "python",
   "nbconvert_exporter": "python",
   "pygments_lexer": "ipython3",
   "version": "3.7.4"
  }
 },
 "nbformat": 4,
 "nbformat_minor": 4
}
