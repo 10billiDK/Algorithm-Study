{
 "cells": [
  {
   "cell_type": "code",
   "execution_count": 1,
   "metadata": {},
   "outputs": [],
   "source": [
    "#if문을 써서 ord로 일일이 크기 비교할 필요 없이 isupper(), islower()함수를 써주면 대문자, 소문자 판별이 됨.\n",
    "#\n",
    "def solution(s, n):\n",
    "    s= list(s) #list화를 시켜줘야함. 그래야 문자를 알파벳 단위로 끊어 볼 수 있음.\n",
    "    for i in range(len(s)):\n",
    "        if s[i].isupper(): # 그 문자가 대문자인지 알아 볼 수 있는 함수\n",
    "            s[i]=chr((ord(s[i]) - ord('A')+n)%26 + ord('A')) # -ord('A') + ord('A')를 하는 이유: -ord('A')를 하는 이유는 바로 안하면 26으로 나눴을 때 의도한 나머지가 안나옴. +ord('A')를 하는 이유는 바로 대문자에 해당하는 아스키코드가 아니라 다른 걸 나타내는 아스키코드를 가리키게 됨.\n",
    "        elif s[i].islower():\n",
    "            s[i]=chr((ord(s[i])-ord('a')+n)%26 + ord('a'))\n",
    "    \n",
    "    return ''.join(s) #문자를 더해주는 것."
   ]
  },
  {
   "cell_type": "code",
   "execution_count": null,
   "metadata": {},
   "outputs": [],
   "source": []
  }
 ],
 "metadata": {
  "kernelspec": {
   "display_name": "Python 3",
   "language": "python",
   "name": "python3"
  },
  "language_info": {
   "codemirror_mode": {
    "name": "ipython",
    "version": 3
   },
   "file_extension": ".py",
   "mimetype": "text/x-python",
   "name": "python",
   "nbconvert_exporter": "python",
   "pygments_lexer": "ipython3",
   "version": "3.7.4"
  }
 },
 "nbformat": 4,
 "nbformat_minor": 4
}
