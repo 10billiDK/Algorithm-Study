{
 "cells": [
  {
   "cell_type": "code",
   "execution_count": 1,
   "metadata": {},
   "outputs": [],
   "source": [
    "# 2차원 배열 board(5*5 ~ 30*30, ), 인형을 집기 위해 크레인을 작동시킨 위치가 담긴 배열 moves(1~1000)\n",
    "\n",
    "# moves의 원소에 따라서(for문 하나) board에서 열로 순회하여(for문 두개, 즉 이중 for문) 0이 아닌 수를 찾아야함.\n",
    "# 0이 아닌 수를 찾은 다음에 board에서 그 수를 0으로 바꿈\n",
    "# 새로운 리스트에 그 수를 넣음.\n",
    "# 처음에 넣을 때는 그냥 넣음\n",
    "# 두번째 넣을 때, 새로운 리스트에서 같은 숫자가 연속된다면(리스트의 마지막 수와 새로 들어올 수가 같냐?) 그 수를 터트릴것. 새롭게 안 넣으면 됨. result +=1\n",
    "# 다른 숫자면? 계속 입력되게함.\n",
    "# 크레인을 모두 작동시킨 후 터트려져 사라진 인형의 개수를 return\n",
    "\n",
    "def solution(board, moves):\n",
    "    result = 0\n",
    "    moved=[]\n",
    "    for x in moves:\n",
    "        for i in range(len(board)):\n",
    "            col = x-1\n",
    "            if board[i][col] !=0 :\n",
    "                got = board[i][col]\n",
    "                board[i][col]=0\n",
    "                if len(moved)==0:\n",
    "                    moved.append(got)\n",
    "                elif len(moved)>0 and got != moved[-1]:\n",
    "                    moved.append(got)\n",
    "                else:\n",
    "                    result +=2\n",
    "                    del moved[-1]\n",
    "                break\n",
    "    return result"
   ]
  },
  {
   "cell_type": "code",
   "execution_count": null,
   "metadata": {},
   "outputs": [],
   "source": []
  }
 ],
 "metadata": {
  "kernelspec": {
   "display_name": "Python 3",
   "language": "python",
   "name": "python3"
  },
  "language_info": {
   "codemirror_mode": {
    "name": "ipython",
    "version": 3
   },
   "file_extension": ".py",
   "mimetype": "text/x-python",
   "name": "python",
   "nbconvert_exporter": "python",
   "pygments_lexer": "ipython3",
   "version": "3.7.4"
  }
 },
 "nbformat": 4,
 "nbformat_minor": 4
}
