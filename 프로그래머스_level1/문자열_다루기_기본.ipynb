{
 "cells": [
  {
   "cell_type": "code",
   "execution_count": 1,
   "metadata": {},
   "outputs": [
    {
     "data": {
      "text/plain": [
       "'def solution(s):\\n\\n    if (len(s) == 4 or len(s) == 6) and s.isdigit():\\n\\n        return True\\n\\n    else:\\n\\n        return False'"
      ]
     },
     "execution_count": 1,
     "metadata": {},
     "output_type": "execute_result"
    }
   ],
   "source": [
    "#첫번째 풀이에서 어디에 빈틈이 있을까....\n",
    "def solution(s):\n",
    "    for i in range(len(s)):\n",
    "        if len(s)==4 or len(s)==6:\n",
    "            if ord(s[i])>65:\n",
    "                return False\n",
    "            else:\n",
    "                return True\n",
    "        else:\n",
    "            return False\n",
    "\n",
    "# isdigit이냐는 함수 활용.      \n",
    "'''def solution(s):\n",
    "\n",
    "    if (len(s) == 4 or len(s) == 6) and s.isdigit():\n",
    "\n",
    "        return True\n",
    "\n",
    "    else:\n",
    "\n",
    "        return False'''"
   ]
  },
  {
   "cell_type": "code",
   "execution_count": null,
   "metadata": {},
   "outputs": [],
   "source": []
  }
 ],
 "metadata": {
  "kernelspec": {
   "display_name": "Python 3",
   "language": "python",
   "name": "python3"
  },
  "language_info": {
   "codemirror_mode": {
    "name": "ipython",
    "version": 3
   },
   "file_extension": ".py",
   "mimetype": "text/x-python",
   "name": "python",
   "nbconvert_exporter": "python",
   "pygments_lexer": "ipython3",
   "version": "3.7.4"
  }
 },
 "nbformat": 4,
 "nbformat_minor": 4
}
