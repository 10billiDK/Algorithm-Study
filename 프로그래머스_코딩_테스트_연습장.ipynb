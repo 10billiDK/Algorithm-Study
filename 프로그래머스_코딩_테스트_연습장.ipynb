{
 "cells": [
  {
   "cell_type": "code",
   "execution_count": 11,
   "metadata": {},
   "outputs": [
    {
     "data": {
      "text/plain": [
       "'[6, 10, 2]'"
      ]
     },
     "execution_count": 11,
     "metadata": {},
     "output_type": "execute_result"
    }
   ],
   "source": [
    "numbers=[6,10,2]\n",
    "numbers=str(numbers)\n",
    "numbers"
   ]
  },
  {
   "cell_type": "markdown",
   "metadata": {},
   "source": [
    "# 프로그래머스 코딩 테스트 연습"
   ]
  },
  {
   "cell_type": "markdown",
   "metadata": {},
   "source": [
    "## 정렬 1번 (K번째 수)"
   ]
  },
  {
   "cell_type": "code",
   "execution_count": 69,
   "metadata": {},
   "outputs": [],
   "source": [
    "def solution(array, commands):\n",
    "    \n",
    "    def com(arr,i,j,k):\n",
    "        arr=arr[i-1:j]\n",
    "        arr.sort()\n",
    "        \n",
    "        return arr[k-1]\n",
    "    \n",
    "    answer = []\n",
    "    \n",
    "    for a,b,c in commands:\n",
    "        answer.append(com(array,a,b,c))\n",
    "\n",
    "    return answer"
   ]
  },
  {
   "cell_type": "code",
   "execution_count": 70,
   "metadata": {},
   "outputs": [
    {
     "data": {
      "text/plain": [
       "[5, 6, 3]"
      ]
     },
     "execution_count": 70,
     "metadata": {},
     "output_type": "execute_result"
    }
   ],
   "source": [
    "array = [1,5,2,6,3,7,4]\n",
    "commands=[[2,5,3],[4,4,1],[1,7,3]]\n",
    "solution(array,commands)"
   ]
  },
  {
   "cell_type": "code",
   "execution_count": 72,
   "metadata": {},
   "outputs": [
    {
     "data": {
      "text/plain": [
       "'내가 시도한 풀이:\\n-\\t인덱스 슬라이싱\\n-\\t정렬\\n-\\t인덱싱을 통한 추출\\n\\n\\n함수에 사용하는 변수와 메인 함수의 for문에서 사용하는 변수명이 겹쳐도 괜찮았다.\\n\\n입출력에 활용되는 변수명은 함수 내에 쓰이는 핵심 변수이다.\\n\\n배열 활용시 핵심 기본 함수. Append\\n'"
      ]
     },
     "execution_count": 72,
     "metadata": {},
     "output_type": "execute_result"
    }
   ],
   "source": [
    "'''내가 시도한 풀이:\n",
    "-\t인덱스 슬라이싱\n",
    "-\t정렬\n",
    "-\t인덱싱을 통한 추출\n",
    "\n",
    "\n",
    "함수에 사용하는 변수와 메인 함수의 for문에서 사용하는 변수명이 겹쳐도 괜찮았다.\n",
    "\n",
    "입출력에 활용되는 변수명은 함수 내에 쓰이는 핵심 변수이다.\n",
    "\n",
    "배열 활용시 핵심 기본 함수. Append\n",
    "'''"
   ]
  },
  {
   "cell_type": "markdown",
   "metadata": {},
   "source": [
    "## 정렬 2번 (가장 큰 수)"
   ]
  },
  {
   "cell_type": "code",
   "execution_count": 73,
   "metadata": {},
   "outputs": [],
   "source": [
    "def solution(numbers):\n",
    "    answer = ''\n",
    "    so=[]\n",
    "    for o in numbers:\n",
    "        o= str(o)\n",
    "        sz=12//len(o)\n",
    "        so.append([o*sz,o]) # o가 이미 str화 되었기 때문에 sz값을 곱하면 10101010.. 이런식으로 나옴.\n",
    "    \n",
    "    so.sort(reverse=True)\n",
    "    for _,s in so:\n",
    "        answer += s\n",
    "    if answer and int(answer) ==0:\n",
    "        answer ='0'\n",
    "    return answer"
   ]
  },
  {
   "cell_type": "code",
   "execution_count": 74,
   "metadata": {},
   "outputs": [
    {
     "data": {
      "text/plain": [
       "'6210'"
      ]
     },
     "execution_count": 74,
     "metadata": {},
     "output_type": "execute_result"
    }
   ],
   "source": [
    "numbers =[6,10,2]\n",
    "solution(numbers)"
   ]
  },
  {
   "cell_type": "code",
   "execution_count": 76,
   "metadata": {},
   "outputs": [
    {
     "data": {
      "text/plain": [
       "'for k in array:\\n    string += k\\nprint(string)\\n\\n\\n** 배열 안에 있는 수들을 그대로 더하려면 문자열화가 필요. 그러므로 배열에서 원소(수)들을 빼낼 때, string화가 반드시 이행해져야 함.\\n\\n** 기본적인 10진법 비교가 아닌 수의 앞 자릿수(십의 자리든 일의 자리든 앞의 수를 기반으로 크기를 비교) 를 비교해야 하므로, 같은 자릿수를 맞춰주는 것이 핵심이다. 지금 문제에서 요구하는 수의 범위가 1~1000이므로, 1,2,3,4의 최소공배수인 12에 맞추어 12자리로 나열한다.\\n\\n**2차원 배열로 12자리 수와 본래의 수로 정리를 한다. 이후, 본래의 수를 내림차순 정렬해서 꺼낸뒤 붙인다.\\n\\n'"
      ]
     },
     "execution_count": 76,
     "metadata": {},
     "output_type": "execute_result"
    }
   ],
   "source": [
    "'''\n",
    "내가 시도한 풀이: \n",
    "랜덤 셔플을 활용해서 만들 수 있는 경우의 수를 쭉 나열한다. 그 중 가장 큰 수를 고르게끔 할 계획이다.\n",
    "\n",
    "한계점: 랜덤 셔플 중복 문제 해결 못함. 깔끔하게 for문이 구현 안됨. \n",
    "\n",
    "실패 코드\n",
    "import random\n",
    "\n",
    "numbers=[6,10,2]\n",
    "array=[]\n",
    "string=''\n",
    "\n",
    "for i in range(len(numbers)*(len(numbers)-1)):\n",
    "    random.shuffle(numbers)\n",
    "    print(numbers)\n",
    "\n",
    "''''''for j in range(len(numbers)):\n",
    "    array += str(numbers[j])\n",
    "    print(array)'''''\n",
    "        \n",
    "'''for k in array:\n",
    "    string += k\n",
    "print(string)\n",
    "\n",
    "\n",
    "** 배열 안에 있는 수들을 그대로 더하려면 문자열화가 필요. 그러므로 배열에서 원소(수)들을 빼낼 때, string화가 반드시 이행해져야 함.\n",
    "\n",
    "** 기본적인 10진법 비교가 아닌 수의 앞 자릿수(십의 자리든 일의 자리든 앞의 수를 기반으로 크기를 비교) 를 비교해야 하므로, 같은 자릿수를 맞춰주는 것이 핵심이다. 지금 문제에서 요구하는 수의 범위가 1~1000이므로, 1,2,3,4의 최소공배수인 12에 맞추어 12자리로 나열한다.\n",
    "\n",
    "**2차원 배열로 12자리 수와 본래의 수로 정리를 한다. 이후, 본래의 수를 내림차순 정렬해서 꺼낸뒤 붙인다.\n",
    "\n",
    "'''"
   ]
  },
  {
   "cell_type": "markdown",
   "metadata": {},
   "source": [
    "## 정렬 3번 ( H-INDEX)"
   ]
  },
  {
   "cell_type": "code",
   "execution_count": 77,
   "metadata": {},
   "outputs": [],
   "source": [
    "def solution(citations):\n",
    "    answer = 0\n",
    "    for h in range(max(citations) +1):\n",
    "        x=[1 for _ in citations if _>=h]\n",
    "        if answer <= h <= len(x):\n",
    "            answer =h\n",
    "    \n",
    "    return answer"
   ]
  },
  {
   "cell_type": "code",
   "execution_count": 78,
   "metadata": {},
   "outputs": [
    {
     "data": {
      "text/plain": [
       "3"
      ]
     },
     "execution_count": 78,
     "metadata": {},
     "output_type": "execute_result"
    }
   ],
   "source": [
    "ciations=[3,0,6,1,5]\n",
    "solution(ciations)"
   ]
  },
  {
   "cell_type": "code",
   "execution_count": 79,
   "metadata": {},
   "outputs": [
    {
     "data": {
      "text/plain": [
       "'\\n내가 시도한 풀이:\\n생각했던 개념 자체는 문제 풀이 해답과 방향은 일치함.\\n하지만 리스트 컴프리핸션을 어떻게 사용할지 몰랐음. 코드에 대한 숙지 더욱이 필요.\\n'"
      ]
     },
     "execution_count": 79,
     "metadata": {},
     "output_type": "execute_result"
    }
   ],
   "source": [
    "'''\n",
    "내가 시도한 풀이:\n",
    "생각했던 개념 자체는 문제 풀이 해답과 방향은 일치함.\n",
    "하지만 리스트 컴프리핸션을 어떻게 사용할지 몰랐음. 코드에 대한 숙지 더욱이 필요.\n",
    "'''"
   ]
  },
  {
   "cell_type": "code",
   "execution_count": 115,
   "metadata": {},
   "outputs": [
    {
     "data": {
      "text/plain": [
       "6"
      ]
     },
     "execution_count": 115,
     "metadata": {},
     "output_type": "execute_result"
    }
   ],
   "source": [
    "citations=[3,0,1,5,6]\n",
    "max(citations)"
   ]
  },
  {
   "cell_type": "code",
   "execution_count": 117,
   "metadata": {},
   "outputs": [
    {
     "name": "stdout",
     "output_type": "stream",
     "text": [
      "[1, 1, 1, 1]\n"
     ]
    }
   ],
   "source": [
    "x=[1 for i in range(1,5)]\n",
    "print(x)\n"
   ]
  },
  {
   "cell_type": "code",
   "execution_count": 123,
   "metadata": {},
   "outputs": [
    {
     "data": {
      "text/plain": [
       "[0, 1, 3, 5, 6]"
      ]
     },
     "execution_count": 123,
     "metadata": {},
     "output_type": "execute_result"
    }
   ],
   "source": [
    "import numpy as np\n",
    "citations.sort()\n",
    "citations"
   ]
  },
  {
   "cell_type": "code",
   "execution_count": 124,
   "metadata": {},
   "outputs": [
    {
     "data": {
      "text/plain": [
       "array([0, 1, 3, 5, 6])"
      ]
     },
     "execution_count": 124,
     "metadata": {},
     "output_type": "execute_result"
    }
   ],
   "source": [
    "np.sort(citations)"
   ]
  },
  {
   "cell_type": "markdown",
   "metadata": {},
   "source": [
    "## 완전탐색 1번 (모의고사)"
   ]
  },
  {
   "cell_type": "code",
   "execution_count": 60,
   "metadata": {
    "scrolled": true
   },
   "outputs": [
    {
     "data": {
      "text/plain": [
       "[1]"
      ]
     },
     "execution_count": 60,
     "metadata": {},
     "output_type": "execute_result"
    }
   ],
   "source": [
    "def solution(answers):\n",
    "\n",
    "    answer_ = [[1,2,3,4,6], [2,1,2,3,2], [3,3,1,1,2]]\n",
    "    answer__ = []\n",
    "    answer = []\n",
    "    count = []\n",
    "    #print(len(answer_)) --> 3\n",
    "    \n",
    "    for k in range(len(answer_)):\n",
    "        answer2=[]\n",
    "        for i in range(len(answers)):\n",
    "            if(answers[i] == answer_[k][i]):\n",
    "                answer2.append(answer_[k][i])\n",
    "        answer__.append(answer2)           \n",
    "    \n",
    "    for idx, r in enumerate(answer__):\n",
    "        count.append(len(r))\n",
    "    \n",
    "    k= max(count)\n",
    "    '''if count[0] ==k:\n",
    "        answer.append(1)\n",
    "    if count[1] ==k:\n",
    "        answer.append(2)\n",
    "    if count[2] ==k:\n",
    "        answer.append(3)'''\n",
    "        \n",
    "    for ix, c in enumerate(count):\n",
    "        if (c == k):\n",
    "            answer.append(ix+1)\n",
    "            \n",
    "    return answer\n",
    "\n",
    "answers = [1,2,3,4,5]\n",
    "solution(answers)"
   ]
  },
  {
   "cell_type": "code",
   "execution_count": 28,
   "metadata": {},
   "outputs": [
    {
     "data": {
      "text/plain": [
       "[1]"
      ]
     },
     "execution_count": 28,
     "metadata": {},
     "output_type": "execute_result"
    }
   ],
   "source": [
    "def solution(answers):\n",
    "    a1 = [1,2,3,4,5]\n",
    "    a2 = [2,1,2,3,2,4,2,5]\n",
    "    a3 = [3,3,1,1,2,2,4,4,5,5]\n",
    "    c1,c2,c3 = 0,0,0\n",
    "    \n",
    "    for i in range(len(answers)):\n",
    "        s1 = i%5\n",
    "        s2 = i%8\n",
    "        s3 = i%10\n",
    "    \n",
    "        if a1[s1] == answers[i]:\n",
    "            c1+=1\n",
    "        if a2[s2] == answers[i]:\n",
    "            c2+=1\n",
    "        if a3[s3] == answers[i]:\n",
    "            c3+=1\n",
    "    \n",
    "    k = max(c1,c2,c3)\n",
    "    answer=[]\n",
    "    \n",
    "    if k==c1:\n",
    "        answer.append(1)\n",
    "    if k==c2:\n",
    "        answer.append(2)\n",
    "    if k==c3:\n",
    "        answer.append(3)\n",
    "\n",
    "    return answer\n",
    "\n",
    "answers=[1,2,3,4,5]\n",
    "solution(answers)"
   ]
  },
  {
   "cell_type": "code",
   "execution_count": 62,
   "metadata": {},
   "outputs": [
    {
     "data": {
      "text/plain": [
       "[1]"
      ]
     },
     "execution_count": 62,
     "metadata": {},
     "output_type": "execute_result"
    }
   ],
   "source": [
    "def solution(answers):\n",
    "    pattern1 =[1,2,3,4,5]\n",
    "    pattern2 = [2,1,2,3,2,4,2,5]\n",
    "    pattern3 = [3,3,1,1,2,2,4,4,5,5]\n",
    "    score = [0,0,0]\n",
    "    answer=[]\n",
    "    \n",
    "#enumerate - 반복문 사용 시 몇 번째 반복문인지 확인이 필요할 수 있습니다. 이때 사용합니다.\n",
    "#인덱스 번호와 컬렉션의 원소를 tuple형태로 반환합니다.    \n",
    "\n",
    "    for idx, answer_ in enumerate(answers):\n",
    "        if answer_ == pattern1[idx%len(pattern1)]:\n",
    "            score[0]+=1\n",
    "        if answer_ == pattern2[idx%len(pattern2)]:\n",
    "            score[1]+=1\n",
    "        if answer_ == pattern2[idx%len(pattern3)]:\n",
    "            score[2]+=1\n",
    "    \n",
    "    k = max(score)\n",
    "    for ix, sc in enumerate(score):\n",
    "        if sc == k:\n",
    "            answer.append(ix+1) \n",
    "# append에는 변수가 숫자인것이 들어갈 수 없음.\n",
    "#(반복문에 들어가는 변수랑 바깥의 변수랑 이름을 똑같이 했을 때, 이런 오류가 발생한다. 그러므로 변수명을 달리 해주면 이런 오류가 발생 안한다.)\n",
    "            \n",
    "    return answer\n",
    "answers=[1,2,3,4,5]\n",
    "solution(answers)"
   ]
  },
  {
   "cell_type": "code",
   "execution_count": 48,
   "metadata": {},
   "outputs": [
    {
     "name": "stdout",
     "output_type": "stream",
     "text": [
      "[1, 4]\n",
      "[2, 2, 2]\n"
     ]
    }
   ],
   "source": [
    "list_ = [[1, 4], [2, 2], [3, 2]]\n",
    "count = []\n",
    "print(list_[0])\n",
    "\n",
    "for idx, r in enumerate(list_):\n",
    "    count.append(len(r))\n",
    "\n",
    "print(count)"
   ]
  },
  {
   "cell_type": "markdown",
   "metadata": {},
   "source": [
    "## 완전탐색(2번) 소수 찾기"
   ]
  },
  {
   "cell_type": "code",
   "execution_count": 44,
   "metadata": {},
   "outputs": [
    {
     "data": {
      "text/plain": [
       "False"
      ]
     },
     "execution_count": 44,
     "metadata": {},
     "output_type": "execute_result"
    }
   ],
   "source": [
    "#소수인지 아닌지 판별하는 코드\n",
    "\n",
    "def prime(numbers):\n",
    "    count =0\n",
    "    for i in range(2,numbers):\n",
    "        if(numbers % i==0):\n",
    "            count +=1\n",
    "    \n",
    "    if(count==0):\n",
    "        return True\n",
    "    else:\n",
    "        return False\n",
    "    \n",
    "numbers = 4\n",
    "prime(numbers)"
   ]
  },
  {
   "cell_type": "code",
   "execution_count": 46,
   "metadata": {},
   "outputs": [],
   "source": [
    "#인자로 받은 리스트에서 소수 개수를 측정하는 함수\n",
    "def count_prime(numbers):\n",
    "    prime_list=[]\n",
    "    for n in numbers:\n",
    "        count=0\n",
    "        for i in range(2, n): #2부터 n-1까지 나누었을 때 나머지가 0인 것은 소수가 아님\n",
    "            if(n % i ==0):\n",
    "                count +=1\n",
    "        if n>1 and count ==0: #나누어떨어지는게 없고 0,1이 아니면 소수 리스트에 추가\n",
    "            prime_list.append(n)\n",
    "    return len(prime_list)  #소수 리스트 개수를 리턴."
   ]
  },
  {
   "cell_type": "code",
   "execution_count": 45,
   "metadata": {},
   "outputs": [],
   "source": [
    "# n까지의 숫자 중 소수 골라내는 코드\n",
    "def prime_number(n):\n",
    "    a = [False, False] +[True]*(n-1)\n",
    "    primes =[]\n",
    "\n",
    "    for i in range(2, n+1):\n",
    "        if a[i]:\n",
    "            primes.append(i)\n",
    "            for j in range(2*i, n+1, i):\n",
    "                a[j] = False\n",
    "    return primes"
   ]
  },
  {
   "cell_type": "code",
   "execution_count": 59,
   "metadata": {},
   "outputs": [
    {
     "name": "stdout",
     "output_type": "stream",
     "text": [
      "<itertools.permutations object at 0x106416b30>\n",
      "0\n",
      "1\n",
      "1\n",
      "<itertools.permutations object at 0x106416e90>\n",
      "01\n",
      "01\n",
      "10\n",
      "11\n",
      "10\n",
      "11\n",
      "<itertools.permutations object at 0x10641c1d0>\n",
      "011\n",
      "011\n",
      "101\n",
      "110\n",
      "101\n",
      "110\n",
      "[0, 1, 101, 10, 11, 110]\n"
     ]
    },
    {
     "data": {
      "text/plain": [
       "2"
      ]
     },
     "execution_count": 59,
     "metadata": {},
     "output_type": "execute_result"
    }
   ],
   "source": [
    "from itertools import permutations\n",
    "\n",
    "#인자로 받은 리스트에서 소수 개수를 측정하는 함수\n",
    "def count_prime(num_case):\n",
    "    prime_list=[]\n",
    "    for n in num_case:\n",
    "        count=0\n",
    "        for i in range(2, n): #2부터 n-1까지 나누었을 때 나머지가 0인 것은 소수가 아님\n",
    "            if(n % i ==0):\n",
    "                count +=1\n",
    "                break #하나라도 나누어 떨어지는 것이 있으면 break.\n",
    "        if n>1 and count ==0: #나누어떨어지는게 없고 0,1이 아니면 소수 리스트에 추가\n",
    "            prime_list.append(n)\n",
    "    return len(prime_list)  #소수 리스트 개수를 리턴.\n",
    "\n",
    "def solution(numbers):\n",
    "    num_case = []\n",
    "    for i in range(1, len(numbers)+1):\n",
    "        tmp = permutations(numbers,i)\n",
    "        print(tmp)\n",
    "        for n in tmp:\n",
    "            tmp_str = \"\".join(n)\n",
    "            print(tmp_str)\n",
    "            num_case.append(int(tmp_str))\n",
    "    num_case = list(set(num_case))\n",
    "    print(num_case)\n",
    "    return count_prime(num_case)\n",
    "\n",
    "numbers=\"011\"\n",
    "solution(numbers)"
   ]
  },
  {
   "cell_type": "markdown",
   "metadata": {},
   "source": [
    "## 완전탐색 3번 카펫"
   ]
  },
  {
   "cell_type": "code",
   "execution_count": 1,
   "metadata": {},
   "outputs": [
    {
     "data": {
      "text/plain": [
       "[4, 3]"
      ]
     },
     "execution_count": 1,
     "metadata": {},
     "output_type": "execute_result"
    }
   ],
   "source": [
    "def solution(brown, yellow):\n",
    "    # a는 가로 길이, b는 세로 길이 (전체 카펫의 크기= a*b) 안의 사각형 갯수: (a-2)(b-2), 즉,       brown = 2(a+b-2), yellow =(a-2)(b-2)\n",
    "    # 문제 풀이시, 중요 포인트는 ..? 항상 신경 써야 하는 것은 매개변수로부터 시작.\n",
    "    answer = []\n",
    "    a=3 #어차피 3부터 시작할 수 밖에 없음. 노란 상자가 최소한 한 개 이상이어야 하므로.\n",
    "    while True:\n",
    "        b = (yellow/(a-2))+2\n",
    "        if b == int(b):\n",
    "            b = int(b)\n",
    "            if 2*(a+b-2) == brown: #앞에서 yellow로 시작했으니 여기서는 brown으로 한 번 더 계산하므로 교집합을 찾는다.\n",
    "                if a<b:\n",
    "                    a,b=b,a\n",
    "                return [a,b]\n",
    "        a+=1\n",
    "       \n",
    "    return answer\n",
    "\n",
    "brown = 10\n",
    "yellow =2\n",
    "solution(brown,yellow)"
   ]
  },
  {
   "cell_type": "markdown",
   "metadata": {},
   "source": [
    "## 해시 1번 완주하지 못한 선수"
   ]
  },
  {
   "cell_type": "code",
   "execution_count": 2,
   "metadata": {},
   "outputs": [
    {
     "data": {
      "text/plain": [
       "'leo'"
      ]
     },
     "execution_count": 2,
     "metadata": {},
     "output_type": "execute_result"
    }
   ],
   "source": [
    "def solution(participant, completion):\n",
    "    '''answer = ''\n",
    "    new = participant\n",
    "    for i in range(len(participant)):\n",
    "        for j in range(len(completion)):\n",
    "            if (participant[i] = completion[j]):\n",
    "                del new[i]\n",
    "    new = answer  --> list out of index 오류가 뜸, 왜 그러지?'''\n",
    "    \n",
    "    participant = sorted(participant) #sorted를 해준 것은 비교를 수월하게 선형탐색으로 하기 위해\n",
    "    completion = sorted(completion) #sorted를 해준 것은 비교를 수월하게 선형탐색으로 하기 위해\n",
    "    answer = participant[len(participant)-1] #어차피 지금 하나만 추출하는거니깐 마지막을 뽑기 위한 설정. 하나가 아니면 이렇게 하면 안됨.\n",
    "    \n",
    "    for i in range(len(completion)):\n",
    "        if participant[i] != completion[i]:\n",
    "            answer = participant[i]\n",
    "            break;\n",
    "    return answer\n",
    "\n",
    "participant = [\"leo\",\"kiki\",\"eden\"]\n",
    "completion = [\"eden\",\"kiki\"]\n",
    "\n",
    "solution(participant, completion)"
   ]
  },
  {
   "cell_type": "code",
   "execution_count": 3,
   "metadata": {},
   "outputs": [
    {
     "data": {
      "text/plain": [
       "'leo'"
      ]
     },
     "execution_count": 3,
     "metadata": {},
     "output_type": "execute_result"
    }
   ],
   "source": [
    "# 다른 풀이 (collections 라이브러리 활용)\n",
    "\n",
    "import collections\n",
    "\n",
    "def solution(participant, completion):\n",
    "    answer = collections.Counter(participant) - collections.Counter(completion)\n",
    "    return list(answer.keys())[0]\n",
    "\n",
    "participant = [\"leo\",\"kiki\",\"eden\"]\n",
    "completion = [\"eden\",\"kiki\"]\n",
    "\n",
    "solution(participant, completion)\n",
    "#선수 이름별 사람 수를 세어 계산."
   ]
  },
  {
   "cell_type": "code",
   "execution_count": 4,
   "metadata": {},
   "outputs": [
    {
     "name": "stdout",
     "output_type": "stream",
     "text": [
      "10759072767050280363\n",
      "7797275476557179726\n"
     ]
    },
    {
     "data": {
      "text/plain": [
       "'leo'"
      ]
     },
     "execution_count": 4,
     "metadata": {},
     "output_type": "execute_result"
    }
   ],
   "source": [
    "def solution(participant, completion):\n",
    "    answer =''\n",
    "    temp = 0\n",
    "    dic = {}\n",
    "    for part in participant:\n",
    "        dic[hash(part)] = part\n",
    "        temp += int(hash(part))\n",
    "    print(temp)\n",
    "    for com in completion:\n",
    "        temp -= hash(com)\n",
    "    print(temp)\n",
    "    answer = dic[temp]\n",
    "    \n",
    "    return answer\n",
    "\n",
    "participant = [\"leo\",\"kiki\",\"eden\"]\n",
    "completion = [\"eden\",\"kiki\"]\n",
    "\n",
    "solution(participant, completion)\n",
    "#hash를 통해, 각 선수 이름별 유일한 숫자로 매칭하여, participant합과 completion합의 차이를 이용"
   ]
  },
  {
   "cell_type": "code",
   "execution_count": null,
   "metadata": {},
   "outputs": [],
   "source": []
  }
 ],
 "metadata": {
  "kernelspec": {
   "display_name": "Python 3",
   "language": "python",
   "name": "python3"
  },
  "language_info": {
   "codemirror_mode": {
    "name": "ipython",
    "version": 3
   },
   "file_extension": ".py",
   "mimetype": "text/x-python",
   "name": "python",
   "nbconvert_exporter": "python",
   "pygments_lexer": "ipython3",
   "version": "3.7.4"
  }
 },
 "nbformat": 4,
 "nbformat_minor": 4
}
