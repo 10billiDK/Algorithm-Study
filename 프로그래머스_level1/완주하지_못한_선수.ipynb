{
 "cells": [
  {
   "cell_type": "code",
   "execution_count": 1,
   "metadata": {},
   "outputs": [],
   "source": [
    "# 참가자 중에는 동명이인이 있을 수 있습니다. --> 이게 키 포인트.\n",
    "# 첫번째로 시도한 풀이 --> 이중 for문으로 participant만을 골라내봄. 왜 이렇게 풀었을때 두번째 케이스가 틀리게 나오는가...\n",
    "\n",
    "'''def solution(participant, completion):\n",
    "    for i in sorted(participant):\n",
    "        for j in sorted(completion):   \n",
    "            if i==j:\n",
    "                participant.remove(i)\n",
    "                return participant[0]'''\n",
    "\n",
    "'''# 두번째로 시도한 풀이 --> zip 활용. zip은 동일한 개수로 이뤄진 두 자료형을 순서대로 짝지어 튜플로 묶어주는 함수다.\n",
    "def solution(participant, completion):\n",
    "    participant.sort()\n",
    "    completion.sort()\n",
    "    for par, com in zip(participant,completion):\n",
    "        if par!=com:\n",
    "            return par #동명이인이 있다면, zip 안에 있는 값이 다른 것이 있기 때문에 그 다른 것들 중 하나가 답이 되거나\n",
    "    return participant[-1] #zip 안에 짝지어진 값이 모두 같거나, 중복된 것이 맨 뒤에 정렬됐다면 길이가 하나 차이 나는 participant의 마지막 값이 답이 된다.'''\n",
    "\n",
    "import collections\n",
    "def solution(participant, completion):\n",
    "    answer=collections.Counter(participant)-collections.Counter(completion)\n",
    "    return list(answer.keys())[0]"
   ]
  },
  {
   "cell_type": "code",
   "execution_count": null,
   "metadata": {},
   "outputs": [],
   "source": []
  }
 ],
 "metadata": {
  "kernelspec": {
   "display_name": "Python 3",
   "language": "python",
   "name": "python3"
  },
  "language_info": {
   "codemirror_mode": {
    "name": "ipython",
    "version": 3
   },
   "file_extension": ".py",
   "mimetype": "text/x-python",
   "name": "python",
   "nbconvert_exporter": "python",
   "pygments_lexer": "ipython3",
   "version": "3.7.4"
  }
 },
 "nbformat": 4,
 "nbformat_minor": 4
}
