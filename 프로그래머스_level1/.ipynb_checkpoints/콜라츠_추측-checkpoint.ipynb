{
 "cells": [
  {
   "cell_type": "code",
   "execution_count": 1,
   "metadata": {},
   "outputs": [],
   "source": [
    "def solution(num):\n",
    "    answer = 0\n",
    "    if num ==1:\n",
    "        return 0\n",
    "    \n",
    "    while True:\n",
    "        if answer == 500:\n",
    "            return -1\n",
    "        elif num %2 ==0:\n",
    "            num = num/2\n",
    "            answer +=1\n",
    "        elif num ==1:\n",
    "            return answer\n",
    "        elif num %2 !=0:\n",
    "            num = num*3+1\n",
    "            answer +=1\n",
    "        elif num ==1:\n",
    "            return answer"
   ]
  },
  {
   "cell_type": "code",
   "execution_count": null,
   "metadata": {},
   "outputs": [],
   "source": []
  }
 ],
 "metadata": {
  "kernelspec": {
   "display_name": "Python 3",
   "language": "python",
   "name": "python3"
  },
  "language_info": {
   "codemirror_mode": {
    "name": "ipython",
    "version": 3
   },
   "file_extension": ".py",
   "mimetype": "text/x-python",
   "name": "python",
   "nbconvert_exporter": "python",
   "pygments_lexer": "ipython3",
   "version": "3.7.4"
  }
 },
 "nbformat": 4,
 "nbformat_minor": 4
}
