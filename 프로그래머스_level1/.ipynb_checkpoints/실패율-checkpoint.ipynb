{
 "cells": [
  {
   "cell_type": "code",
   "execution_count": 1,
   "metadata": {},
   "outputs": [],
   "source": [
    "# 신규 사용자와 기존 사용자 사이에 스테이지 차이가 너무 커서 신규 사용자의 수가 급감함\n",
    "# 실패율을 구하는 코드 완성\n",
    "# 스테이지에 도달했으나 아직 클리어하지 못한 플레이어의 수/ 스테이지에 도달한 플레이어 수\n",
    "# 전체 스테이지 갯수 N, 게임을 이용하는 사용자가 현재 멈춰있는 스테이지의 번호가 담긴 배열 stages가 매개변수로 주어질때, 실패율이 높은 스테이지부터 내림차순으로 스테이지의 번호가 담겨있는 배열 리턴.\n",
    "# 만약 실패율이 같은 스테이지가 있다면 작은 번호의 스테이지가 먼저 오도록 하면 된다.\n",
    "# 스테이지에 도달한 유저가 없는 경우, 해당 스테이지의 실패율은 0으로 정의.\n",
    "'''def solution(N, stages):\n",
    "    k= len(stages)\n",
    "    s = []\n",
    "    stages.sort()\n",
    "    print(stages)\n",
    "    for i in range(1,N+1):\n",
    "        c=0\n",
    "        for j in range(k):\n",
    "            if stages[j]==i:\n",
    "                c+=1\n",
    "        if c==0:\n",
    "            s.append(0)\n",
    "        else:\n",
    "            s.append(c/k)\n",
    "        k = k -c\n",
    "    a = sorted(s, reverse=True)\n",
    "    answer=[]\n",
    "    return a'''\n",
    "\n",
    "'''def solution(N,stages):\n",
    "    k = len(stages)\n",
    "    s=[]\n",
    "    for i in range(1,N+1):\n",
    "        c=0\n",
    "        for j in range(len(stages)):\n",
    "            if stages[j] ==i:\n",
    "                c+=1\n",
    "        if c==0:\n",
    "            s.append(0)\n",
    "        else:\n",
    "            s.append(c/k)\n",
    "        k=k-c\n",
    "    a=sorted(s,reverse=True)\n",
    "    answer=[]\n",
    "    \n",
    "    for i in range(len(a)): # 이 부분 이해가 안감\n",
    "        answer.append(s.index(a[i])+1)\n",
    "        s[s.index(a[i])]=2\n",
    "    return answer'''\n",
    "\n",
    "def solution(N,stages):\n",
    "    fail_rate={}\n",
    "    total_user = len(stages)\n",
    "    \n",
    "    for stage in range(1,N+1):\n",
    "        if total_user !=0:\n",
    "            fail_user = stages.count(stage) # 스테이지 번호하고 같으면 도달은 하였으나 클리어하지 못한 플레이어기 때문에\n",
    "            print(fail_user)\n",
    "            fail_rate[stage] = fail_user/ total_user\n",
    "            total_user -= fail_user #스테이지 번호하고 같거나 커야 스테이지에 도달한 플레이어이기 때문에 단계마다 스테이지에 도달한 플레이어수를 구한다.\n",
    "        else:\n",
    "            fail_rate[stage]=0\n",
    "    return sorted(fail_rate, key = lambda x: fail_rate[x],reverse=True)"
   ]
  },
  {
   "cell_type": "code",
   "execution_count": null,
   "metadata": {},
   "outputs": [],
   "source": []
  }
 ],
 "metadata": {
  "kernelspec": {
   "display_name": "Python 3",
   "language": "python",
   "name": "python3"
  },
  "language_info": {
   "codemirror_mode": {
    "name": "ipython",
    "version": 3
   },
   "file_extension": ".py",
   "mimetype": "text/x-python",
   "name": "python",
   "nbconvert_exporter": "python",
   "pygments_lexer": "ipython3",
   "version": "3.7.4"
  }
 },
 "nbformat": 4,
 "nbformat_minor": 4
}
