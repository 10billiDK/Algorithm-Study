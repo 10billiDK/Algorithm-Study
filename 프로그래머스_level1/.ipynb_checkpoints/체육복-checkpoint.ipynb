{
 "cells": [
  {
   "cell_type": "code",
   "execution_count": 1,
   "metadata": {},
   "outputs": [],
   "source": [
    "# 체육복을 도난당한 친구들에게 체육복을 최대한 많이 빌려주기. 어떻게 빌려주기?\n",
    "# 결국은 n-lost임. 다만 이제 reserve에서 lost를 얼마나 많이 메꿔주냐.\n",
    "# lost에 있는 수를 +-1했을 때 그 수가 reserve에 있으면 reserve,lost에 있는 숫자를 빼준다.\n",
    "# 다만, lost리스트에서 -먼저 해볼것. +를 하면 적절히 분배가 안됨. \n",
    "## 중복 제외 --> 이걸 안해주면 테스트 오류뜸. 제한사항이므로 지켜줘야함\n",
    "def solution(n,lost,reserve):\n",
    "    reserve_set = set(reserve)- set(lost)\n",
    "    lost_set = set(lost)-set(reserve)\n",
    "    print(lost_set)\n",
    "    for i in reserve_set:\n",
    "        if  i-1 in lost_set:\n",
    "            lost_set.remove(i-1)\n",
    "        elif i+1 in lost_set:\n",
    "            lost_set.remove(i+1)\n",
    "    \n",
    "    answer = n-len(lost_set)\n",
    "    return answer"
   ]
  },
  {
   "cell_type": "code",
   "execution_count": null,
   "metadata": {},
   "outputs": [],
   "source": []
  }
 ],
 "metadata": {
  "kernelspec": {
   "display_name": "Python 3",
   "language": "python",
   "name": "python3"
  },
  "language_info": {
   "codemirror_mode": {
    "name": "ipython",
    "version": 3
   },
   "file_extension": ".py",
   "mimetype": "text/x-python",
   "name": "python",
   "nbconvert_exporter": "python",
   "pygments_lexer": "ipython3",
   "version": "3.7.4"
  }
 },
 "nbformat": 4,
 "nbformat_minor": 4
}
