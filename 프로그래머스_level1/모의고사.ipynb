{
 "cells": [
  {
   "cell_type": "code",
   "execution_count": 1,
   "metadata": {},
   "outputs": [],
   "source": [
    "# answers와 학생들의 답을 비교. 어떻게 비교할 것인가?\n",
    "# 학생들 각각의 리스트와 answer와 비교.\n",
    "# 얼마나 맞췄는지 그 개수가 카운팅 되는 리스트. 리스트에서 인덱싱+1\n",
    "def solution(answers):\n",
    "    student1 = [1,2,3,4,5]\n",
    "    student2 = [2,1,2,3,2,4,2,5]\n",
    "    student3 = [3,3,1,1,2,2,4,4,5,5]\n",
    "    cnt = [0,0,0]\n",
    "    for idx, ans in enumerate(answers):\n",
    "        answer=[]\n",
    "        if ans == student1[idx%len(student1)]:\n",
    "            cnt[0] +=1\n",
    "        if ans == student2[idx%len(student2)]:\n",
    "            cnt[1] +=1\n",
    "        if ans == student3[idx%len(student3)]:\n",
    "            cnt[2] +=1\n",
    "    k= max(cnt)\n",
    "    for idx, score in enumerate(cnt):\n",
    "        if k == score:\n",
    "            answer.append(idx+1)\n",
    "    return answer"
   ]
  },
  {
   "cell_type": "code",
   "execution_count": null,
   "metadata": {},
   "outputs": [],
   "source": []
  }
 ],
 "metadata": {
  "kernelspec": {
   "display_name": "Python 3",
   "language": "python",
   "name": "python3"
  },
  "language_info": {
   "codemirror_mode": {
    "name": "ipython",
    "version": 3
   },
   "file_extension": ".py",
   "mimetype": "text/x-python",
   "name": "python",
   "nbconvert_exporter": "python",
   "pygments_lexer": "ipython3",
   "version": "3.7.4"
  }
 },
 "nbformat": 4,
 "nbformat_minor": 4
}
